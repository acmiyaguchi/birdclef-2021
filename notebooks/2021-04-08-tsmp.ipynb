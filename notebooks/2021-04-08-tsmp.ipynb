{
 "cells": [
  {
   "cell_type": "code",
   "execution_count": 3,
   "id": "ed26f861",
   "metadata": {},
   "outputs": [
    {
     "name": "stderr",
     "output_type": "stream",
     "text": [
      "Warning message:\n",
      "\"package 'RcppCNPy' was built under R version 4.0.5\"\n",
      "Warning message:\n",
      "\"package 'tsmp' was built under R version 4.0.5\"\n",
      "Welcome to Matrix Profile\n",
      "\n",
      "\n",
      "Attaching package: 'tsmp'\n",
      "\n",
      "\n",
      "The following object is masked from 'package:base':\n",
      "\n",
      "    write\n",
      "\n",
      "\n"
     ]
    }
   ],
   "source": [
    "library(RcppCNPy)\n",
    "library(tsmp)"
   ]
  },
  {
   "cell_type": "code",
   "execution_count": 4,
   "id": "2e7639b4",
   "metadata": {},
   "outputs": [
    {
     "data": {
      "image/png": "[encoded data removed]",
      "text/plain": [
       "Plot with title \"Matrix Profile (w = 41; ez = 0.5)\""
      ]
     },
     "metadata": {
      "image/png": {
       "height": 420,
       "width": 420
      }
     },
     "output_type": "display_data"
    }
   ],
   "source": [
    "fmat <- npyLoad(\"../data/cens/train_short_audio/acafly/XC109605.npy\")\n",
    "smp <- simple_fast(t(fmat), window_size=41, verbose=0)\n",
    "plot(smp)"
   ]
  },
  {
   "cell_type": "code",
   "execution_count": 5,
   "id": "d55de43f",
   "metadata": {},
   "outputs": [
    {
     "data": {
      "text/html": [
       "<style>\n",
       ".list-inline {list-style: none; margin:0; padding: 0}\n",
       ".list-inline>li {display: inline-block}\n",
       ".list-inline>li:not(:last-child)::after {content: \"\\00b7\"; padding: 0 .5ex}\n",
       "</style>\n",
       "<ol class=list-inline><li>606</li><li>1</li></ol>\n"
      ],
      "text/latex": [
       "\\begin{enumerate*}\n",
       "\\item 606\n",
       "\\item 1\n",
       "\\end{enumerate*}\n"
      ],
      "text/markdown": [
       "1. 606\n",
       "2. 1\n",
       "\n",
       "\n"
      ],
      "text/plain": [
       "[1] 606   1"
      ]
     },
     "metadata": {},
     "output_type": "display_data"
    },
    {
     "data": {
      "text/html": [
       "<style>\n",
       ".list-inline {list-style: none; margin:0; padding: 0}\n",
       ".list-inline>li {display: inline-block}\n",
       ".list-inline>li:not(:last-child)::after {content: \"\\00b7\"; padding: 0 .5ex}\n",
       "</style>\n",
       "<ol class=list-inline><li>606</li><li>1</li></ol>\n"
      ],
      "text/latex": [
       "\\begin{enumerate*}\n",
       "\\item 606\n",
       "\\item 1\n",
       "\\end{enumerate*}\n"
      ],
      "text/markdown": [
       "1. 606\n",
       "2. 1\n",
       "\n",
       "\n"
      ],
      "text/plain": [
       "[1] 606   1"
      ]
     },
     "metadata": {},
     "output_type": "display_data"
    }
   ],
   "source": [
    "dim(smp$mp)\n",
    "dim(smp$pi)"
   ]
  },
  {
   "cell_type": "code",
   "execution_count": 29,
   "id": "1327360a",
   "metadata": {},
   "outputs": [
    {
     "ename": "ERROR",
     "evalue": "Error in UseMethod(\"find_motif\", .mp): no applicable method for 'find_motif' applied to an object of class \"SimpleMatrixProfile\"\n",
     "output_type": "error",
     "traceback": [
      "Error in UseMethod(\"find_motif\", .mp): no applicable method for 'find_motif' applied to an object of class \"SimpleMatrixProfile\"\nTraceback:\n",
      "1. find_motif(smp)"
     ]
    }
   ],
   "source": [
    "find_motif(smp)"
   ]
  }
 ],
 "metadata": {
  "kernelspec": {
   "display_name": "R",
   "language": "R",
   "name": "ir"
  },
  "language_info": {
   "codemirror_mode": "r",
   "file_extension": ".r",
   "mimetype": "text/x-r-source",
   "name": "R",
   "pygments_lexer": "r",
   "version": "4.0.2"
  }
 },
 "nbformat": 4,
 "nbformat_minor": 5
}
