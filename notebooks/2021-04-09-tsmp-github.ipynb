{
 "cells": [
  {
   "cell_type": "markdown",
   "id": "8faf3050",
   "metadata": {},
   "source": [
    "This notebook had an installation from my fork of tsmp, but I ended up just going for the simplest posisble thing here."
   ]
  },
  {
   "cell_type": "code",
   "execution_count": 1,
   "id": "6be72118",
   "metadata": {},
   "outputs": [
    {
     "name": "stderr",
     "output_type": "stream",
     "text": [
      "Warning message:\n",
      "\"package 'RcppCNPy' was built under R version 4.0.5\"\n",
      "Warning message:\n",
      "\"package 'tsmp' was built under R version 4.0.5\"\n",
      "Welcome to Matrix Profile\n",
      "\n",
      "\n",
      "Attaching package: 'tsmp'\n",
      "\n",
      "\n",
      "The following object is masked from 'package:base':\n",
      "\n",
      "    write\n",
      "\n",
      "\n"
     ]
    }
   ],
   "source": [
    "library(RcppCNPy)\n",
    "library(tsmp)"
   ]
  },
  {
   "cell_type": "code",
   "execution_count": 60,
   "id": "53eaa625",
   "metadata": {},
   "outputs": [
    {
     "data": {
      "image/png": "[encoded data removed]",
      "text/plain": [
       "Plot with title \"Matrix Profile (w = 50; ez = 0.5)\""
      ]
     },
     "metadata": {
      "image/png": {
       "height": 420,
       "width": 420
      }
     },
     "output_type": "display_data"
    }
   ],
   "source": [
    "fmat <- npyLoad(\"../data/cens/train_short_audio/acafly/XC109605.npy\")\n",
    "data <- fmat\n",
    "smp <- simple_fast(data, window_size=50, verbose=0)\n",
    "plot(smp)"
   ]
  },
  {
   "cell_type": "code",
   "execution_count": 61,
   "id": "b161d52b",
   "metadata": {},
   "outputs": [
    {
     "data": {
      "text/plain": [
       "SiMPle Matrix Profile\n",
       "---------------------\n",
       "Profile size = 597 \n",
       "Dimensions = 12 \n",
       "Window size = 50 \n",
       "Exclusion zone = 25 "
      ]
     },
     "metadata": {},
     "output_type": "display_data"
    }
   ],
   "source": [
    "smp"
   ]
  },
  {
   "cell_type": "code",
   "execution_count": 62,
   "id": "2365b362",
   "metadata": {},
   "outputs": [
    {
     "data": {
      "text/html": [
       "<style>\n",
       ".list-inline {list-style: none; margin:0; padding: 0}\n",
       ".list-inline>li {display: inline-block}\n",
       ".list-inline>li:not(:last-child)::after {content: \"\\00b7\"; padding: 0 .5ex}\n",
       "</style>\n",
       "<ol class=list-inline><li>12</li><li>646</li></ol>\n"
      ],
      "text/latex": [
       "\\begin{enumerate*}\n",
       "\\item 12\n",
       "\\item 646\n",
       "\\end{enumerate*}\n"
      ],
      "text/markdown": [
       "1. 12\n",
       "2. 646\n",
       "\n",
       "\n"
      ],
      "text/plain": [
       "[1]  12 646"
      ]
     },
     "metadata": {},
     "output_type": "display_data"
    }
   ],
   "source": [
    "dim(data)"
   ]
  },
  {
   "cell_type": "code",
   "execution_count": 63,
   "id": "05b0be21",
   "metadata": {},
   "outputs": [
    {
     "data": {
      "text/html": [
       "59"
      ],
      "text/latex": [
       "59"
      ],
      "text/markdown": [
       "59"
      ],
      "text/plain": [
       "[1] 59"
      ]
     },
     "metadata": {},
     "output_type": "display_data"
    }
   ],
   "source": [
    "apply(smp$mp, 2, which.min)"
   ]
  },
  {
   "cell_type": "code",
   "execution_count": 64,
   "id": "442ac147",
   "metadata": {},
   "outputs": [
    {
     "data": {
      "text/plain": [
       "SiMPle Matrix Profile\n",
       "---------------------\n",
       "Profile size = 597 \n",
       "Dimensions = 12 \n",
       "Window size = 50 \n",
       "Exclusion zone = 25 "
      ]
     },
     "metadata": {},
     "output_type": "display_data"
    }
   ],
   "source": [
    "smp"
   ]
  },
  {
   "cell_type": "code",
   "execution_count": 91,
   "id": "fdf7b9d5",
   "metadata": {},
   "outputs": [
    {
     "name": "stdout",
     "output_type": "stream",
     "text": [
      "[59,101]"
     ]
    }
   ],
   "source": [
    "min_val <- min_mp_idx(smp)\n",
    "cat(\"[\", min_val[1], \", \", min_val[2], \"]\", sep=\"\")"
   ]
  },
  {
   "cell_type": "code",
   "execution_count": 66,
   "id": "03f1f99b",
   "metadata": {},
   "outputs": [
    {
     "data": {
      "image/png": "[encoded data removed]",
      "text/plain": [
       "Plot with title \"Matrix Profile (w = 50; ez = 0.5)\""
      ]
     },
     "metadata": {
      "image/png": {
       "height": 420,
       "width": 420
      }
     },
     "output_type": "display_data"
    }
   ],
   "source": [
    "plot(smp)"
   ]
  },
  {
   "cell_type": "code",
   "execution_count": 81,
   "id": "7bf51675",
   "metadata": {},
   "outputs": [
    {
     "ename": "ERROR",
     "evalue": "Error in last_product[1:(data_size - window_size), j]: subscript out of bounds\n",
     "output_type": "error",
     "traceback": [
      "Error in last_product[1:(data_size - window_size), j]: subscript out of bounds\nTraceback:\n",
      "1. simple_fast(as.data.frame(data), as.data.frame(query), window_size = 4)"
     ]
    }
   ],
   "source": [
    "query <- data[,59:108]\n",
    "simple_fast(as.data.frame(data), as.data.frame(query), window_size=4)"
   ]
  },
  {
   "cell_type": "code",
   "execution_count": 74,
   "id": "065dd53b",
   "metadata": {},
   "outputs": [
    {
     "data": {
      "text/html": [
       "646"
      ],
      "text/latex": [
       "646"
      ],
      "text/markdown": [
       "646"
      ],
      "text/plain": [
       "[1] 646"
      ]
     },
     "metadata": {},
     "output_type": "display_data"
    }
   ],
   "source": [
    "nrow(t(data))"
   ]
  }
 ],
 "metadata": {
  "kernelspec": {
   "display_name": "R",
   "language": "R",
   "name": "ir"
  },
  "language_info": {
   "codemirror_mode": "r",
   "file_extension": ".r",
   "mimetype": "text/x-r-source",
   "name": "R",
   "pygments_lexer": "r",
   "version": "4.0.2"
  }
 },
 "nbformat": 4,
 "nbformat_minor": 5
}
