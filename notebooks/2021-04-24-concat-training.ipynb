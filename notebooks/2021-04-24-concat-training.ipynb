{
 "cells": [
  {
   "cell_type": "code",
   "execution_count": 1,
   "id": "e9101600",
   "metadata": {},
   "outputs": [],
   "source": [
    "from pathlib import Path\n",
    "import pandas as pd\n",
    "\n",
    "dfs = []\n",
    "for path in Path(\"../data/extract_training_v2\").glob(\"**/train.pkl.gz\"):\n",
    "    df = pd.read_pickle(path)\n",
    "    dfs.append(df)"
   ]
  },
  {
   "cell_type": "code",
   "execution_count": 4,
   "id": "eca447a4",
   "metadata": {},
   "outputs": [
    {
     "data": {
      "text/html": [
       "<div>\n",
       "<style scoped>\n",
       "    .dataframe tbody tr th:only-of-type {\n",
       "        vertical-align: middle;\n",
       "    }\n",
       "\n",
       "    .dataframe tbody tr th {\n",
       "        vertical-align: top;\n",
       "    }\n",
       "\n",
       "    .dataframe thead th {\n",
       "        text-align: right;\n",
       "    }\n",
       "</style>\n",
       "<table border=\"1\" class=\"dataframe\">\n",
       "  <thead>\n",
       "    <tr style=\"text-align: right;\">\n",
       "      <th></th>\n",
       "      <th>name</th>\n",
       "      <th>parent</th>\n",
       "      <th>cens_slice</th>\n",
       "      <th>index</th>\n",
       "    </tr>\n",
       "  </thead>\n",
       "  <tbody>\n",
       "    <tr>\n",
       "      <th>0</th>\n",
       "      <td>XC109605</td>\n",
       "      <td>acafly</td>\n",
       "      <td>[[0.3086012466109237, 0.30568218743577036, 0.3...</td>\n",
       "      <td>(25, 75)</td>\n",
       "    </tr>\n",
       "    <tr>\n",
       "      <th>0</th>\n",
       "      <td>XC109605</td>\n",
       "      <td>acafly</td>\n",
       "      <td>[[0.37812375487169103, 0.3725999263434882, 0.3...</td>\n",
       "      <td>(157, 207)</td>\n",
       "    </tr>\n",
       "    <tr>\n",
       "      <th>0</th>\n",
       "      <td>XC109605</td>\n",
       "      <td>acafly</td>\n",
       "      <td>[[0.38193222855739883, 0.3810666924182529, 0.3...</td>\n",
       "      <td>(260, 310)</td>\n",
       "    </tr>\n",
       "    <tr>\n",
       "      <th>0</th>\n",
       "      <td>XC109605</td>\n",
       "      <td>acafly</td>\n",
       "      <td>[[0.3523993330368658, 0.3480284909351147, 0.34...</td>\n",
       "      <td>(324, 374)</td>\n",
       "    </tr>\n",
       "    <tr>\n",
       "      <th>0</th>\n",
       "      <td>XC109605</td>\n",
       "      <td>acafly</td>\n",
       "      <td>[[0.3179275282653602, 0.3194400852268083, 0.32...</td>\n",
       "      <td>(361, 411)</td>\n",
       "    </tr>\n",
       "    <tr>\n",
       "      <th>...</th>\n",
       "      <td>...</td>\n",
       "      <td>...</td>\n",
       "      <td>...</td>\n",
       "      <td>...</td>\n",
       "    </tr>\n",
       "    <tr>\n",
       "      <th>106</th>\n",
       "      <td>XC615888</td>\n",
       "      <td>yetvir</td>\n",
       "      <td>[[0.18971232995358134, 0.19082848328350097, 0....</td>\n",
       "      <td>(595, 645)</td>\n",
       "    </tr>\n",
       "    <tr>\n",
       "      <th>106</th>\n",
       "      <td>XC615888</td>\n",
       "      <td>yetvir</td>\n",
       "      <td>[[0.1929962989264588, 0.19485988261303921, 0.1...</td>\n",
       "      <td>(632, 682)</td>\n",
       "    </tr>\n",
       "    <tr>\n",
       "      <th>106</th>\n",
       "      <td>XC615888</td>\n",
       "      <td>yetvir</td>\n",
       "      <td>[[0.20337069218083287, 0.2066157903014966, 0.2...</td>\n",
       "      <td>(676, 726)</td>\n",
       "    </tr>\n",
       "    <tr>\n",
       "      <th>106</th>\n",
       "      <td>XC615888</td>\n",
       "      <td>yetvir</td>\n",
       "      <td>[[0.13793047666113847, 0.14002964178979865, 0....</td>\n",
       "      <td>(713, 763)</td>\n",
       "    </tr>\n",
       "    <tr>\n",
       "      <th>106</th>\n",
       "      <td>XC615888</td>\n",
       "      <td>yetvir</td>\n",
       "      <td>[[0.19380478201582932, 0.19412617153938413, 0....</td>\n",
       "      <td>(732, 782)</td>\n",
       "    </tr>\n",
       "  </tbody>\n",
       "</table>\n",
       "<p>630801 rows × 4 columns</p>\n",
       "</div>"
      ],
      "text/plain": [
       "         name  parent                                         cens_slice  \\\n",
       "0    XC109605  acafly  [[0.3086012466109237, 0.30568218743577036, 0.3...   \n",
       "0    XC109605  acafly  [[0.37812375487169103, 0.3725999263434882, 0.3...   \n",
       "0    XC109605  acafly  [[0.38193222855739883, 0.3810666924182529, 0.3...   \n",
       "0    XC109605  acafly  [[0.3523993330368658, 0.3480284909351147, 0.34...   \n",
       "0    XC109605  acafly  [[0.3179275282653602, 0.3194400852268083, 0.32...   \n",
       "..        ...     ...                                                ...   \n",
       "106  XC615888  yetvir  [[0.18971232995358134, 0.19082848328350097, 0....   \n",
       "106  XC615888  yetvir  [[0.1929962989264588, 0.19485988261303921, 0.1...   \n",
       "106  XC615888  yetvir  [[0.20337069218083287, 0.2066157903014966, 0.2...   \n",
       "106  XC615888  yetvir  [[0.13793047666113847, 0.14002964178979865, 0....   \n",
       "106  XC615888  yetvir  [[0.19380478201582932, 0.19412617153938413, 0....   \n",
       "\n",
       "          index  \n",
       "0      (25, 75)  \n",
       "0    (157, 207)  \n",
       "0    (260, 310)  \n",
       "0    (324, 374)  \n",
       "0    (361, 411)  \n",
       "..          ...  \n",
       "106  (595, 645)  \n",
       "106  (632, 682)  \n",
       "106  (676, 726)  \n",
       "106  (713, 763)  \n",
       "106  (732, 782)  \n",
       "\n",
       "[630801 rows x 4 columns]"
      ]
     },
     "execution_count": 4,
     "metadata": {},
     "output_type": "execute_result"
    }
   ],
   "source": [
    "res = pd.concat(dfs)\n",
    "res"
   ]
  },
  {
   "cell_type": "code",
   "execution_count": 7,
   "id": "f1a26f2e",
   "metadata": {},
   "outputs": [
    {
     "data": {
      "text/plain": [
       "<AxesSubplot:>"
      ]
     },
     "execution_count": 7,
     "metadata": {},
     "output_type": "execute_result"
    },
    {
     "data": {
      "image/png": "[encoded data removed]",
      "text/plain": [
       "<Figure size 432x288 with 1 Axes>"
      ]
     },
     "metadata": {
      "needs_background": "light"
     },
     "output_type": "display_data"
    }
   ],
   "source": [
    "res.groupby(\"parent\").count().name.hist()"
   ]
  },
  {
   "cell_type": "code",
   "execution_count": 9,
   "id": "5c73a215",
   "metadata": {},
   "outputs": [
    {
     "data": {
      "text/plain": [
       "43"
      ]
     },
     "execution_count": 9,
     "metadata": {},
     "output_type": "execute_result"
    }
   ],
   "source": [
    "res.groupby(\"parent\").count().name.min()"
   ]
  },
  {
   "cell_type": "code",
   "execution_count": 12,
   "id": "4bb4066e",
   "metadata": {},
   "outputs": [
    {
     "data": {
      "text/plain": [
       "<AxesSubplot:>"
      ]
     },
     "execution_count": 12,
     "metadata": {},
     "output_type": "execute_result"
    },
    {
     "data": {
      "image/png": "[encoded data removed]",
      "text/plain": [
       "<Figure size 432x288 with 1 Axes>"
      ]
     },
     "metadata": {
      "needs_background": "light"
     },
     "output_type": "display_data"
    }
   ],
   "source": [
    "import numpy as np\n",
    "\n",
    "np.log(res.groupby(\"parent\").count().name).hist()"
   ]
  },
  {
   "cell_type": "code",
   "execution_count": 15,
   "id": "23b5a663",
   "metadata": {},
   "outputs": [],
   "source": [
    "res.to_pickle(\"../data/train_cens.pkl.gz\")"
   ]
  }
 ],
 "metadata": {
  "kernelspec": {
   "display_name": "Python 3",
   "language": "python",
   "name": "python3"
  },
  "language_info": {
   "codemirror_mode": {
    "name": "ipython",
    "version": 3
   },
   "file_extension": ".py",
   "mimetype": "text/x-python",
   "name": "python",
   "nbconvert_exporter": "python",
   "pygments_lexer": "ipython3",
   "version": "3.8.9"
  }
 },
 "nbformat": 4,
 "nbformat_minor": 5
}
