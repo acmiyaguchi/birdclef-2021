{
 "cells": [
  {
   "cell_type": "code",
   "execution_count": 1,
   "id": "69737218",
   "metadata": {},
   "outputs": [
    {
     "data": {
      "text/html": [
       "\n",
       "            <div>\n",
       "                <p><b>SparkSession - in-memory</b></p>\n",
       "                \n",
       "        <div>\n",
       "            <p><b>SparkContext</b></p>\n",
       "\n",
       "            <p><a href=\"http://DESKTOP-A3EF5O5.mshome.net:4040\">Spark UI</a></p>\n",
       "\n",
       "            <dl>\n",
       "              <dt>Version</dt>\n",
       "                <dd><code>v3.1.2</code></dd>\n",
       "              <dt>Master</dt>\n",
       "                <dd><code>local[*]</code></dd>\n",
       "              <dt>AppName</dt>\n",
       "                <dd><code>pyspark-shell</code></dd>\n",
       "            </dl>\n",
       "        </div>\n",
       "        \n",
       "            </div>\n",
       "        "
      ],
      "text/plain": [
       "<pyspark.sql.session.SparkSession at 0x1e4879c58e0>"
      ]
     },
     "execution_count": 1,
     "metadata": {},
     "output_type": "execute_result"
    }
   ],
   "source": [
    "from pyspark.sql import SparkSession, functions as F\n",
    "import os\n",
    "import sys\n",
    "\n",
    "os.environ[\"PYSPARK_PYTHON\"] = sys.executable\n",
    "os.environ[\"PYSPARK_DRIVER_PYTHON\"] = sys.executable\n",
    "spark = (\n",
    "    SparkSession.builder\n",
    "    .config(\"spark.driver.memory\", \"20g\")\n",
    "    .config(\"spark.driver.cores\", \"12\")\n",
    "    .getOrCreate()\n",
    ")\n",
    "spark.conf.set(\"spark.sql.shuffle.partitions\", 64)\n",
    "spark.conf.set(\"spark.sql.execution.arrow.pyspark.enabled\", \"true\")\n",
    "spark"
   ]
  },
  {
   "cell_type": "code",
   "execution_count": 2,
   "id": "12b35f2c",
   "metadata": {},
   "outputs": [
    {
     "name": "stdout",
     "output_type": "stream",
     "text": [
      "birdclef-2021.zip\n",
      "sample_submission.csv\n",
      "test.csv\n",
      "test_soundscapes\n",
      "train_metadata.csv\n",
      "train_short_audio\n",
      "train_soundscape_labels.csv\n",
      "train_soundscapes\n"
     ]
    }
   ],
   "source": [
    "! ls ../data/input"
   ]
  },
  {
   "cell_type": "code",
   "execution_count": null,
   "id": "b579236b",
   "metadata": {},
   "outputs": [],
   "source": [
    "from pathlib import Path\n",
    "\n",
    "paths = [p.resolve().as_posix() for p in Path(\"../data/input/train_short_audio\").glob(\"**/*.ogg\")]\n",
    "df = spark.createDataFrame([dict(path=p) for p in paths]).cache()\n",
    "df.show(truncate=False, n=5)"
   ]
  },
  {
   "cell_type": "markdown",
   "id": "982623a3",
   "metadata": {},
   "source": [
    "TODO: read out parsed metadata using a UDF"
   ]
  },
  {
   "cell_type": "code",
   "execution_count": 4,
   "id": "ed632410",
   "metadata": {},
   "outputs": [
    {
     "data": {
      "text/plain": [
       "62874"
      ]
     },
     "execution_count": 4,
     "metadata": {},
     "output_type": "execute_result"
    }
   ],
   "source": [
    "df.count()"
   ]
  },
  {
   "cell_type": "code",
   "execution_count": 42,
   "id": "749e0e64",
   "metadata": {},
   "outputs": [],
   "source": [
    "import librosa\n",
    "import numpy as np\n",
    "from simple_mp.simple import simple_fast\n",
    "from birdclef.utils import cens_per_sec, compute_offset\n",
    "\n",
    "@F.udf(returnType=\"\"\"\n",
    "    struct<\n",
    "        mp: array<float>, \n",
    "        pi: array<short>,\n",
    "        motif_0: short,\n",
    "        motif_1: short,\n",
    "        duration_cens: short,\n",
    "        duration_seconds: float,\n",
    "        duration_samples: int\n",
    "    >\n",
    "\"\"\")\n",
    "def compute_simple(path, cens_sr=10, mp_window=50):\n",
    "    data, sample_rate = librosa.load(path)\n",
    "    cens = librosa.feature.chroma_cens(\n",
    "        data, sample_rate, hop_length=cens_per_sec(sample_rate, cens_sr)\n",
    "    )\n",
    "    # 5 second matrix profile window\n",
    "    mp, pi = simple_fast(cens, cens, mp_window)\n",
    "    motif = np.argmin(mp)\n",
    "    return dict(\n",
    "        mp=mp.tolist(), \n",
    "        pi=pi.tolist(),\n",
    "        motif_0=int(motif),\n",
    "        motif_1=int(pi[motif]),\n",
    "        duration_seconds=round(\n",
    "            librosa.get_duration(y=data, sr=sample_rate), 2\n",
    "        ),\n",
    "        duration_cens=cens.shape[1],\n",
    "        duration_samples=data.shape[0]\n",
    "    )"
   ]
  },
  {
   "cell_type": "code",
   "execution_count": 45,
   "id": "0ca3477e",
   "metadata": {},
   "outputs": [
    {
     "name": "stdout",
     "output_type": "stream",
     "text": [
      "-RECORD 0--------------------------------------------------------------------------------------------\n",
      " mp               | [0.61007583, 0.5870274, 0.56637144, 0.54786026, 0.5313231, 0.51626456, 0.5029... \n",
      " pi               | [471, 472, 473, 474, 475, 475, 476, 477, 478, 479, 479, 324, 325, 326, 327, 3... \n",
      " motif_0          | 100                                                                              \n",
      " motif_1          | 58                                                                               \n",
      " duration_cens    | 646                                                                              \n",
      " duration_seconds | 63.67                                                                            \n",
      " duration_samples | 1404025                                                                          \n",
      "only showing top 1 row\n",
      "\n"
     ]
    }
   ],
   "source": [
    "res = df.limit(20).select(compute_simple(\"path\").alias(\"data\")).select(\"data.*\")\n",
    "res.show(n=1, vertical=True, truncate=80)"
   ]
  },
  {
   "cell_type": "code",
   "execution_count": 46,
   "id": "a4736995",
   "metadata": {},
   "outputs": [],
   "source": [
    "(\n",
    "    df\n",
    "    .select(\"path\", compute_simple(\"path\").alias(\"data\"))\n",
    "    .select(\"path\", \"data.*\")\n",
    ").write.parquet(\"../data/motif_v2\")"
   ]
  }
 ],
 "metadata": {
  "kernelspec": {
   "display_name": "Python 3",
   "language": "python",
   "name": "python3"
  },
  "language_info": {
   "codemirror_mode": {
    "name": "ipython",
    "version": 3
   },
   "file_extension": ".py",
   "mimetype": "text/x-python",
   "name": "python",
   "nbconvert_exporter": "python",
   "pygments_lexer": "ipython3",
   "version": "3.8.9"
  }
 },
 "nbformat": 4,
 "nbformat_minor": 5
}
