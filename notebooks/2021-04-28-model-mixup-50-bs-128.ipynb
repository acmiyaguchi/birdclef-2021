{
 "cells": [
  {
   "cell_type": "code",
   "execution_count": null,
   "id": "32cdbfd9",
   "metadata": {},
   "outputs": [],
   "source": [
    "%load_ext tensorboard"
   ]
  },
  {
   "cell_type": "code",
   "execution_count": 3,
   "id": "96000d83",
   "metadata": {},
   "outputs": [
    {
     "data": {
      "text/html": [
       "<div>\n",
       "<style scoped>\n",
       "    .dataframe tbody tr th:only-of-type {\n",
       "        vertical-align: middle;\n",
       "    }\n",
       "\n",
       "    .dataframe tbody tr th {\n",
       "        vertical-align: top;\n",
       "    }\n",
       "\n",
       "    .dataframe thead th {\n",
       "        text-align: right;\n",
       "    }\n",
       "</style>\n",
       "<table border=\"1\" class=\"dataframe\">\n",
       "  <thead>\n",
       "    <tr style=\"text-align: right;\">\n",
       "      <th></th>\n",
       "      <th>name</th>\n",
       "      <th>parent</th>\n",
       "      <th>cens_slice</th>\n",
       "      <th>index</th>\n",
       "    </tr>\n",
       "  </thead>\n",
       "  <tbody>\n",
       "    <tr>\n",
       "      <th>0</th>\n",
       "      <td>XC109605</td>\n",
       "      <td>acafly</td>\n",
       "      <td>[[0.3086012466109237, 0.30568218743577036, 0.3...</td>\n",
       "      <td>(25, 75)</td>\n",
       "    </tr>\n",
       "    <tr>\n",
       "      <th>0</th>\n",
       "      <td>XC109605</td>\n",
       "      <td>acafly</td>\n",
       "      <td>[[0.37812375487169103, 0.3725999263434882, 0.3...</td>\n",
       "      <td>(157, 207)</td>\n",
       "    </tr>\n",
       "    <tr>\n",
       "      <th>0</th>\n",
       "      <td>XC109605</td>\n",
       "      <td>acafly</td>\n",
       "      <td>[[0.38193222855739883, 0.3810666924182529, 0.3...</td>\n",
       "      <td>(260, 310)</td>\n",
       "    </tr>\n",
       "    <tr>\n",
       "      <th>0</th>\n",
       "      <td>XC109605</td>\n",
       "      <td>acafly</td>\n",
       "      <td>[[0.3523993330368658, 0.3480284909351147, 0.34...</td>\n",
       "      <td>(324, 374)</td>\n",
       "    </tr>\n",
       "    <tr>\n",
       "      <th>0</th>\n",
       "      <td>XC109605</td>\n",
       "      <td>acafly</td>\n",
       "      <td>[[0.3179275282653602, 0.3194400852268083, 0.32...</td>\n",
       "      <td>(361, 411)</td>\n",
       "    </tr>\n",
       "  </tbody>\n",
       "</table>\n",
       "</div>"
      ],
      "text/plain": [
       "       name  parent                                         cens_slice  \\\n",
       "0  XC109605  acafly  [[0.3086012466109237, 0.30568218743577036, 0.3...   \n",
       "0  XC109605  acafly  [[0.37812375487169103, 0.3725999263434882, 0.3...   \n",
       "0  XC109605  acafly  [[0.38193222855739883, 0.3810666924182529, 0.3...   \n",
       "0  XC109605  acafly  [[0.3523993330368658, 0.3480284909351147, 0.34...   \n",
       "0  XC109605  acafly  [[0.3179275282653602, 0.3194400852268083, 0.32...   \n",
       "\n",
       "        index  \n",
       "0    (25, 75)  \n",
       "0  (157, 207)  \n",
       "0  (260, 310)  \n",
       "0  (324, 374)  \n",
       "0  (361, 411)  "
      ]
     },
     "execution_count": 3,
     "metadata": {},
     "output_type": "execute_result"
    }
   ],
   "source": [
    "import pandas as pd\n",
    "from sklearn.model_selection import train_test_split\n",
    "from sklearn.preprocessing import LabelBinarizer\n",
    "import numpy as np\n",
    "\n",
    "train_df = pd.read_pickle(\"../data/train_cens.pkl.gz\")\n",
    "train_df.head()"
   ]
  },
  {
   "cell_type": "code",
   "execution_count": 4,
   "id": "d398ee2e",
   "metadata": {},
   "outputs": [],
   "source": [
    "import tensorflow as tf\n",
    "\n",
    "def reshape_square(arr, k=25):\n",
    "    \"\"\"Domain specific. Transform 12x50 matrix into a square matrix that's 25x25.\"\"\"\n",
    "    x = np.zeros(k*k)\n",
    "    a = arr.reshape(-1)\n",
    "    x[:a.shape[0]] = a\n",
    "    return x.reshape(k, k, 1)\n",
    "    \n",
    "X = np.stack(train_df.cens_slice.apply(reshape_square))\n",
    "\n",
    "lb = LabelBinarizer()\n",
    "lb.fit(train_df.parent)\n",
    "y = lb.transform(train_df.parent)\n",
    "\n",
    "X_train, X_test, y_train, y_test = train_test_split(X, y, test_size=0.3, random_state=1)"
   ]
  },
  {
   "cell_type": "code",
   "execution_count": 5,
   "id": "c643213e",
   "metadata": {},
   "outputs": [],
   "source": [
    "from tensorflow.keras import Sequential\n",
    "from tensorflow.keras.layers import Conv2D, MaxPooling2D, Softmax, Flatten, Dense\n",
    "from tensorflow_addons.metrics import F1Score\n",
    "\n",
    "tf.config.list_physical_devices('GPU')\n",
    "def get_compiled_model(input_shape=(25, 25, 1), output_shape=397):\n",
    "    model = Sequential()\n",
    "    model.add(Conv2D(32, (3, 3), activation='relu', kernel_initializer='he_uniform', padding='same', input_shape=input_shape))\n",
    "    model.add(Conv2D(32, (3, 3), activation='relu', kernel_initializer='he_uniform', padding='same'))\n",
    "    model.add(MaxPooling2D((2, 2)))\n",
    "    model.add(Conv2D(64, (3, 3), activation='relu', kernel_initializer='he_uniform', padding='same'))\n",
    "    model.add(Conv2D(64, (3, 3), activation='relu', kernel_initializer='he_uniform', padding='same'))\n",
    "    model.add(MaxPooling2D((2, 2)))\n",
    "    model.add(Conv2D(128, (3, 3), activation='relu', kernel_initializer='he_uniform', padding='same'))\n",
    "    model.add(Conv2D(128, (3, 3), activation='relu', kernel_initializer='he_uniform', padding='same'))\n",
    "    model.add(MaxPooling2D((2, 2)))\n",
    "\n",
    "    model.add(Flatten())\n",
    "    model.add(Dense(128, activation='relu', kernel_initializer='he_uniform'))\n",
    "    model.add(Dense(output_shape, activation='sigmoid'))\n",
    "    \n",
    "    model.compile(optimizer='adam',\n",
    "        loss=tf.keras.losses.BinaryCrossentropy(from_logits=True),\n",
    "        metrics=['accuracy', F1Score(num_classes=output_shape)])\n",
    "    return model"
   ]
  },
  {
   "cell_type": "code",
   "execution_count": 6,
   "id": "06b2719e",
   "metadata": {},
   "outputs": [],
   "source": [
    "train_dataset = tf.data.Dataset.from_tensor_slices((X_train, y_train))\n",
    "test_dataset = tf.data.Dataset.from_tensor_slices((X_test, y_test))"
   ]
  },
  {
   "cell_type": "code",
   "execution_count": 33,
   "id": "12875ca3",
   "metadata": {},
   "outputs": [
    {
     "data": {
      "text/plain": [
       "<PrefetchDataset shapes: ((None, 25, 25, 1), (None, 397)), types: (tf.float64, tf.int32)>"
      ]
     },
     "execution_count": 33,
     "metadata": {},
     "output_type": "execute_result"
    }
   ],
   "source": [
    "# https://github.com/tensorpack/tensorpack/blob/5845ead80e3d77c89e2f1e9d5e0691324a8354cc/examples/ResNet/cifar10-preact18-mixup.py#L101-L118\n",
    "\n",
    "def _mixup(x_in, y_in):\n",
    "    n = x_in.shape[0]\n",
    "    # draw from uniform instead of beta(alpha, alpha, BATCH_SIZE)\n",
    "    w = np.random.uniform(0.3, 0.7, size=n)\n",
    "    x_weight = w.reshape(n, 1, 1, 1)\n",
    "    index = np.random.permutation(n)\n",
    "\n",
    "    x = x_in * x_weight + x_in[index] * (1-x_weight)\n",
    "    y = y_in + y_in[index]\n",
    "    \n",
    "    return x, y\n",
    "\n",
    "@tf.function(input_signature=[\n",
    "    tf.TensorSpec(None, tf.float64), \n",
    "    tf.TensorSpec(None, tf.int32), \n",
    "])\n",
    "def mixup(x_in, y_in):\n",
    "    x, y = tf.numpy_function(_mixup, [x_in, y_in], [tf.float64, tf.int32])\n",
    "    return tf.data.Dataset.from_tensor_slices((\n",
    "        tf.reshape(x, [-1, 25,25,1]), \n",
    "        tf.reshape(y, [-1, 397])\n",
    "    ))\n",
    "\n",
    "def add_mixup(dataset, batch_size=1024):\n",
    "    return (\n",
    "        dataset\n",
    "        .shuffle(batch_size)\n",
    "        .window(batch_size)\n",
    "        .flat_map(lambda x, y: tf.data.Dataset.zip((x.batch(batch_size), y.batch(batch_size))))\n",
    "        .map(mixup, num_parallel_calls=tf.data.AUTOTUNE)\n",
    "        .flat_map(lambda x: x)\n",
    "        .batch(batch_size)\n",
    "        .prefetch(tf.data.AUTOTUNE)\n",
    "    )\n",
    "\n",
    "add_mixup(test_dataset)"
   ]
  },
  {
   "cell_type": "code",
   "execution_count": 29,
   "id": "9fcf1b07",
   "metadata": {},
   "outputs": [
    {
     "name": "stdout",
     "output_type": "stream",
     "text": [
      "Model: \"sequential_3\"\n",
      "_________________________________________________________________\n",
      "Layer (type)                 Output Shape              Param #   \n",
      "=================================================================\n",
      "conv2d_18 (Conv2D)           (None, 25, 25, 32)        320       \n",
      "_________________________________________________________________\n",
      "conv2d_19 (Conv2D)           (None, 25, 25, 32)        9248      \n",
      "_________________________________________________________________\n",
      "max_pooling2d_9 (MaxPooling2 (None, 12, 12, 32)        0         \n",
      "_________________________________________________________________\n",
      "conv2d_20 (Conv2D)           (None, 12, 12, 64)        18496     \n",
      "_________________________________________________________________\n",
      "conv2d_21 (Conv2D)           (None, 12, 12, 64)        36928     \n",
      "_________________________________________________________________\n",
      "max_pooling2d_10 (MaxPooling (None, 6, 6, 64)          0         \n",
      "_________________________________________________________________\n",
      "conv2d_22 (Conv2D)           (None, 6, 6, 128)         73856     \n",
      "_________________________________________________________________\n",
      "conv2d_23 (Conv2D)           (None, 6, 6, 128)         147584    \n",
      "_________________________________________________________________\n",
      "max_pooling2d_11 (MaxPooling (None, 3, 3, 128)         0         \n",
      "_________________________________________________________________\n",
      "flatten_3 (Flatten)          (None, 1152)              0         \n",
      "_________________________________________________________________\n",
      "dense_6 (Dense)              (None, 128)               147584    \n",
      "_________________________________________________________________\n",
      "dense_7 (Dense)              (None, 397)               51213     \n",
      "=================================================================\n",
      "Total params: 485,229\n",
      "Trainable params: 485,229\n",
      "Non-trainable params: 0\n",
      "_________________________________________________________________\n"
     ]
    }
   ],
   "source": [
    "model = get_compiled_model()\n",
    "model.summary()"
   ]
  },
  {
   "cell_type": "code",
   "execution_count": null,
   "id": "4b0c5462",
   "metadata": {},
   "outputs": [],
   "source": [
    "from pathlib import Path\n",
    "import datetime\n",
    "logdir = Path(\"../data/logs\") / datetime.datetime.now().strftime(\"%Y%m%d-%H%M%S\")\n",
    "tensorboard_callback = tf.keras.callbacks.TensorBoard(logdir, histogram_freq=1)\n",
    "\n",
    "checkpoint_path = \"../data/models/mixup-50-128\"\n",
    "# Create a callback that saves the model's weights\n",
    "cp_callback = tf.keras.callbacks.ModelCheckpoint(filepath=checkpoint_path,\n",
    "                                                 save_weights_only=True,\n",
    "                                                 verbose=1)"
   ]
  },
  {
   "cell_type": "code",
   "execution_count": 36,
   "id": "d1c08c06",
   "metadata": {},
   "outputs": [
    {
     "name": "stdout",
     "output_type": "stream",
     "text": [
      "Epoch 1/100\n",
      "1725/1725 [==============================] - 83s 48ms/step - loss: 0.0292 - accuracy: 0.0433 - f1_score: 0.0199 - val_loss: 0.0162 - val_accuracy: 0.0604 - val_f1_score: 0.0280\n",
      "\n",
      "Epoch 00001: saving model to ../data/models\\mixup-50-128\n",
      "Epoch 2/100\n",
      "1725/1725 [==============================] - 80s 46ms/step - loss: 0.0291 - accuracy: 0.0442 - f1_score: 0.0214 - val_loss: 0.0162 - val_accuracy: 0.0602 - val_f1_score: 0.0277\n",
      "\n",
      "Epoch 00002: saving model to ../data/models\\mixup-50-128\n",
      "Epoch 3/100\n",
      "1725/1725 [==============================] - 75s 43ms/step - loss: 0.0291 - accuracy: 0.0450 - f1_score: 0.0225 - val_loss: 0.0162 - val_accuracy: 0.0640 - val_f1_score: 0.0306\n",
      "\n",
      "Epoch 00003: saving model to ../data/models\\mixup-50-128\n",
      "Epoch 4/100\n",
      "1725/1725 [==============================] - 83s 48ms/step - loss: 0.0291 - accuracy: 0.0451 - f1_score: 0.0232 - val_loss: 0.0162 - val_accuracy: 0.0634 - val_f1_score: 0.0307\n",
      "\n",
      "Epoch 00004: saving model to ../data/models\\mixup-50-128\n",
      "Epoch 5/100\n",
      "1725/1725 [==============================] - 75s 43ms/step - loss: 0.0290 - accuracy: 0.0464 - f1_score: 0.0246 - val_loss: 0.0162 - val_accuracy: 0.0614 - val_f1_score: 0.0299\n",
      "\n",
      "Epoch 00005: saving model to ../data/models\\mixup-50-128\n",
      "Epoch 6/100\n",
      "1725/1725 [==============================] - 84s 48ms/step - loss: 0.0290 - accuracy: 0.0472 - f1_score: 0.0253 - val_loss: 0.0162 - val_accuracy: 0.0645 - val_f1_score: 0.0322\n",
      "\n",
      "Epoch 00006: saving model to ../data/models\\mixup-50-128\n",
      "Epoch 7/100\n",
      "1725/1725 [==============================] - 87s 50ms/step - loss: 0.0290 - accuracy: 0.0470 - f1_score: 0.0265 - val_loss: 0.0163 - val_accuracy: 0.0635 - val_f1_score: 0.0313\n",
      "\n",
      "Epoch 00007: saving model to ../data/models\\mixup-50-128\n",
      "Epoch 8/100\n",
      "1725/1725 [==============================] - 93s 54ms/step - loss: 0.0290 - accuracy: 0.0480 - f1_score: 0.0274 - val_loss: 0.0164 - val_accuracy: 0.0637 - val_f1_score: 0.0310\n",
      "\n",
      "Epoch 00008: saving model to ../data/models\\mixup-50-128\n",
      "Epoch 9/100\n",
      "1725/1725 [==============================] - 80s 46ms/step - loss: 0.0290 - accuracy: 0.0483 - f1_score: 0.0280 - val_loss: 0.0163 - val_accuracy: 0.0635 - val_f1_score: 0.0321\n",
      "\n",
      "Epoch 00009: saving model to ../data/models\\mixup-50-128\n",
      "Epoch 10/100\n",
      "1725/1725 [==============================] - 94s 55ms/step - loss: 0.0289 - accuracy: 0.0489 - f1_score: 0.0291 - val_loss: 0.0163 - val_accuracy: 0.0639 - val_f1_score: 0.0330\n",
      "\n",
      "Epoch 00010: saving model to ../data/models\\mixup-50-128\n",
      "Epoch 11/100\n",
      "1725/1725 [==============================] - 98s 57ms/step - loss: 0.0289 - accuracy: 0.0491 - f1_score: 0.0297 - val_loss: 0.0163 - val_accuracy: 0.0645 - val_f1_score: 0.0333\n",
      "\n",
      "Epoch 00011: saving model to ../data/models\\mixup-50-128\n",
      "Epoch 12/100\n",
      "1725/1725 [==============================] - 100s 58ms/step - loss: 0.0289 - accuracy: 0.0505 - f1_score: 0.0305 - val_loss: 0.0163 - val_accuracy: 0.0653 - val_f1_score: 0.0341\n",
      "\n",
      "Epoch 00012: saving model to ../data/models\\mixup-50-128\n",
      "Epoch 13/100\n",
      "1725/1725 [==============================] - 90s 52ms/step - loss: 0.0289 - accuracy: 0.0513 - f1_score: 0.0311 - val_loss: 0.0163 - val_accuracy: 0.0659 - val_f1_score: 0.0347\n",
      "\n",
      "Epoch 00013: saving model to ../data/models\\mixup-50-128\n",
      "Epoch 14/100\n",
      "1725/1725 [==============================] - 92s 53ms/step - loss: 0.0288 - accuracy: 0.0513 - f1_score: 0.0318 - val_loss: 0.0162 - val_accuracy: 0.0648 - val_f1_score: 0.0346\n",
      "\n",
      "Epoch 00014: saving model to ../data/models\\mixup-50-128\n",
      "Epoch 15/100\n",
      "1725/1725 [==============================] - 91s 53ms/step - loss: 0.0288 - accuracy: 0.0516 - f1_score: 0.0327 - val_loss: 0.0162 - val_accuracy: 0.0671 - val_f1_score: 0.0355\n",
      "\n",
      "Epoch 00015: saving model to ../data/models\\mixup-50-128\n",
      "Epoch 16/100\n",
      "1725/1725 [==============================] - 97s 56ms/step - loss: 0.0288 - accuracy: 0.0521 - f1_score: 0.0332 - val_loss: 0.0163 - val_accuracy: 0.0682 - val_f1_score: 0.0372\n",
      "\n",
      "Epoch 00016: saving model to ../data/models\\mixup-50-128\n",
      "Epoch 17/100\n",
      "1725/1725 [==============================] - 93s 54ms/step - loss: 0.0288 - accuracy: 0.0523 - f1_score: 0.0338 - val_loss: 0.0162 - val_accuracy: 0.0659 - val_f1_score: 0.0354\n",
      "\n",
      "Epoch 00017: saving model to ../data/models\\mixup-50-128\n",
      "Epoch 18/100\n",
      " 408/1725 [======>.......................] - ETA: 1:02 - loss: 0.0288 - accuracy: 0.0518 - f1_score: 0.0336"
     ]
    },
    {
     "ename": "KeyboardInterrupt",
     "evalue": "",
     "output_type": "error",
     "traceback": [
      "\u001b[1;31m---------------------------------------------------------------------------\u001b[0m",
      "\u001b[1;31mKeyboardInterrupt\u001b[0m                         Traceback (most recent call last)",
      "\u001b[1;32m<ipython-input-36-6f6d4683d0db>\u001b[0m in \u001b[0;36m<module>\u001b[1;34m\u001b[0m\n\u001b[1;32m----> 1\u001b[1;33m history = model.fit(add_mixup(train_dataset, 256), \n\u001b[0m\u001b[0;32m      2\u001b[0m                     \u001b[0mepochs\u001b[0m\u001b[1;33m=\u001b[0m\u001b[1;36m100\u001b[0m\u001b[1;33m,\u001b[0m\u001b[1;33m\u001b[0m\u001b[1;33m\u001b[0m\u001b[0m\n\u001b[0;32m      3\u001b[0m                     \u001b[0mvalidation_data\u001b[0m\u001b[1;33m=\u001b[0m\u001b[0mtest_dataset\u001b[0m\u001b[1;33m.\u001b[0m\u001b[0mbatch\u001b[0m\u001b[1;33m(\u001b[0m\u001b[1;36m256\u001b[0m\u001b[1;33m)\u001b[0m\u001b[1;33m,\u001b[0m\u001b[1;33m\u001b[0m\u001b[1;33m\u001b[0m\u001b[0m\n\u001b[0;32m      4\u001b[0m                     callbacks=[cp_callback, tensorboard_callback])\n",
      "\u001b[1;32mc:\\kaggle\\birdclef-2021\\venv\\lib\\site-packages\\tensorflow\\python\\keras\\engine\\training.py\u001b[0m in \u001b[0;36mfit\u001b[1;34m(self, x, y, batch_size, epochs, verbose, callbacks, validation_split, validation_data, shuffle, class_weight, sample_weight, initial_epoch, steps_per_epoch, validation_steps, validation_batch_size, validation_freq, max_queue_size, workers, use_multiprocessing)\u001b[0m\n\u001b[0;32m   1098\u001b[0m                 _r=1):\n\u001b[0;32m   1099\u001b[0m               \u001b[0mcallbacks\u001b[0m\u001b[1;33m.\u001b[0m\u001b[0mon_train_batch_begin\u001b[0m\u001b[1;33m(\u001b[0m\u001b[0mstep\u001b[0m\u001b[1;33m)\u001b[0m\u001b[1;33m\u001b[0m\u001b[1;33m\u001b[0m\u001b[0m\n\u001b[1;32m-> 1100\u001b[1;33m               \u001b[0mtmp_logs\u001b[0m \u001b[1;33m=\u001b[0m \u001b[0mself\u001b[0m\u001b[1;33m.\u001b[0m\u001b[0mtrain_function\u001b[0m\u001b[1;33m(\u001b[0m\u001b[0miterator\u001b[0m\u001b[1;33m)\u001b[0m\u001b[1;33m\u001b[0m\u001b[1;33m\u001b[0m\u001b[0m\n\u001b[0m\u001b[0;32m   1101\u001b[0m               \u001b[1;32mif\u001b[0m \u001b[0mdata_handler\u001b[0m\u001b[1;33m.\u001b[0m\u001b[0mshould_sync\u001b[0m\u001b[1;33m:\u001b[0m\u001b[1;33m\u001b[0m\u001b[1;33m\u001b[0m\u001b[0m\n\u001b[0;32m   1102\u001b[0m                 \u001b[0mcontext\u001b[0m\u001b[1;33m.\u001b[0m\u001b[0masync_wait\u001b[0m\u001b[1;33m(\u001b[0m\u001b[1;33m)\u001b[0m\u001b[1;33m\u001b[0m\u001b[1;33m\u001b[0m\u001b[0m\n",
      "\u001b[1;32mc:\\kaggle\\birdclef-2021\\venv\\lib\\site-packages\\tensorflow\\python\\eager\\def_function.py\u001b[0m in \u001b[0;36m__call__\u001b[1;34m(self, *args, **kwds)\u001b[0m\n\u001b[0;32m    826\u001b[0m     \u001b[0mtracing_count\u001b[0m \u001b[1;33m=\u001b[0m \u001b[0mself\u001b[0m\u001b[1;33m.\u001b[0m\u001b[0mexperimental_get_tracing_count\u001b[0m\u001b[1;33m(\u001b[0m\u001b[1;33m)\u001b[0m\u001b[1;33m\u001b[0m\u001b[1;33m\u001b[0m\u001b[0m\n\u001b[0;32m    827\u001b[0m     \u001b[1;32mwith\u001b[0m \u001b[0mtrace\u001b[0m\u001b[1;33m.\u001b[0m\u001b[0mTrace\u001b[0m\u001b[1;33m(\u001b[0m\u001b[0mself\u001b[0m\u001b[1;33m.\u001b[0m\u001b[0m_name\u001b[0m\u001b[1;33m)\u001b[0m \u001b[1;32mas\u001b[0m \u001b[0mtm\u001b[0m\u001b[1;33m:\u001b[0m\u001b[1;33m\u001b[0m\u001b[1;33m\u001b[0m\u001b[0m\n\u001b[1;32m--> 828\u001b[1;33m       \u001b[0mresult\u001b[0m \u001b[1;33m=\u001b[0m \u001b[0mself\u001b[0m\u001b[1;33m.\u001b[0m\u001b[0m_call\u001b[0m\u001b[1;33m(\u001b[0m\u001b[1;33m*\u001b[0m\u001b[0margs\u001b[0m\u001b[1;33m,\u001b[0m \u001b[1;33m**\u001b[0m\u001b[0mkwds\u001b[0m\u001b[1;33m)\u001b[0m\u001b[1;33m\u001b[0m\u001b[1;33m\u001b[0m\u001b[0m\n\u001b[0m\u001b[0;32m    829\u001b[0m       \u001b[0mcompiler\u001b[0m \u001b[1;33m=\u001b[0m \u001b[1;34m\"xla\"\u001b[0m \u001b[1;32mif\u001b[0m \u001b[0mself\u001b[0m\u001b[1;33m.\u001b[0m\u001b[0m_experimental_compile\u001b[0m \u001b[1;32melse\u001b[0m \u001b[1;34m\"nonXla\"\u001b[0m\u001b[1;33m\u001b[0m\u001b[1;33m\u001b[0m\u001b[0m\n\u001b[0;32m    830\u001b[0m       \u001b[0mnew_tracing_count\u001b[0m \u001b[1;33m=\u001b[0m \u001b[0mself\u001b[0m\u001b[1;33m.\u001b[0m\u001b[0mexperimental_get_tracing_count\u001b[0m\u001b[1;33m(\u001b[0m\u001b[1;33m)\u001b[0m\u001b[1;33m\u001b[0m\u001b[1;33m\u001b[0m\u001b[0m\n",
      "\u001b[1;32mc:\\kaggle\\birdclef-2021\\venv\\lib\\site-packages\\tensorflow\\python\\eager\\def_function.py\u001b[0m in \u001b[0;36m_call\u001b[1;34m(self, *args, **kwds)\u001b[0m\n\u001b[0;32m    853\u001b[0m       \u001b[1;31m# In this case we have created variables on the first call, so we run the\u001b[0m\u001b[1;33m\u001b[0m\u001b[1;33m\u001b[0m\u001b[1;33m\u001b[0m\u001b[0m\n\u001b[0;32m    854\u001b[0m       \u001b[1;31m# defunned version which is guaranteed to never create variables.\u001b[0m\u001b[1;33m\u001b[0m\u001b[1;33m\u001b[0m\u001b[1;33m\u001b[0m\u001b[0m\n\u001b[1;32m--> 855\u001b[1;33m       \u001b[1;32mreturn\u001b[0m \u001b[0mself\u001b[0m\u001b[1;33m.\u001b[0m\u001b[0m_stateless_fn\u001b[0m\u001b[1;33m(\u001b[0m\u001b[1;33m*\u001b[0m\u001b[0margs\u001b[0m\u001b[1;33m,\u001b[0m \u001b[1;33m**\u001b[0m\u001b[0mkwds\u001b[0m\u001b[1;33m)\u001b[0m  \u001b[1;31m# pylint: disable=not-callable\u001b[0m\u001b[1;33m\u001b[0m\u001b[1;33m\u001b[0m\u001b[0m\n\u001b[0m\u001b[0;32m    856\u001b[0m     \u001b[1;32melif\u001b[0m \u001b[0mself\u001b[0m\u001b[1;33m.\u001b[0m\u001b[0m_stateful_fn\u001b[0m \u001b[1;32mis\u001b[0m \u001b[1;32mnot\u001b[0m \u001b[1;32mNone\u001b[0m\u001b[1;33m:\u001b[0m\u001b[1;33m\u001b[0m\u001b[1;33m\u001b[0m\u001b[0m\n\u001b[0;32m    857\u001b[0m       \u001b[1;31m# Release the lock early so that multiple threads can perform the call\u001b[0m\u001b[1;33m\u001b[0m\u001b[1;33m\u001b[0m\u001b[1;33m\u001b[0m\u001b[0m\n",
      "\u001b[1;32mc:\\kaggle\\birdclef-2021\\venv\\lib\\site-packages\\tensorflow\\python\\eager\\function.py\u001b[0m in \u001b[0;36m__call__\u001b[1;34m(self, *args, **kwargs)\u001b[0m\n\u001b[0;32m   2940\u001b[0m       (graph_function,\n\u001b[0;32m   2941\u001b[0m        filtered_flat_args) = self._maybe_define_function(args, kwargs)\n\u001b[1;32m-> 2942\u001b[1;33m     return graph_function._call_flat(\n\u001b[0m\u001b[0;32m   2943\u001b[0m         filtered_flat_args, captured_inputs=graph_function.captured_inputs)  # pylint: disable=protected-access\n\u001b[0;32m   2944\u001b[0m \u001b[1;33m\u001b[0m\u001b[0m\n",
      "\u001b[1;32mc:\\kaggle\\birdclef-2021\\venv\\lib\\site-packages\\tensorflow\\python\\eager\\function.py\u001b[0m in \u001b[0;36m_call_flat\u001b[1;34m(self, args, captured_inputs, cancellation_manager)\u001b[0m\n\u001b[0;32m   1916\u001b[0m         and executing_eagerly):\n\u001b[0;32m   1917\u001b[0m       \u001b[1;31m# No tape is watching; skip to running the function.\u001b[0m\u001b[1;33m\u001b[0m\u001b[1;33m\u001b[0m\u001b[1;33m\u001b[0m\u001b[0m\n\u001b[1;32m-> 1918\u001b[1;33m       return self._build_call_outputs(self._inference_function.call(\n\u001b[0m\u001b[0;32m   1919\u001b[0m           ctx, args, cancellation_manager=cancellation_manager))\n\u001b[0;32m   1920\u001b[0m     forward_backward = self._select_forward_and_backward_functions(\n",
      "\u001b[1;32mc:\\kaggle\\birdclef-2021\\venv\\lib\\site-packages\\tensorflow\\python\\eager\\function.py\u001b[0m in \u001b[0;36mcall\u001b[1;34m(self, ctx, args, cancellation_manager)\u001b[0m\n\u001b[0;32m    553\u001b[0m       \u001b[1;32mwith\u001b[0m \u001b[0m_InterpolateFunctionError\u001b[0m\u001b[1;33m(\u001b[0m\u001b[0mself\u001b[0m\u001b[1;33m)\u001b[0m\u001b[1;33m:\u001b[0m\u001b[1;33m\u001b[0m\u001b[1;33m\u001b[0m\u001b[0m\n\u001b[0;32m    554\u001b[0m         \u001b[1;32mif\u001b[0m \u001b[0mcancellation_manager\u001b[0m \u001b[1;32mis\u001b[0m \u001b[1;32mNone\u001b[0m\u001b[1;33m:\u001b[0m\u001b[1;33m\u001b[0m\u001b[1;33m\u001b[0m\u001b[0m\n\u001b[1;32m--> 555\u001b[1;33m           outputs = execute.execute(\n\u001b[0m\u001b[0;32m    556\u001b[0m               \u001b[0mstr\u001b[0m\u001b[1;33m(\u001b[0m\u001b[0mself\u001b[0m\u001b[1;33m.\u001b[0m\u001b[0msignature\u001b[0m\u001b[1;33m.\u001b[0m\u001b[0mname\u001b[0m\u001b[1;33m)\u001b[0m\u001b[1;33m,\u001b[0m\u001b[1;33m\u001b[0m\u001b[1;33m\u001b[0m\u001b[0m\n\u001b[0;32m    557\u001b[0m               \u001b[0mnum_outputs\u001b[0m\u001b[1;33m=\u001b[0m\u001b[0mself\u001b[0m\u001b[1;33m.\u001b[0m\u001b[0m_num_outputs\u001b[0m\u001b[1;33m,\u001b[0m\u001b[1;33m\u001b[0m\u001b[1;33m\u001b[0m\u001b[0m\n",
      "\u001b[1;32mc:\\kaggle\\birdclef-2021\\venv\\lib\\site-packages\\tensorflow\\python\\eager\\execute.py\u001b[0m in \u001b[0;36mquick_execute\u001b[1;34m(op_name, num_outputs, inputs, attrs, ctx, name)\u001b[0m\n\u001b[0;32m     57\u001b[0m   \u001b[1;32mtry\u001b[0m\u001b[1;33m:\u001b[0m\u001b[1;33m\u001b[0m\u001b[1;33m\u001b[0m\u001b[0m\n\u001b[0;32m     58\u001b[0m     \u001b[0mctx\u001b[0m\u001b[1;33m.\u001b[0m\u001b[0mensure_initialized\u001b[0m\u001b[1;33m(\u001b[0m\u001b[1;33m)\u001b[0m\u001b[1;33m\u001b[0m\u001b[1;33m\u001b[0m\u001b[0m\n\u001b[1;32m---> 59\u001b[1;33m     tensors = pywrap_tfe.TFE_Py_Execute(ctx._handle, device_name, op_name,\n\u001b[0m\u001b[0;32m     60\u001b[0m                                         inputs, attrs, num_outputs)\n\u001b[0;32m     61\u001b[0m   \u001b[1;32mexcept\u001b[0m \u001b[0mcore\u001b[0m\u001b[1;33m.\u001b[0m\u001b[0m_NotOkStatusException\u001b[0m \u001b[1;32mas\u001b[0m \u001b[0me\u001b[0m\u001b[1;33m:\u001b[0m\u001b[1;33m\u001b[0m\u001b[1;33m\u001b[0m\u001b[0m\n",
      "\u001b[1;31mKeyboardInterrupt\u001b[0m: "
     ]
    }
   ],
   "source": [
    "history = model.fit(add_mixup(train_dataset, 256), \n",
    "                    epochs=100, \n",
    "                    validation_data=test_dataset.batch(256), \n",
    "                    callbacks=[cp_callback, tensorboard_callback])"
   ]
  },
  {
   "cell_type": "code",
   "execution_count": 37,
   "id": "1966a658",
   "metadata": {},
   "outputs": [
    {
     "data": {
      "image/png": "[encoded data removed]",
      "text/plain": [
       "<Figure size 432x288 with 1 Axes>"
      ]
     },
     "metadata": {
      "needs_background": "light"
     },
     "output_type": "display_data"
    },
    {
     "data": {
      "image/png": "[encoded data removed]",
      "text/plain": [
       "<Figure size 432x288 with 1 Axes>"
      ]
     },
     "metadata": {
      "needs_background": "light"
     },
     "output_type": "display_data"
    },
    {
     "data": {
      "image/png": "[encoded data removed]",
      "text/plain": [
       "<Figure size 432x288 with 1 Axes>"
      ]
     },
     "metadata": {
      "needs_background": "light"
     },
     "output_type": "display_data"
    },
    {
     "name": "stdout",
     "output_type": "stream",
     "text": [
      "5914/5914 - 85s - loss: 0.0162 - accuracy: 0.0665 - f1_score: 0.0378\n"
     ]
    },
    {
     "data": {
      "text/plain": [
       "[0.01619589328765869,\n",
       " 0.06648136675357819,\n",
       " array([0.00930233, 0.00938967, 0.10175879, 0.        , 0.00507614,\n",
       "        0.        , 0.        , 0.        , 0.01746725, 0.08946357,\n",
       "        0.        , 0.        , 0.01184834, 0.        , 0.02893891,\n",
       "        0.        , 0.        , 0.        , 0.        , 0.02917772,\n",
       "        0.03651116, 0.        , 0.0678426 , 0.11949306, 0.        ,\n",
       "        0.        , 0.        , 0.06379894, 0.        , 0.02627737,\n",
       "        0.        , 0.        , 0.04407515, 0.03404255, 0.        ,\n",
       "        0.01709402, 0.04553119, 0.00747198, 0.20185031, 0.        ,\n",
       "        0.06970508, 0.06408095, 0.05825243, 0.07092199, 0.        ,\n",
       "        0.06530612, 0.0795756 , 0.07948244, 0.03094777, 0.11070832,\n",
       "        0.00673401, 0.        , 0.        , 0.        , 0.22433461,\n",
       "        0.09892086, 0.        , 0.08275862, 0.04545455, 0.06422019,\n",
       "        0.01133144, 0.19708028, 0.02072539, 0.        , 0.05177993,\n",
       "        0.04615384, 0.05882353, 0.        , 0.005148  , 0.        ,\n",
       "        0.        , 0.02752294, 0.05042017, 0.        , 0.        ,\n",
       "        0.        , 0.26785713, 0.1508079 , 0.        , 0.        ,\n",
       "        0.01257862, 0.00444444, 0.        , 0.04081633, 0.03468208,\n",
       "        0.06478874, 0.        , 0.        , 0.01796407, 0.01776199,\n",
       "        0.02352941, 0.10489099, 0.        , 0.11077542, 0.16868798,\n",
       "        0.04502814, 0.03013183, 0.06111111, 0.        , 0.00341297,\n",
       "        0.        , 0.        , 0.07885304, 0.14634146, 0.        ,\n",
       "        0.0952381 , 0.        , 0.02752294, 0.04135339, 0.        ,\n",
       "        0.06774361, 0.06708269, 0.04647619, 0.00325468, 0.        ,\n",
       "        0.01801802, 0.        , 0.04597701, 0.        , 0.06349206,\n",
       "        0.05718656, 0.09468148, 0.01435407, 0.1272316 , 0.        ,\n",
       "        0.00995025, 0.        , 0.00935673, 0.00630915, 0.00546448,\n",
       "        0.01834862, 0.13141684, 0.11795776, 0.05381504, 0.16637011,\n",
       "        0.04490501, 0.        , 0.00278552, 0.05315615, 0.        ,\n",
       "        0.10126583, 0.        , 0.03638018, 0.        , 0.        ,\n",
       "        0.02540835, 0.02868852, 0.        , 0.1097561 , 0.05627706,\n",
       "        0.03267974, 0.        , 0.        , 0.00495049, 0.        ,\n",
       "        0.08040202, 0.00364299, 0.        , 0.02233251, 0.24398075,\n",
       "        0.06043956, 0.06779661, 0.00840336, 0.        , 0.14686936,\n",
       "        0.        , 0.04301076, 0.00847458, 0.00332502, 0.        ,\n",
       "        0.11812627, 0.        , 0.        , 0.        , 0.0779396 ,\n",
       "        0.18367347, 0.112     , 0.        , 0.01663201, 0.11582213,\n",
       "        0.02752294, 0.        , 0.06099518, 0.03618421, 0.23908047,\n",
       "        0.03661327, 0.        , 0.        , 0.2569155 , 0.        ,\n",
       "        0.        , 0.02451839, 0.02272727, 0.003003  , 0.        ,\n",
       "        0.01038062, 0.        , 0.02      , 0.11413404, 0.        ,\n",
       "        0.17733471, 0.04282116, 0.        , 0.06535947, 0.07990868,\n",
       "        0.15736768, 0.03294118, 0.09639953, 0.00173611, 0.02631579,\n",
       "        0.        , 0.        , 0.01010101, 0.14721344, 0.13494462,\n",
       "        0.        , 0.        , 0.        , 0.        , 0.        ,\n",
       "        0.07114337, 0.02670623, 0.08995245, 0.03672788, 0.        ,\n",
       "        0.03179916, 0.05405406, 0.        , 0.00597015, 0.03350785,\n",
       "        0.06829268, 0.        , 0.00434783, 0.        , 0.06340057,\n",
       "        0.        , 0.        , 0.        , 0.01687764, 0.10208193,\n",
       "        0.01769911, 0.        , 0.        , 0.        , 0.11304349,\n",
       "        0.        , 0.        , 0.06382979, 0.        , 0.00416667,\n",
       "        0.02272727, 0.        , 0.        , 0.14090909, 0.03985507,\n",
       "        0.        , 0.        , 0.01724138, 0.01104972, 0.        ,\n",
       "        0.00469484, 0.06382979, 0.04301075, 0.        , 0.02529274,\n",
       "        0.04651162, 0.        , 0.14507772, 0.03088803, 0.        ,\n",
       "        0.03346371, 0.        , 0.        , 0.03654125, 0.        ,\n",
       "        0.00632911, 0.        , 0.        , 0.02777778, 0.        ,\n",
       "        0.01672241, 0.0251046 , 0.11177305, 0.        , 0.08063355,\n",
       "        0.0285423 , 0.00950119, 0.00362976, 0.09592327, 0.01269841,\n",
       "        0.        , 0.        , 0.15659955, 0.        , 0.        ,\n",
       "        0.        , 0.04576043, 0.        , 0.05813954, 0.07537689,\n",
       "        0.        , 0.078125  , 0.1       , 0.01201201, 0.        ,\n",
       "        0.        , 0.        , 0.        , 0.        , 0.        ,\n",
       "        0.00591716, 0.2881002 , 0.04580153, 0.01052632, 0.        ,\n",
       "        0.03548197, 0.09070796, 0.        , 0.07927382, 0.        ,\n",
       "        0.        , 0.08831169, 0.01757469, 0.        , 0.        ,\n",
       "        0.13644068, 0.        , 0.        , 0.        , 0.01610738,\n",
       "        0.08255159, 0.06525286, 0.06667767, 0.00883002, 0.06734006,\n",
       "        0.0726979 , 0.        , 0.        , 0.        , 0.        ,\n",
       "        0.09098567, 0.00471698, 0.05357143, 0.        , 0.12241776,\n",
       "        0.0472441 , 0.01333333, 0.        , 0.04692082, 0.0701868 ,\n",
       "        0.02956393, 0.00980392, 0.        , 0.        , 0.02083333,\n",
       "        0.        , 0.0421482 , 0.1099325 , 0.17460318, 0.05405406,\n",
       "        0.03816132, 0.1       , 0.03738318, 0.04853888, 0.12406015,\n",
       "        0.028     , 0.05319149, 0.        , 0.16500144, 0.08973081,\n",
       "        0.04225352, 0.1903243 , 0.00821355, 0.01075269, 0.06262231,\n",
       "        0.        , 0.        , 0.        , 0.04743406, 0.09803922,\n",
       "        0.        , 0.05980066, 0.09384164, 0.        , 0.05363984,\n",
       "        0.        , 0.        , 0.        , 0.05031447, 0.00493827,\n",
       "        0.0730897 , 0.06845238, 0.05142857, 0.0175219 , 0.        ,\n",
       "        0.        , 0.        ], dtype=float32)]"
      ]
     },
     "execution_count": 37,
     "metadata": {},
     "output_type": "execute_result"
    }
   ],
   "source": [
    "import matplotlib.pyplot as plt\n",
    "\n",
    "plt.plot(history.history['accuracy'], label='train')\n",
    "plt.plot(history.history['val_accuracy'], label='test')\n",
    "plt.xlabel('Epoch')\n",
    "plt.ylabel('Accuracy')\n",
    "plt.legend()\n",
    "plt.show()\n",
    "\n",
    "plt.plot([x.mean() for x in history.history['f1_score']], label='train')\n",
    "plt.plot([x.mean() for x in history.history['val_f1_score']], label='test')\n",
    "plt.xlabel('Epoch')\n",
    "plt.ylabel('F1 Score')\n",
    "plt.legend()\n",
    "plt.show()\n",
    "\n",
    "plt.plot(history.history[\"loss\"], label=\"train\")\n",
    "plt.plot(history.history[\"val_loss\"], label=\"test\")\n",
    "plt.xlabel(\"Epoch\")\n",
    "plt.ylabel(\"loss\")\n",
    "plt.legend()\n",
    "plt.show()\n",
    "\n",
    "model.evaluate(X_test, y_test, verbose=2)"
   ]
  }
 ],
 "metadata": {
  "kernelspec": {
   "display_name": "Python 3",
   "language": "python",
   "name": "python3"
  },
  "language_info": {
   "codemirror_mode": {
    "name": "ipython",
    "version": 3
   },
   "file_extension": ".py",
   "mimetype": "text/x-python",
   "name": "python",
   "nbconvert_exporter": "python",
   "pygments_lexer": "ipython3",
   "version": "3.8.9"
  }
 },
 "nbformat": 4,
 "nbformat_minor": 5
}
