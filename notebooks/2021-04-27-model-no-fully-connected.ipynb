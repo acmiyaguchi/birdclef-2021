{
 "cells": [
  {
   "cell_type": "code",
   "execution_count": 1,
   "id": "69b8d19c",
   "metadata": {},
   "outputs": [
    {
     "data": {
      "text/html": [
       "<div>\n",
       "<style scoped>\n",
       "    .dataframe tbody tr th:only-of-type {\n",
       "        vertical-align: middle;\n",
       "    }\n",
       "\n",
       "    .dataframe tbody tr th {\n",
       "        vertical-align: top;\n",
       "    }\n",
       "\n",
       "    .dataframe thead th {\n",
       "        text-align: right;\n",
       "    }\n",
       "</style>\n",
       "<table border=\"1\" class=\"dataframe\">\n",
       "  <thead>\n",
       "    <tr style=\"text-align: right;\">\n",
       "      <th></th>\n",
       "      <th>name</th>\n",
       "      <th>parent</th>\n",
       "      <th>cens_slice</th>\n",
       "      <th>index</th>\n",
       "    </tr>\n",
       "  </thead>\n",
       "  <tbody>\n",
       "    <tr>\n",
       "      <th>0</th>\n",
       "      <td>XC109605</td>\n",
       "      <td>acafly</td>\n",
       "      <td>[[0.3086012466109237, 0.30568218743577036, 0.3...</td>\n",
       "      <td>(25, 75)</td>\n",
       "    </tr>\n",
       "    <tr>\n",
       "      <th>0</th>\n",
       "      <td>XC109605</td>\n",
       "      <td>acafly</td>\n",
       "      <td>[[0.37812375487169103, 0.3725999263434882, 0.3...</td>\n",
       "      <td>(157, 207)</td>\n",
       "    </tr>\n",
       "    <tr>\n",
       "      <th>0</th>\n",
       "      <td>XC109605</td>\n",
       "      <td>acafly</td>\n",
       "      <td>[[0.38193222855739883, 0.3810666924182529, 0.3...</td>\n",
       "      <td>(260, 310)</td>\n",
       "    </tr>\n",
       "    <tr>\n",
       "      <th>0</th>\n",
       "      <td>XC109605</td>\n",
       "      <td>acafly</td>\n",
       "      <td>[[0.3523993330368658, 0.3480284909351147, 0.34...</td>\n",
       "      <td>(324, 374)</td>\n",
       "    </tr>\n",
       "    <tr>\n",
       "      <th>0</th>\n",
       "      <td>XC109605</td>\n",
       "      <td>acafly</td>\n",
       "      <td>[[0.3179275282653602, 0.3194400852268083, 0.32...</td>\n",
       "      <td>(361, 411)</td>\n",
       "    </tr>\n",
       "  </tbody>\n",
       "</table>\n",
       "</div>"
      ],
      "text/plain": [
       "       name  parent                                         cens_slice  \\\n",
       "0  XC109605  acafly  [[0.3086012466109237, 0.30568218743577036, 0.3...   \n",
       "0  XC109605  acafly  [[0.37812375487169103, 0.3725999263434882, 0.3...   \n",
       "0  XC109605  acafly  [[0.38193222855739883, 0.3810666924182529, 0.3...   \n",
       "0  XC109605  acafly  [[0.3523993330368658, 0.3480284909351147, 0.34...   \n",
       "0  XC109605  acafly  [[0.3179275282653602, 0.3194400852268083, 0.32...   \n",
       "\n",
       "        index  \n",
       "0    (25, 75)  \n",
       "0  (157, 207)  \n",
       "0  (260, 310)  \n",
       "0  (324, 374)  \n",
       "0  (361, 411)  "
      ]
     },
     "execution_count": 1,
     "metadata": {},
     "output_type": "execute_result"
    }
   ],
   "source": [
    "import pandas as pd\n",
    "from sklearn.model_selection import train_test_split\n",
    "from sklearn.preprocessing import LabelBinarizer\n",
    "import numpy as np\n",
    "\n",
    "train_df = pd.read_pickle(\"../data/train_cens.pkl.gz\")\n",
    "train_df.head()"
   ]
  },
  {
   "cell_type": "code",
   "execution_count": 2,
   "id": "17174346",
   "metadata": {},
   "outputs": [],
   "source": [
    "import tensorflow as tf\n",
    "\n",
    "def reshape_square(arr, k=25):\n",
    "    \"\"\"Domain specific. Transform 12x50 matrix into a square matrix that's 25x25.\"\"\"\n",
    "    x = np.zeros(k*k)\n",
    "    a = arr.reshape(-1)\n",
    "    x[:a.shape[0]] = a\n",
    "    return x.reshape(k, k, 1)\n",
    "    \n",
    "X = np.stack(train_df.cens_slice.apply(reshape_square))\n",
    "\n",
    "lb = LabelBinarizer()\n",
    "lb.fit(train_df.parent)\n",
    "y = lb.transform(train_df.parent)\n",
    "\n",
    "X_train, X_test, y_train, y_test = train_test_split(X, y, test_size=0.3, random_state=1)\n",
    "\n",
    "train_dataset = tf.data.Dataset.from_tensor_slices((X_train, y_train))\n",
    "test_dataset = tf.data.Dataset.from_tensor_slices((X_test, y_test))"
   ]
  },
  {
   "cell_type": "code",
   "execution_count": 6,
   "id": "7c967122",
   "metadata": {},
   "outputs": [
    {
     "data": {
      "text/plain": [
       "<BatchDataset shapes: ((None, 25, 25, 1), (None, 397)), types: (tf.float64, tf.int32)>"
      ]
     },
     "execution_count": 6,
     "metadata": {},
     "output_type": "execute_result"
    }
   ],
   "source": [
    "# https://github.com/tensorpack/tensorpack/blob/5845ead80e3d77c89e2f1e9d5e0691324a8354cc/examples/ResNet/cifar10-preact18-mixup.py#L101-L118\n",
    "\n",
    "def _mixup(x_in, y_in):\n",
    "    n = x_in.shape[0]\n",
    "    # draw from uniform instead of beta(alpha, alpha, BATCH_SIZE)\n",
    "    w = np.random.uniform(0.3, 0.7, size=n)\n",
    "    x_weight = w.reshape(n, 1, 1, 1)\n",
    "    index = np.random.permutation(n)\n",
    "\n",
    "    x = x_in * x_weight + x_in[index] * (1-x_weight)\n",
    "    y = y_in + y_in[index]\n",
    "    return x, y\n",
    "\n",
    "@tf.function(input_signature=[\n",
    "    tf.TensorSpec(None, tf.float64), \n",
    "    tf.TensorSpec(None, tf.int32), \n",
    "])\n",
    "def mixup(x_in, y_in):\n",
    "    x, y = tf.numpy_function(_mixup, [x_in, y_in], [tf.float64, tf.int32])\n",
    "    return tf.data.Dataset.from_tensor_slices((\n",
    "        tf.reshape(x, [-1, 25,25,1]), \n",
    "        tf.reshape(y, [-1, 397])\n",
    "    ))\n",
    "\n",
    "def add_mixup(dataset, batch_size=1024):\n",
    "    return (\n",
    "        dataset\n",
    "        .window(batch_size)\n",
    "        .flat_map(lambda x, y: tf.data.Dataset.zip((x.batch(batch_size), y.batch(batch_size))))\n",
    "        .map(mixup)\n",
    "        .flat_map(lambda x: x)\n",
    "        .batch(batch_size)\n",
    "    )\n",
    "\n",
    "add_mixup(test_dataset)"
   ]
  },
  {
   "cell_type": "code",
   "execution_count": 58,
   "id": "3f9cb20b",
   "metadata": {},
   "outputs": [],
   "source": [
    "from tensorflow.keras import Sequential\n",
    "from tensorflow.keras.layers import Conv2D, MaxPooling2D, Softmax, Flatten, Dense\n",
    "from tensorflow_addons.metrics import F1Score\n",
    "\n",
    "tf.config.list_physical_devices('GPU')\n",
    "def get_compiled_model(input_shape=(25, 25, 1), output_shape=397):\n",
    "    model = Sequential()\n",
    "    model.add(Conv2D(32, (3, 3), activation='relu', kernel_initializer='he_uniform', padding='same', input_shape=input_shape))\n",
    "    model.add(Conv2D(32, (3, 3), activation='relu', kernel_initializer='he_uniform', padding='same'))\n",
    "    model.add(Conv2D(3, (25, 25), activation='relu', kernel_initializer='he_uniform', padding='valid'))\n",
    "    model.add(Conv2D(output_shape, (1, 1), activation='relu', kernel_initializer='he_uniform', padding='valid'))\n",
    "    model.add(Flatten())\n",
    "\n",
    "#     model.add(Flatten())\n",
    "#     model.add(Dense(128, activation='relu', kernel_initializer='he_uniform'))\n",
    "#     model.add(Dense(output_shape, activation='sigmoid'))\n",
    "    \n",
    "    model.compile(optimizer='adam',\n",
    "        loss=tf.keras.losses.BinaryCrossentropy(from_logits=True),\n",
    "        metrics=['accuracy', F1Score(num_classes=output_shape)])\n",
    "    return model"
   ]
  },
  {
   "cell_type": "code",
   "execution_count": 59,
   "id": "ae3253a6",
   "metadata": {},
   "outputs": [
    {
     "name": "stdout",
     "output_type": "stream",
     "text": [
      "Model: \"sequential_20\"\n",
      "_________________________________________________________________\n",
      "Layer (type)                 Output Shape              Param #   \n",
      "=================================================================\n",
      "conv2d_88 (Conv2D)           (None, 25, 25, 32)        320       \n",
      "_________________________________________________________________\n",
      "conv2d_89 (Conv2D)           (None, 25, 25, 32)        9248      \n",
      "_________________________________________________________________\n",
      "conv2d_90 (Conv2D)           (None, 1, 1, 3)           60003     \n",
      "_________________________________________________________________\n",
      "conv2d_91 (Conv2D)           (None, 1, 1, 397)         1588      \n",
      "_________________________________________________________________\n",
      "flatten_10 (Flatten)         (None, 397)               0         \n",
      "=================================================================\n",
      "Total params: 71,159\n",
      "Trainable params: 71,159\n",
      "Non-trainable params: 0\n",
      "_________________________________________________________________\n"
     ]
    }
   ],
   "source": [
    "model = get_compiled_model()\n",
    "model.summary()"
   ]
  },
  {
   "cell_type": "code",
   "execution_count": 60,
   "id": "929d3b69",
   "metadata": {},
   "outputs": [
    {
     "name": "stdout",
     "output_type": "stream",
     "text": [
      "Epoch 1/10\n",
      "432/432 [==============================] - 24s 53ms/step - loss: 0.6932 - accuracy: 0.0046 - f1_score: 9.2110e-06 - val_loss: 0.6931 - val_accuracy: 0.0022 - val_f1_score: 0.0000e+00 11s 45ms/step - loss: 0.6933 - accuracy: 0.0045  - 12s 45ms/step - loss: 0.6933 - accuracy: 0.004 - 14s 45ms/step - loss: 0.6933 - accuracy: 0.004 - 15s 45ms/step -  - 17s 45ms/step - loss: 0.6933 - 19s 45ms/step \n",
      "Epoch 2/10\n",
      "432/432 [==============================] - 23s 53ms/step - loss: 0.6931 - accuracy: 0.0047 - f1_score: 0.0000e+00 - val_loss: 0.6931 - val_accuracy: 0.0022 - val_f1_score: 0.0000e+00\n",
      "Epoch 3/10\n",
      "432/432 [==============================] - 23s 53ms/step - loss: 0.6931 - accuracy: 0.0047 - f1_score: 0.0000e+00 - val_loss: 0.6931 - val_accuracy: 0.0022 - val_f1_score: 0.0000e+00\n",
      "Epoch 4/10\n",
      "432/432 [==============================] - 23s 54ms/step - loss: 0.6931 - accuracy: 0.0046 - f1_score: 0.0000e+00 - val_loss: 0.6931 - val_accuracy: 0.0022 - val_f1_score: 0.0000e+00\n",
      "Epoch 5/10\n",
      "432/432 [==============================] - 23s 53ms/step - loss: 0.6931 - accuracy: 0.0047 - f1_score: 0.0000e+00 - val_loss: 0.6931 - val_accuracy: 0.0022 - val_f1_score: 0.0000e+00\n",
      "Epoch 6/10\n",
      "432/432 [==============================] - 24s 55ms/step - loss: 0.6931 - accuracy: 0.0047 - f1_score: 0.0000e+00 - val_loss: 0.6931 - val_accuracy: 0.0022 - val_f1_score: 0.0000e+00\n",
      "Epoch 7/10\n",
      "432/432 [==============================] - 23s 53ms/step - loss: 0.6931 - accuracy: 0.0047 - f1_score: 0.0000e+00 - val_loss: 0.6931 - val_accuracy: 0.0022 - val_f1_score: 0.0000e+00\n",
      "Epoch 8/10\n",
      "432/432 [==============================] - 25s 58ms/step - loss: 0.6931 - accuracy: 0.0046 - f1_score: 0.0000e+00 - val_loss: 0.6931 - val_accuracy: 0.0022 - val_f1_score: 0.0000e+00\n",
      "Epoch 9/10\n",
      "432/432 [==============================] - 23s 54ms/step - loss: 0.6931 - accuracy: 0.0047 - f1_score: 0.0000e+00 - val_loss: 0.6931 - val_accuracy: 0.0022 - val_f1_score: 0.0000e+00\n",
      "Epoch 10/10\n",
      "432/432 [==============================] - 24s 55ms/step - loss: 0.6931 - accuracy: 0.0047 - f1_score: 0.0000e+00 - val_loss: 0.6931 - val_accuracy: 0.0022 - val_f1_score: 0.0000e+00\n"
     ]
    }
   ],
   "source": [
    "history = model.fit(add_mixup(train_dataset), epochs=10, validation_data=test_dataset.batch(1024))"
   ]
  },
  {
   "cell_type": "code",
   "execution_count": 61,
   "id": "1f43137a",
   "metadata": {},
   "outputs": [
    {
     "data": {
      "image/png": "[encoded data removed]",
      "text/plain": [
       "<Figure size 432x288 with 1 Axes>"
      ]
     },
     "metadata": {
      "needs_background": "light"
     },
     "output_type": "display_data"
    },
    {
     "data": {
      "image/png": "[encoded data removed]",
      "text/plain": [
       "<Figure size 432x288 with 1 Axes>"
      ]
     },
     "metadata": {
      "needs_background": "light"
     },
     "output_type": "display_data"
    },
    {
     "data": {
      "image/png": "[encoded data removed]",
      "text/plain": [
       "<Figure size 432x288 with 1 Axes>"
      ]
     },
     "metadata": {
      "needs_background": "light"
     },
     "output_type": "display_data"
    },
    {
     "name": "stdout",
     "output_type": "stream",
     "text": [
      "5914/5914 - 25s - loss: 0.6931 - accuracy: 0.0022 - f1_score: 0.0000e+00\n"
     ]
    },
    {
     "data": {
      "text/plain": [
       "[0.6931268572807312,\n",
       " 0.002235244959592819,\n",
       " array([0., 0., 0., 0., 0., 0., 0., 0., 0., 0., 0., 0., 0., 0., 0., 0., 0.,\n",
       "        0., 0., 0., 0., 0., 0., 0., 0., 0., 0., 0., 0., 0., 0., 0., 0., 0.,\n",
       "        0., 0., 0., 0., 0., 0., 0., 0., 0., 0., 0., 0., 0., 0., 0., 0., 0.,\n",
       "        0., 0., 0., 0., 0., 0., 0., 0., 0., 0., 0., 0., 0., 0., 0., 0., 0.,\n",
       "        0., 0., 0., 0., 0., 0., 0., 0., 0., 0., 0., 0., 0., 0., 0., 0., 0.,\n",
       "        0., 0., 0., 0., 0., 0., 0., 0., 0., 0., 0., 0., 0., 0., 0., 0., 0.,\n",
       "        0., 0., 0., 0., 0., 0., 0., 0., 0., 0., 0., 0., 0., 0., 0., 0., 0.,\n",
       "        0., 0., 0., 0., 0., 0., 0., 0., 0., 0., 0., 0., 0., 0., 0., 0., 0.,\n",
       "        0., 0., 0., 0., 0., 0., 0., 0., 0., 0., 0., 0., 0., 0., 0., 0., 0.,\n",
       "        0., 0., 0., 0., 0., 0., 0., 0., 0., 0., 0., 0., 0., 0., 0., 0., 0.,\n",
       "        0., 0., 0., 0., 0., 0., 0., 0., 0., 0., 0., 0., 0., 0., 0., 0., 0.,\n",
       "        0., 0., 0., 0., 0., 0., 0., 0., 0., 0., 0., 0., 0., 0., 0., 0., 0.,\n",
       "        0., 0., 0., 0., 0., 0., 0., 0., 0., 0., 0., 0., 0., 0., 0., 0., 0.,\n",
       "        0., 0., 0., 0., 0., 0., 0., 0., 0., 0., 0., 0., 0., 0., 0., 0., 0.,\n",
       "        0., 0., 0., 0., 0., 0., 0., 0., 0., 0., 0., 0., 0., 0., 0., 0., 0.,\n",
       "        0., 0., 0., 0., 0., 0., 0., 0., 0., 0., 0., 0., 0., 0., 0., 0., 0.,\n",
       "        0., 0., 0., 0., 0., 0., 0., 0., 0., 0., 0., 0., 0., 0., 0., 0., 0.,\n",
       "        0., 0., 0., 0., 0., 0., 0., 0., 0., 0., 0., 0., 0., 0., 0., 0., 0.,\n",
       "        0., 0., 0., 0., 0., 0., 0., 0., 0., 0., 0., 0., 0., 0., 0., 0., 0.,\n",
       "        0., 0., 0., 0., 0., 0., 0., 0., 0., 0., 0., 0., 0., 0., 0., 0., 0.,\n",
       "        0., 0., 0., 0., 0., 0., 0., 0., 0., 0., 0., 0., 0., 0., 0., 0., 0.,\n",
       "        0., 0., 0., 0., 0., 0., 0., 0., 0., 0., 0., 0., 0., 0., 0., 0., 0.,\n",
       "        0., 0., 0., 0., 0., 0., 0., 0., 0., 0., 0., 0., 0., 0., 0., 0., 0.,\n",
       "        0., 0., 0., 0., 0., 0.], dtype=float32)]"
      ]
     },
     "execution_count": 61,
     "metadata": {},
     "output_type": "execute_result"
    }
   ],
   "source": [
    "import matplotlib.pyplot as plt\n",
    "\n",
    "plt.plot(history.history['accuracy'], label='train')\n",
    "plt.plot(history.history['val_accuracy'], label='test')\n",
    "plt.xlabel('Epoch')\n",
    "plt.ylabel('Accuracy')\n",
    "plt.legend()\n",
    "plt.show()\n",
    "\n",
    "plt.plot([x.mean() for x in history.history['f1_score']], label='train')\n",
    "plt.plot([x.mean() for x in history.history['val_f1_score']], label='test')\n",
    "plt.xlabel('Epoch')\n",
    "plt.ylabel('F1 Score')\n",
    "plt.legend()\n",
    "plt.show()\n",
    "\n",
    "plt.plot(history.history[\"loss\"], label=\"train\")\n",
    "plt.plot(history.history[\"val_loss\"], label=\"test\")\n",
    "plt.xlabel(\"Epoch\")\n",
    "plt.ylabel(\"loss\")\n",
    "plt.legend()\n",
    "plt.show()\n",
    "\n",
    "model.evaluate(X_test, y_test, verbose=2)"
   ]
  },
  {
   "cell_type": "code",
   "execution_count": null,
   "id": "9c482574",
   "metadata": {},
   "outputs": [],
   "source": []
  }
 ],
 "metadata": {
  "kernelspec": {
   "display_name": "Python 3",
   "language": "python",
   "name": "python3"
  },
  "language_info": {
   "codemirror_mode": {
    "name": "ipython",
    "version": 3
   },
   "file_extension": ".py",
   "mimetype": "text/x-python",
   "name": "python",
   "nbconvert_exporter": "python",
   "pygments_lexer": "ipython3",
   "version": "3.8.9"
  }
 },
 "nbformat": 4,
 "nbformat_minor": 5
}
