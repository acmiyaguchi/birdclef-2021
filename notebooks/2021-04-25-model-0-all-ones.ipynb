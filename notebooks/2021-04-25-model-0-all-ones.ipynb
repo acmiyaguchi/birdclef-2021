{
 "cells": [
  {
   "cell_type": "markdown",
   "id": "d930bd01",
   "metadata": {},
   "source": [
    "# all ones"
   ]
  },
  {
   "cell_type": "code",
   "execution_count": 1,
   "id": "491e86d8",
   "metadata": {},
   "outputs": [
    {
     "data": {
      "text/html": [
       "<div>\n",
       "<style scoped>\n",
       "    .dataframe tbody tr th:only-of-type {\n",
       "        vertical-align: middle;\n",
       "    }\n",
       "\n",
       "    .dataframe tbody tr th {\n",
       "        vertical-align: top;\n",
       "    }\n",
       "\n",
       "    .dataframe thead th {\n",
       "        text-align: right;\n",
       "    }\n",
       "</style>\n",
       "<table border=\"1\" class=\"dataframe\">\n",
       "  <thead>\n",
       "    <tr style=\"text-align: right;\">\n",
       "      <th></th>\n",
       "      <th>name</th>\n",
       "      <th>parent</th>\n",
       "      <th>cens_slice</th>\n",
       "      <th>index</th>\n",
       "    </tr>\n",
       "  </thead>\n",
       "  <tbody>\n",
       "    <tr>\n",
       "      <th>0</th>\n",
       "      <td>XC109605</td>\n",
       "      <td>acafly</td>\n",
       "      <td>[[0.3086012466109237, 0.30568218743577036, 0.3...</td>\n",
       "      <td>(25, 75)</td>\n",
       "    </tr>\n",
       "    <tr>\n",
       "      <th>0</th>\n",
       "      <td>XC109605</td>\n",
       "      <td>acafly</td>\n",
       "      <td>[[0.37812375487169103, 0.3725999263434882, 0.3...</td>\n",
       "      <td>(157, 207)</td>\n",
       "    </tr>\n",
       "    <tr>\n",
       "      <th>0</th>\n",
       "      <td>XC109605</td>\n",
       "      <td>acafly</td>\n",
       "      <td>[[0.38193222855739883, 0.3810666924182529, 0.3...</td>\n",
       "      <td>(260, 310)</td>\n",
       "    </tr>\n",
       "    <tr>\n",
       "      <th>0</th>\n",
       "      <td>XC109605</td>\n",
       "      <td>acafly</td>\n",
       "      <td>[[0.3523993330368658, 0.3480284909351147, 0.34...</td>\n",
       "      <td>(324, 374)</td>\n",
       "    </tr>\n",
       "    <tr>\n",
       "      <th>0</th>\n",
       "      <td>XC109605</td>\n",
       "      <td>acafly</td>\n",
       "      <td>[[0.3179275282653602, 0.3194400852268083, 0.32...</td>\n",
       "      <td>(361, 411)</td>\n",
       "    </tr>\n",
       "  </tbody>\n",
       "</table>\n",
       "</div>"
      ],
      "text/plain": [
       "       name  parent                                         cens_slice  \\\n",
       "0  XC109605  acafly  [[0.3086012466109237, 0.30568218743577036, 0.3...   \n",
       "0  XC109605  acafly  [[0.37812375487169103, 0.3725999263434882, 0.3...   \n",
       "0  XC109605  acafly  [[0.38193222855739883, 0.3810666924182529, 0.3...   \n",
       "0  XC109605  acafly  [[0.3523993330368658, 0.3480284909351147, 0.34...   \n",
       "0  XC109605  acafly  [[0.3179275282653602, 0.3194400852268083, 0.32...   \n",
       "\n",
       "        index  \n",
       "0    (25, 75)  \n",
       "0  (157, 207)  \n",
       "0  (260, 310)  \n",
       "0  (324, 374)  \n",
       "0  (361, 411)  "
      ]
     },
     "execution_count": 1,
     "metadata": {},
     "output_type": "execute_result"
    }
   ],
   "source": [
    "import pandas as pd\n",
    "from sklearn.model_selection import train_test_split\n",
    "from sklearn.preprocessing import LabelBinarizer\n",
    "import numpy as np\n",
    "\n",
    "train_df = pd.read_pickle(\"../data/train_cens.pkl.gz\")\n",
    "train_df.head()"
   ]
  },
  {
   "cell_type": "code",
   "execution_count": 2,
   "id": "6e9e3946",
   "metadata": {},
   "outputs": [],
   "source": [
    "import tensorflow as tf\n",
    "\n",
    "def reshape_square(arr, k=25):\n",
    "    \"\"\"Domain specific. Transform 12x50 matrix into a square matrix that's 25x25.\"\"\"\n",
    "    x = np.zeros(k*k)\n",
    "    a = arr.reshape(-1)\n",
    "    x[:a.shape[0]] = a\n",
    "    return x.reshape(k, k, 1)\n",
    "    \n",
    "X = np.stack(train_df.cens_slice.apply(reshape_square))\n",
    "\n",
    "lb = LabelBinarizer()\n",
    "lb.fit(train_df.parent)\n",
    "y = lb.transform(train_df.parent)\n",
    "\n",
    "X_train, X_test, y_train, y_test = train_test_split(X, y, test_size=0.3, random_state=1)"
   ]
  },
  {
   "cell_type": "code",
   "execution_count": 3,
   "id": "3ad5cb2b",
   "metadata": {},
   "outputs": [
    {
     "data": {
      "text/plain": [
       "numpy.uint8"
      ]
     },
     "execution_count": 3,
     "metadata": {},
     "output_type": "execute_result"
    }
   ],
   "source": [
    "np.uint8"
   ]
  },
  {
   "cell_type": "code",
   "execution_count": 4,
   "id": "39798941",
   "metadata": {},
   "outputs": [
    {
     "data": {
      "text/plain": [
       "0.0"
      ]
     },
     "execution_count": 4,
     "metadata": {},
     "output_type": "execute_result"
    }
   ],
   "source": [
    "from sklearn.metrics import f1_score, accuracy_score\n",
    "\n",
    "accuracy_score(y_train.astype(np.uint8), np.ones(y_train.shape).astype(np.uint8))"
   ]
  },
  {
   "cell_type": "code",
   "execution_count": 6,
   "id": "a7f689e7",
   "metadata": {},
   "outputs": [
    {
     "data": {
      "text/plain": [
       "0.005025125628140703"
      ]
     },
     "execution_count": 6,
     "metadata": {},
     "output_type": "execute_result"
    }
   ],
   "source": [
    "f1_score(y_train.astype(np.uint8), np.ones(y_train.shape).astype(np.uint8), average=\"micro\")"
   ]
  }
 ],
 "metadata": {
  "kernelspec": {
   "display_name": "Python 3",
   "language": "python",
   "name": "python3"
  },
  "language_info": {
   "codemirror_mode": {
    "name": "ipython",
    "version": 3
   },
   "file_extension": ".py",
   "mimetype": "text/x-python",
   "name": "python",
   "nbconvert_exporter": "python",
   "pygments_lexer": "ipython3",
   "version": "3.8.9"
  }
 },
 "nbformat": 4,
 "nbformat_minor": 5
}
