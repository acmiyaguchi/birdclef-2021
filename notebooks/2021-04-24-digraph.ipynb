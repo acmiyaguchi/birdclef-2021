{
 "cells": [
  {
   "cell_type": "code",
   "execution_count": 42,
   "id": "cb334d64",
   "metadata": {},
   "outputs": [],
   "source": [
    "import numpy as np\n",
    "import networkx as nx\n",
    "from scipy.stats import median_abs_deviation\n",
    "\n",
    "\n",
    "def create_digraph(affinity):\n",
    "    k = 1.4826\n",
    "    # there may be large number of 0 elements, ignore them\n",
    "    masked = np.ma.masked_where(affinity == 0, affinity)\n",
    "    unmasked = masked[masked.mask == False].reshape(-1)\n",
    "    mad = median_abs_deviation(unmasked)\n",
    "    zscores = (masked - np.median(unmasked)) / (k * mad)\n",
    "    dropped = masked * (zscores < 1)\n",
    "    normed = dropped / dropped.sum()\n",
    "    return nx.from_numpy_matrix(normed.filled(0), create_using=nx.DiGraph)"
   ]
  },
  {
   "cell_type": "code",
   "execution_count": 7,
   "id": "f671464a",
   "metadata": {},
   "outputs": [
    {
     "data": {
      "text/plain": [
       "array([[4., 0., 2., 0.],\n",
       "       [0., 0., 0., 0.],\n",
       "       [2., 0., 1., 0.],\n",
       "       [0., 0., 0., 0.]])"
      ]
     },
     "execution_count": 7,
     "metadata": {},
     "output_type": "execute_result"
    }
   ],
   "source": [
    "n = 4\n",
    "x = np.array([2, 0, 1, 0])\n",
    "aff = np.zeros((n, n))\n",
    "for i in range(n):\n",
    "    for j in range(n):\n",
    "        aff[i][j] = x[i] * x[j]\n",
    "aff"
   ]
  },
  {
   "cell_type": "code",
   "execution_count": 24,
   "id": "424eb244",
   "metadata": {},
   "outputs": [
    {
     "data": {
      "text/plain": [
       "masked_array(\n",
       "  data=[[4.0, --, 2.0, --],\n",
       "        [--, --, --, --],\n",
       "        [2.0, --, 1.0, --],\n",
       "        [--, --, --, --]],\n",
       "  mask=[[False,  True, False,  True],\n",
       "        [ True,  True,  True,  True],\n",
       "        [False,  True, False,  True],\n",
       "        [ True,  True,  True,  True]],\n",
       "  fill_value=1e+20)"
      ]
     },
     "execution_count": 24,
     "metadata": {},
     "output_type": "execute_result"
    }
   ],
   "source": [
    "masked = np.ma.masked_where(aff == 0, aff)\n",
    "masked"
   ]
  },
  {
   "cell_type": "code",
   "execution_count": 25,
   "id": "769317fa",
   "metadata": {},
   "outputs": [
    {
     "data": {
      "text/plain": [
       "masked_array(data=[4.0, --, 2.0, --, --, --, --, --, 2.0, --, 1.0, --, --,\n",
       "                   --, --, --],\n",
       "             mask=[False,  True, False,  True,  True,  True,  True,  True,\n",
       "                   False,  True, False,  True,  True,  True,  True,  True],\n",
       "       fill_value=1e+20)"
      ]
     },
     "execution_count": 25,
     "metadata": {},
     "output_type": "execute_result"
    }
   ],
   "source": [
    "masked.reshape(-1)"
   ]
  },
  {
   "cell_type": "code",
   "execution_count": 26,
   "id": "21ceee7d",
   "metadata": {},
   "outputs": [
    {
     "data": {
      "text/plain": [
       "2.0"
      ]
     },
     "execution_count": 26,
     "metadata": {},
     "output_type": "execute_result"
    }
   ],
   "source": [
    "np.median(masked[masked.mask == False])"
   ]
  },
  {
   "cell_type": "code",
   "execution_count": 27,
   "id": "e2a4ac04",
   "metadata": {},
   "outputs": [
    {
     "data": {
      "text/plain": [
       "0.5"
      ]
     },
     "execution_count": 27,
     "metadata": {},
     "output_type": "execute_result"
    }
   ],
   "source": [
    "median_abs_deviation(masked[masked.mask == False].reshape(-1))"
   ]
  },
  {
   "cell_type": "code",
   "execution_count": 29,
   "id": "70a89279",
   "metadata": {},
   "outputs": [
    {
     "data": {
      "text/plain": [
       "array([[4., 0., 2., 0.],\n",
       "       [0., 0., 0., 0.],\n",
       "       [2., 0., 1., 0.],\n",
       "       [0., 0., 0., 0.]])"
      ]
     },
     "execution_count": 29,
     "metadata": {},
     "output_type": "execute_result"
    }
   ],
   "source": [
    "masked.filled(0)"
   ]
  },
  {
   "cell_type": "code",
   "execution_count": 35,
   "id": "1861befb",
   "metadata": {},
   "outputs": [],
   "source": [
    "affinity = aff\n",
    "k = 1.4826\n",
    "# there may be large number of 0 elements, ignore them\n",
    "masked = np.ma.masked_where(affinity == 0, affinity)\n",
    "unmasked = masked[masked.mask == False].reshape(-1)\n",
    "mad = median_abs_deviation(unmasked)\n",
    "zscores = (masked - np.median(unmasked)) / (k * mad)\n",
    "dropped = masked * (zscores < 1)\n",
    "normed = dropped / dropped.sum()"
   ]
  },
  {
   "cell_type": "code",
   "execution_count": 44,
   "id": "ab477ebd",
   "metadata": {},
   "outputs": [
    {
     "data": {
      "image/png": "[encoded data removed]",
      "text/plain": [
       "<Figure size 432x288 with 1 Axes>"
      ]
     },
     "metadata": {},
     "output_type": "display_data"
    }
   ],
   "source": [
    "G = create_digraph(aff)\n",
    "nx.draw(G)"
   ]
  }
 ],
 "metadata": {
  "kernelspec": {
   "display_name": "Python 3",
   "language": "python",
   "name": "python3"
  },
  "language_info": {
   "codemirror_mode": {
    "name": "ipython",
    "version": 3
   },
   "file_extension": ".py",
   "mimetype": "text/x-python",
   "name": "python",
   "nbconvert_exporter": "python",
   "pygments_lexer": "ipython3",
   "version": "3.8.9"
  }
 },
 "nbformat": 4,
 "nbformat_minor": 5
}
