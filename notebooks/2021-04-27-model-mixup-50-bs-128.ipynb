{
 "cells": [
  {
   "cell_type": "code",
   "execution_count": 1,
   "id": "8fcbc685",
   "metadata": {},
   "outputs": [
    {
     "data": {
      "text/html": [
       "<div>\n",
       "<style scoped>\n",
       "    .dataframe tbody tr th:only-of-type {\n",
       "        vertical-align: middle;\n",
       "    }\n",
       "\n",
       "    .dataframe tbody tr th {\n",
       "        vertical-align: top;\n",
       "    }\n",
       "\n",
       "    .dataframe thead th {\n",
       "        text-align: right;\n",
       "    }\n",
       "</style>\n",
       "<table border=\"1\" class=\"dataframe\">\n",
       "  <thead>\n",
       "    <tr style=\"text-align: right;\">\n",
       "      <th></th>\n",
       "      <th>name</th>\n",
       "      <th>parent</th>\n",
       "      <th>cens_slice</th>\n",
       "      <th>index</th>\n",
       "    </tr>\n",
       "  </thead>\n",
       "  <tbody>\n",
       "    <tr>\n",
       "      <th>0</th>\n",
       "      <td>XC109605</td>\n",
       "      <td>acafly</td>\n",
       "      <td>[[0.3086012466109237, 0.30568218743577036, 0.3...</td>\n",
       "      <td>(25, 75)</td>\n",
       "    </tr>\n",
       "    <tr>\n",
       "      <th>0</th>\n",
       "      <td>XC109605</td>\n",
       "      <td>acafly</td>\n",
       "      <td>[[0.37812375487169103, 0.3725999263434882, 0.3...</td>\n",
       "      <td>(157, 207)</td>\n",
       "    </tr>\n",
       "    <tr>\n",
       "      <th>0</th>\n",
       "      <td>XC109605</td>\n",
       "      <td>acafly</td>\n",
       "      <td>[[0.38193222855739883, 0.3810666924182529, 0.3...</td>\n",
       "      <td>(260, 310)</td>\n",
       "    </tr>\n",
       "    <tr>\n",
       "      <th>0</th>\n",
       "      <td>XC109605</td>\n",
       "      <td>acafly</td>\n",
       "      <td>[[0.3523993330368658, 0.3480284909351147, 0.34...</td>\n",
       "      <td>(324, 374)</td>\n",
       "    </tr>\n",
       "    <tr>\n",
       "      <th>0</th>\n",
       "      <td>XC109605</td>\n",
       "      <td>acafly</td>\n",
       "      <td>[[0.3179275282653602, 0.3194400852268083, 0.32...</td>\n",
       "      <td>(361, 411)</td>\n",
       "    </tr>\n",
       "  </tbody>\n",
       "</table>\n",
       "</div>"
      ],
      "text/plain": [
       "       name  parent                                         cens_slice  \\\n",
       "0  XC109605  acafly  [[0.3086012466109237, 0.30568218743577036, 0.3...   \n",
       "0  XC109605  acafly  [[0.37812375487169103, 0.3725999263434882, 0.3...   \n",
       "0  XC109605  acafly  [[0.38193222855739883, 0.3810666924182529, 0.3...   \n",
       "0  XC109605  acafly  [[0.3523993330368658, 0.3480284909351147, 0.34...   \n",
       "0  XC109605  acafly  [[0.3179275282653602, 0.3194400852268083, 0.32...   \n",
       "\n",
       "        index  \n",
       "0    (25, 75)  \n",
       "0  (157, 207)  \n",
       "0  (260, 310)  \n",
       "0  (324, 374)  \n",
       "0  (361, 411)  "
      ]
     },
     "execution_count": 1,
     "metadata": {},
     "output_type": "execute_result"
    }
   ],
   "source": [
    "import pandas as pd\n",
    "from sklearn.model_selection import train_test_split\n",
    "from sklearn.preprocessing import LabelBinarizer\n",
    "import numpy as np\n",
    "\n",
    "train_df = pd.read_pickle(\"../data/train_cens.pkl.gz\")\n",
    "train_df.head()"
   ]
  },
  {
   "cell_type": "code",
   "execution_count": 2,
   "id": "5cc7c1c4",
   "metadata": {},
   "outputs": [],
   "source": [
    "import tensorflow as tf\n",
    "\n",
    "def reshape_square(arr, k=25):\n",
    "    \"\"\"Domain specific. Transform 12x50 matrix into a square matrix that's 25x25.\"\"\"\n",
    "    x = np.zeros(k*k)\n",
    "    a = arr.reshape(-1)\n",
    "    x[:a.shape[0]] = a\n",
    "    return x.reshape(k, k, 1)\n",
    "    \n",
    "X = np.stack(train_df.cens_slice.apply(reshape_square))\n",
    "\n",
    "lb = LabelBinarizer()\n",
    "lb.fit(train_df.parent)\n",
    "y = lb.transform(train_df.parent)\n",
    "\n",
    "X_train, X_test, y_train, y_test = train_test_split(X, y, test_size=0.3, random_state=1)"
   ]
  },
  {
   "cell_type": "code",
   "execution_count": 3,
   "id": "7d612734",
   "metadata": {},
   "outputs": [],
   "source": [
    "from tensorflow.keras import Sequential\n",
    "from tensorflow.keras.layers import Conv2D, MaxPooling2D, Softmax, Flatten, Dense\n",
    "from tensorflow_addons.metrics import F1Score\n",
    "\n",
    "tf.config.list_physical_devices('GPU')\n",
    "def get_compiled_model(input_shape=(25, 25, 1), output_shape=397):\n",
    "    model = Sequential()\n",
    "    model.add(Conv2D(32, (3, 3), activation='relu', kernel_initializer='he_uniform', padding='same', input_shape=input_shape))\n",
    "    model.add(Conv2D(32, (3, 3), activation='relu', kernel_initializer='he_uniform', padding='same'))\n",
    "    model.add(MaxPooling2D((2, 2)))\n",
    "    model.add(Conv2D(64, (3, 3), activation='relu', kernel_initializer='he_uniform', padding='same'))\n",
    "    model.add(Conv2D(64, (3, 3), activation='relu', kernel_initializer='he_uniform', padding='same'))\n",
    "    model.add(MaxPooling2D((2, 2)))\n",
    "    model.add(Conv2D(128, (3, 3), activation='relu', kernel_initializer='he_uniform', padding='same'))\n",
    "    model.add(Conv2D(128, (3, 3), activation='relu', kernel_initializer='he_uniform', padding='same'))\n",
    "    model.add(MaxPooling2D((2, 2)))\n",
    "\n",
    "    model.add(Flatten())\n",
    "    model.add(Dense(128, activation='relu', kernel_initializer='he_uniform'))\n",
    "    model.add(Dense(output_shape, activation='sigmoid'))\n",
    "    \n",
    "    model.compile(optimizer='adam',\n",
    "        loss=tf.keras.losses.BinaryCrossentropy(from_logits=True),\n",
    "        metrics=['accuracy', F1Score(num_classes=output_shape)])\n",
    "    return model"
   ]
  },
  {
   "cell_type": "code",
   "execution_count": 4,
   "id": "be9594a0",
   "metadata": {},
   "outputs": [],
   "source": [
    "train_dataset = tf.data.Dataset.from_tensor_slices((X_train, y_train))\n",
    "test_dataset = tf.data.Dataset.from_tensor_slices((X_test, y_test))"
   ]
  },
  {
   "cell_type": "code",
   "execution_count": 5,
   "id": "9c31a246",
   "metadata": {},
   "outputs": [
    {
     "data": {
      "text/plain": [
       "<PrefetchDataset shapes: ((None, 25, 25, 1), (None, 397)), types: (tf.float64, tf.int32)>"
      ]
     },
     "execution_count": 5,
     "metadata": {},
     "output_type": "execute_result"
    }
   ],
   "source": [
    "# https://github.com/tensorpack/tensorpack/blob/5845ead80e3d77c89e2f1e9d5e0691324a8354cc/examples/ResNet/cifar10-preact18-mixup.py#L101-L118\n",
    "\n",
    "def _mixup(x_in, y_in):\n",
    "    n = x_in.shape[0]\n",
    "    # draw from uniform instead of beta(alpha, alpha, BATCH_SIZE)\n",
    "    w = np.random.uniform(0.3, 0.7, size=n)\n",
    "    x_weight = w.reshape(n, 1, 1, 1)\n",
    "    index = np.random.permutation(n)\n",
    "\n",
    "    x = x_in * x_weight + x_in[index] * (1-x_weight)\n",
    "    y = y_in + y_in[index]\n",
    "    \n",
    "    return x, y\n",
    "\n",
    "@tf.function(input_signature=[\n",
    "    tf.TensorSpec(None, tf.float64), \n",
    "    tf.TensorSpec(None, tf.int32), \n",
    "])\n",
    "def mixup(x_in, y_in):\n",
    "    x, y = tf.numpy_function(_mixup, [x_in, y_in], [tf.float64, tf.int32])\n",
    "    return tf.data.Dataset.from_tensor_slices((\n",
    "        tf.reshape(x, [-1, 25,25,1]), \n",
    "        tf.reshape(y, [-1, 397])\n",
    "    ))\n",
    "\n",
    "def add_mixup(dataset, batch_size=1024):\n",
    "    return (\n",
    "        dataset\n",
    "        .shuffle(batch_size)\n",
    "        .window(batch_size)\n",
    "        .flat_map(lambda x, y: tf.data.Dataset.zip((x.batch(batch_size), y.batch(batch_size))))\n",
    "        .map(mixup, num_parallel_calls=tf.data.AUTOTUNE)\n",
    "        .flat_map(lambda x: x)\n",
    "        .batch(batch_size)\n",
    "        .prefetch(tf.data.AUTOTUNE)\n",
    "    )\n",
    "\n",
    "add_mixup(test_dataset)"
   ]
  },
  {
   "cell_type": "code",
   "execution_count": 6,
   "id": "48820357",
   "metadata": {},
   "outputs": [
    {
     "name": "stdout",
     "output_type": "stream",
     "text": [
      "Model: \"sequential\"\n",
      "_________________________________________________________________\n",
      "Layer (type)                 Output Shape              Param #   \n",
      "=================================================================\n",
      "conv2d (Conv2D)              (None, 25, 25, 32)        320       \n",
      "_________________________________________________________________\n",
      "conv2d_1 (Conv2D)            (None, 25, 25, 32)        9248      \n",
      "_________________________________________________________________\n",
      "max_pooling2d (MaxPooling2D) (None, 12, 12, 32)        0         \n",
      "_________________________________________________________________\n",
      "conv2d_2 (Conv2D)            (None, 12, 12, 64)        18496     \n",
      "_________________________________________________________________\n",
      "conv2d_3 (Conv2D)            (None, 12, 12, 64)        36928     \n",
      "_________________________________________________________________\n",
      "max_pooling2d_1 (MaxPooling2 (None, 6, 6, 64)          0         \n",
      "_________________________________________________________________\n",
      "conv2d_4 (Conv2D)            (None, 6, 6, 128)         73856     \n",
      "_________________________________________________________________\n",
      "conv2d_5 (Conv2D)            (None, 6, 6, 128)         147584    \n",
      "_________________________________________________________________\n",
      "max_pooling2d_2 (MaxPooling2 (None, 3, 3, 128)         0         \n",
      "_________________________________________________________________\n",
      "flatten (Flatten)            (None, 1152)              0         \n",
      "_________________________________________________________________\n",
      "dense (Dense)                (None, 128)               147584    \n",
      "_________________________________________________________________\n",
      "dense_1 (Dense)              (None, 397)               51213     \n",
      "=================================================================\n",
      "Total params: 485,229\n",
      "Trainable params: 485,229\n",
      "Non-trainable params: 0\n",
      "_________________________________________________________________\n"
     ]
    }
   ],
   "source": [
    "model = get_compiled_model()\n",
    "model.summary()"
   ]
  },
  {
   "cell_type": "code",
   "execution_count": 7,
   "id": "e2be6b73",
   "metadata": {},
   "outputs": [
    {
     "name": "stdout",
     "output_type": "stream",
     "text": [
      "Epoch 1/5\n",
      "1725/1725 [==============================] - 45s 18ms/step - loss: 0.0487 - accuracy: 0.0176 - f1_score: 0.0011 - val_loss: 0.0173 - val_accuracy: 0.0239 - val_f1_score: 0.0023\n",
      "Epoch 2/5\n",
      "1725/1725 [==============================] - 29s 17ms/step - loss: 0.0302 - accuracy: 0.0259 - f1_score: 0.0029 - val_loss: 0.0170 - val_accuracy: 0.0310 - val_f1_score: 0.0047\n",
      "Epoch 3/5\n",
      "1725/1725 [==============================] - 29s 17ms/step - loss: 0.0299 - accuracy: 0.0299 - f1_score: 0.0050 - val_loss: 0.0167 - val_accuracy: 0.0360 - val_f1_score: 0.0077\n",
      "Epoch 4/5\n",
      "1725/1725 [==============================] - 29s 17ms/step - loss: 0.0297 - accuracy: 0.0330 - f1_score: 0.0075 - val_loss: 0.0167 - val_accuracy: 0.0395 - val_f1_score: 0.0099\n",
      "Epoch 5/5\n",
      "1725/1725 [==============================] - 30s 17ms/step - loss: 0.0296 - accuracy: 0.0354 - f1_score: 0.0096 - val_loss: 0.0167 - val_accuracy: 0.0451 - val_f1_score: 0.0125\n"
     ]
    }
   ],
   "source": [
    "history = model.fit(add_mixup(train_dataset, 256), epochs=5, validation_data=test_dataset.batch(256))"
   ]
  },
  {
   "cell_type": "code",
   "execution_count": 8,
   "id": "47501e81",
   "metadata": {},
   "outputs": [
    {
     "name": "stdout",
     "output_type": "stream",
     "text": [
      "Epoch 1/5\n",
      "3450/3450 [==============================] - 46s 13ms/step - loss: 0.0296 - accuracy: 0.0359 - f1_score: 0.0108 - val_loss: 0.0166 - val_accuracy: 0.0458 - val_f1_score: 0.0132\n",
      "Epoch 2/5\n",
      "3450/3450 [==============================] - 51s 15ms/step - loss: 0.0294 - accuracy: 0.0373 - f1_score: 0.0127 - val_loss: 0.0166 - val_accuracy: 0.0470 - val_f1_score: 0.0148\n",
      "Epoch 3/5\n",
      "3450/3450 [==============================] - 61s 18ms/step - loss: 0.0294 - accuracy: 0.0394 - f1_score: 0.0147 - val_loss: 0.0166 - val_accuracy: 0.0509 - val_f1_score: 0.0177\n",
      "Epoch 4/5\n",
      "3450/3450 [==============================] - 70s 20ms/step - loss: 0.0293 - accuracy: 0.0409 - f1_score: 0.0163 - val_loss: 0.0167 - val_accuracy: 0.0520 - val_f1_score: 0.0200\n",
      "Epoch 5/5\n",
      "3450/3450 [==============================] - 79s 23ms/step - loss: 0.0292 - accuracy: 0.0415 - f1_score: 0.0178 - val_loss: 0.0166 - val_accuracy: 0.0525 - val_f1_score: 0.0205\n"
     ]
    }
   ],
   "source": [
    "history = model.fit(add_mixup(train_dataset, 128), epochs=5, validation_data=test_dataset.batch(256))"
   ]
  },
  {
   "cell_type": "code",
   "execution_count": 44,
   "id": "31501a20",
   "metadata": {},
   "outputs": [
    {
     "data": {
      "image/png": "[encoded data removed]",
      "text/plain": [
       "<Figure size 432x288 with 1 Axes>"
      ]
     },
     "metadata": {
      "needs_background": "light"
     },
     "output_type": "display_data"
    },
    {
     "data": {
      "image/png": "[encoded data removed]",
      "text/plain": [
       "<Figure size 432x288 with 1 Axes>"
      ]
     },
     "metadata": {
      "needs_background": "light"
     },
     "output_type": "display_data"
    },
    {
     "data": {
      "image/png": "[encoded data removed]",
      "text/plain": [
       "<Figure size 432x288 with 1 Axes>"
      ]
     },
     "metadata": {
      "needs_background": "light"
     },
     "output_type": "display_data"
    },
    {
     "name": "stdout",
     "output_type": "stream",
     "text": [
      "5914/5914 - 75s - loss: 0.0164 - accuracy: 0.0565 - f1_score: 0.0251\n"
     ]
    },
    {
     "data": {
      "text/plain": [
       "[0.01639239303767681,\n",
       " 0.05645710974931717,\n",
       " array([0.        , 0.        , 0.05368647, 0.        , 0.        ,\n",
       "        0.        , 0.        , 0.        , 0.        , 0.08623298,\n",
       "        0.        , 0.        , 0.01683244, 0.        , 0.02266783,\n",
       "        0.        , 0.        , 0.        , 0.        , 0.        ,\n",
       "        0.03193613, 0.        , 0.05048077, 0.13626747, 0.        ,\n",
       "        0.        , 0.        , 0.08225109, 0.        , 0.01988636,\n",
       "        0.        , 0.        , 0.01051402, 0.00854701, 0.        ,\n",
       "        0.00574713, 0.00471143, 0.00244798, 0.11893583, 0.        ,\n",
       "        0.03970742, 0.03938115, 0.00806452, 0.        , 0.        ,\n",
       "        0.04851753, 0.04903677, 0.03832753, 0.00775194, 0.10070845,\n",
       "        0.00337268, 0.        , 0.        , 0.        , 0.00671141,\n",
       "        0.03603604, 0.        , 0.04225352, 0.03724928, 0.01005025,\n",
       "        0.01923077, 0.17777778, 0.01075269, 0.        , 0.        ,\n",
       "        0.        , 0.03340292, 0.        , 0.        , 0.        ,\n",
       "        0.        , 0.0404814 , 0.04066074, 0.        , 0.        ,\n",
       "        0.        , 0.24074075, 0.10801394, 0.        , 0.        ,\n",
       "        0.00277392, 0.        , 0.        , 0.03008327, 0.01652892,\n",
       "        0.05620609, 0.        , 0.        , 0.01729107, 0.00364963,\n",
       "        0.        , 0.07438017, 0.        , 0.0610998 , 0.13887309,\n",
       "        0.06334126, 0.04912281, 0.04950495, 0.        , 0.        ,\n",
       "        0.        , 0.0035461 , 0.04095563, 0.11009174, 0.        ,\n",
       "        0.06593406, 0.        , 0.        , 0.01271186, 0.        ,\n",
       "        0.06609547, 0.05919662, 0.04812382, 0.        , 0.        ,\n",
       "        0.        , 0.        , 0.01010101, 0.        , 0.06299213,\n",
       "        0.06517139, 0.03445899, 0.        , 0.1092437 , 0.        ,\n",
       "        0.        , 0.        , 0.        , 0.        , 0.00547945,\n",
       "        0.00898876, 0.09198423, 0.12482566, 0.05257296, 0.12043435,\n",
       "        0.06095792, 0.        , 0.0027972 , 0.04678363, 0.        ,\n",
       "        0.01123596, 0.        , 0.03948002, 0.        , 0.        ,\n",
       "        0.00369004, 0.03550296, 0.        , 0.03448276, 0.00495049,\n",
       "        0.01916933, 0.        , 0.        , 0.00247525, 0.        ,\n",
       "        0.03243243, 0.00760456, 0.        , 0.01809045, 0.2229102 ,\n",
       "        0.        , 0.03896104, 0.        , 0.        , 0.09222133,\n",
       "        0.        , 0.        , 0.00214823, 0.00344234, 0.        ,\n",
       "        0.08310992, 0.        , 0.        , 0.        , 0.09410879,\n",
       "        0.06857143, 0.07843138, 0.        , 0.01092896, 0.08205815,\n",
       "        0.0531511 , 0.00854701, 0.00472813, 0.        , 0.11229136,\n",
       "        0.03325416, 0.        , 0.        , 0.25140712, 0.        ,\n",
       "        0.        , 0.00403226, 0.        , 0.00622084, 0.        ,\n",
       "        0.02688172, 0.        , 0.        , 0.09167367, 0.        ,\n",
       "        0.12794812, 0.03320562, 0.        , 0.02614379, 0.07179487,\n",
       "        0.1362468 , 0.0281294 , 0.09071274, 0.00172563, 0.03990025,\n",
       "        0.00305343, 0.        , 0.        , 0.12244899, 0.07017544,\n",
       "        0.        , 0.        , 0.        , 0.        , 0.        ,\n",
       "        0.05822702, 0.0089153 , 0.06982213, 0.03389831, 0.        ,\n",
       "        0.        , 0.05405406, 0.        , 0.        , 0.        ,\n",
       "        0.03886926, 0.        , 0.        , 0.        , 0.03614458,\n",
       "        0.        , 0.        , 0.        , 0.        , 0.08885425,\n",
       "        0.01179941, 0.        , 0.        , 0.        , 0.04428044,\n",
       "        0.        , 0.        , 0.04498978, 0.        , 0.        ,\n",
       "        0.        , 0.        , 0.        , 0.09190173, 0.02946593,\n",
       "        0.        , 0.        , 0.        , 0.        , 0.        ,\n",
       "        0.        , 0.03325416, 0.02083333, 0.        , 0.0124364 ,\n",
       "        0.03896104, 0.        , 0.06153846, 0.02409638, 0.        ,\n",
       "        0.02977963, 0.        , 0.        , 0.02621876, 0.        ,\n",
       "        0.01111111, 0.        , 0.        , 0.03125   , 0.        ,\n",
       "        0.02941176, 0.00614125, 0.11102107, 0.        , 0.06675393,\n",
       "        0.01716738, 0.00956938, 0.        , 0.04782609, 0.        ,\n",
       "        0.01449275, 0.        , 0.06340057, 0.        , 0.        ,\n",
       "        0.        , 0.02295552, 0.        , 0.05458089, 0.06751055,\n",
       "        0.        , 0.08080808, 0.05860806, 0.        , 0.        ,\n",
       "        0.        , 0.        , 0.        , 0.        , 0.        ,\n",
       "        0.        , 0.23783785, 0.03298969, 0.01092896, 0.        ,\n",
       "        0.04016132, 0.05955335, 0.        , 0.04487805, 0.        ,\n",
       "        0.        , 0.07720588, 0.00711744, 0.        , 0.        ,\n",
       "        0.11279563, 0.        , 0.        , 0.        , 0.016     ,\n",
       "        0.07354686, 0.02409639, 0.06068308, 0.01716738, 0.07920792,\n",
       "        0.06698564, 0.        , 0.        , 0.        , 0.        ,\n",
       "        0.07426598, 0.        , 0.        , 0.        , 0.08580858,\n",
       "        0.04219409, 0.00338983, 0.        , 0.01892745, 0.08540219,\n",
       "        0.00676819, 0.        , 0.        , 0.01169591, 0.        ,\n",
       "        0.        , 0.02523659, 0.10318665, 0.10041077, 0.04538577,\n",
       "        0.02486679, 0.        , 0.        , 0.02533427, 0.08328115,\n",
       "        0.00858369, 0.03256445, 0.        , 0.11894884, 0.089141  ,\n",
       "        0.        , 0.17237443, 0.003367  , 0.        , 0.04195804,\n",
       "        0.        , 0.        , 0.        , 0.06392694, 0.04979253,\n",
       "        0.        , 0.00990099, 0.06649616, 0.        , 0.0530303 ,\n",
       "        0.02580645, 0.        , 0.        , 0.01324503, 0.        ,\n",
       "        0.02290076, 0.00753296, 0.03934426, 0.        , 0.        ,\n",
       "        0.        , 0.00716846], dtype=float32)]"
      ]
     },
     "execution_count": 44,
     "metadata": {},
     "output_type": "execute_result"
    }
   ],
   "source": [
    "import matplotlib.pyplot as plt\n",
    "\n",
    "plt.plot(history.history['accuracy'], label='train')\n",
    "plt.plot(history.history['val_accuracy'], label='test')\n",
    "plt.xlabel('Epoch')\n",
    "plt.ylabel('Accuracy')\n",
    "plt.legend()\n",
    "plt.show()\n",
    "\n",
    "plt.plot([x.mean() for x in history.history['f1_score']], label='train')\n",
    "plt.plot([x.mean() for x in history.history['val_f1_score']], label='test')\n",
    "plt.xlabel('Epoch')\n",
    "plt.ylabel('F1 Score')\n",
    "plt.legend()\n",
    "plt.show()\n",
    "\n",
    "plt.plot(history.history[\"loss\"], label=\"train\")\n",
    "plt.plot(history.history[\"val_loss\"], label=\"test\")\n",
    "plt.xlabel(\"Epoch\")\n",
    "plt.ylabel(\"loss\")\n",
    "plt.legend()\n",
    "plt.show()\n",
    "\n",
    "model.evaluate(X_test, y_test, verbose=2)"
   ]
  }
 ],
 "metadata": {
  "kernelspec": {
   "display_name": "Python 3",
   "language": "python",
   "name": "python3"
  },
  "language_info": {
   "codemirror_mode": {
    "name": "ipython",
    "version": 3
   },
   "file_extension": ".py",
   "mimetype": "text/x-python",
   "name": "python",
   "nbconvert_exporter": "python",
   "pygments_lexer": "ipython3",
   "version": "3.8.9"
  }
 },
 "nbformat": 4,
 "nbformat_minor": 5
}
