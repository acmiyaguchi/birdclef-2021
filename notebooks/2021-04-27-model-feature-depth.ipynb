{
 "cells": [
  {
   "cell_type": "code",
   "execution_count": 1,
   "id": "9dca9787",
   "metadata": {},
   "outputs": [
    {
     "data": {
      "text/html": [
       "<div>\n",
       "<style scoped>\n",
       "    .dataframe tbody tr th:only-of-type {\n",
       "        vertical-align: middle;\n",
       "    }\n",
       "\n",
       "    .dataframe tbody tr th {\n",
       "        vertical-align: top;\n",
       "    }\n",
       "\n",
       "    .dataframe thead th {\n",
       "        text-align: right;\n",
       "    }\n",
       "</style>\n",
       "<table border=\"1\" class=\"dataframe\">\n",
       "  <thead>\n",
       "    <tr style=\"text-align: right;\">\n",
       "      <th></th>\n",
       "      <th>name</th>\n",
       "      <th>parent</th>\n",
       "      <th>cens_slice</th>\n",
       "      <th>index</th>\n",
       "    </tr>\n",
       "  </thead>\n",
       "  <tbody>\n",
       "    <tr>\n",
       "      <th>0</th>\n",
       "      <td>XC109605</td>\n",
       "      <td>acafly</td>\n",
       "      <td>[[0.3086012466109237, 0.30568218743577036, 0.3...</td>\n",
       "      <td>(25, 75)</td>\n",
       "    </tr>\n",
       "    <tr>\n",
       "      <th>0</th>\n",
       "      <td>XC109605</td>\n",
       "      <td>acafly</td>\n",
       "      <td>[[0.37812375487169103, 0.3725999263434882, 0.3...</td>\n",
       "      <td>(157, 207)</td>\n",
       "    </tr>\n",
       "    <tr>\n",
       "      <th>0</th>\n",
       "      <td>XC109605</td>\n",
       "      <td>acafly</td>\n",
       "      <td>[[0.38193222855739883, 0.3810666924182529, 0.3...</td>\n",
       "      <td>(260, 310)</td>\n",
       "    </tr>\n",
       "    <tr>\n",
       "      <th>0</th>\n",
       "      <td>XC109605</td>\n",
       "      <td>acafly</td>\n",
       "      <td>[[0.3523993330368658, 0.3480284909351147, 0.34...</td>\n",
       "      <td>(324, 374)</td>\n",
       "    </tr>\n",
       "    <tr>\n",
       "      <th>0</th>\n",
       "      <td>XC109605</td>\n",
       "      <td>acafly</td>\n",
       "      <td>[[0.3179275282653602, 0.3194400852268083, 0.32...</td>\n",
       "      <td>(361, 411)</td>\n",
       "    </tr>\n",
       "  </tbody>\n",
       "</table>\n",
       "</div>"
      ],
      "text/plain": [
       "       name  parent                                         cens_slice  \\\n",
       "0  XC109605  acafly  [[0.3086012466109237, 0.30568218743577036, 0.3...   \n",
       "0  XC109605  acafly  [[0.37812375487169103, 0.3725999263434882, 0.3...   \n",
       "0  XC109605  acafly  [[0.38193222855739883, 0.3810666924182529, 0.3...   \n",
       "0  XC109605  acafly  [[0.3523993330368658, 0.3480284909351147, 0.34...   \n",
       "0  XC109605  acafly  [[0.3179275282653602, 0.3194400852268083, 0.32...   \n",
       "\n",
       "        index  \n",
       "0    (25, 75)  \n",
       "0  (157, 207)  \n",
       "0  (260, 310)  \n",
       "0  (324, 374)  \n",
       "0  (361, 411)  "
      ]
     },
     "execution_count": 1,
     "metadata": {},
     "output_type": "execute_result"
    }
   ],
   "source": [
    "import pandas as pd\n",
    "from sklearn.model_selection import train_test_split\n",
    "from sklearn.preprocessing import LabelBinarizer\n",
    "import numpy as np\n",
    "\n",
    "train_df = pd.read_pickle(\"../data/train_cens.pkl.gz\")\n",
    "train_df.head()"
   ]
  },
  {
   "cell_type": "code",
   "execution_count": 2,
   "id": "587d2660",
   "metadata": {},
   "outputs": [],
   "source": [
    "x = train_df.cens_slice.iloc[0]"
   ]
  },
  {
   "cell_type": "code",
   "execution_count": 3,
   "id": "4061bef2",
   "metadata": {},
   "outputs": [
    {
     "data": {
      "text/plain": [
       "(8, 8, 12)"
      ]
     },
     "execution_count": 3,
     "metadata": {},
     "output_type": "execute_result"
    }
   ],
   "source": [
    "pad = np.zeros(12*64).reshape(12, -1)\n",
    "pad[:, :x.shape[1]] = x\n",
    "pad.reshape(12, 8, 8).T.shape"
   ]
  },
  {
   "cell_type": "code",
   "execution_count": 4,
   "id": "2d8c16ae",
   "metadata": {},
   "outputs": [],
   "source": [
    "import tensorflow as tf\n",
    "\n",
    "def reshape_square(arr, k=8):\n",
    "    \"\"\"Domain specific. Transform 12x50 matrix into a square matrix that's 25x25.\"\"\"\n",
    "    x = np.zeros((12, k*k))\n",
    "    x[:, :arr.shape[1]] = arr\n",
    "    return x.reshape(12, k, k).T\n",
    "    \n",
    "X = np.stack(train_df.cens_slice.apply(reshape_square))\n",
    "\n",
    "lb = LabelBinarizer()\n",
    "lb.fit(train_df.parent)\n",
    "y = lb.transform(train_df.parent)\n",
    "\n",
    "X_train, X_test, y_train, y_test = train_test_split(X, y, test_size=0.3, random_state=1)\n",
    "\n",
    "train_dataset = tf.data.Dataset.from_tensor_slices((X_train, y_train))\n",
    "test_dataset = tf.data.Dataset.from_tensor_slices((X_test, y_test))"
   ]
  },
  {
   "cell_type": "code",
   "execution_count": 5,
   "id": "9cfbf322",
   "metadata": {},
   "outputs": [
    {
     "data": {
      "text/plain": [
       "<PrefetchDataset shapes: ((None, 8, 8, 12), (None, 397)), types: (tf.float64, tf.int32)>"
      ]
     },
     "execution_count": 5,
     "metadata": {},
     "output_type": "execute_result"
    }
   ],
   "source": [
    "# https://github.com/tensorpack/tensorpack/blob/5845ead80e3d77c89e2f1e9d5e0691324a8354cc/examples/ResNet/cifar10-preact18-mixup.py#L101-L118\n",
    "\n",
    "def _mixup(x_in, y_in):\n",
    "    n = x_in.shape[0]\n",
    "    # draw from uniform instead of beta(alpha, alpha, BATCH_SIZE)\n",
    "    w = np.random.uniform(0.3, 0.7, size=n)\n",
    "    x_weight = w.reshape(n, 1, 1, 1)\n",
    "    index = np.random.permutation(n)\n",
    "\n",
    "    x = x_in * x_weight + x_in[index] * (1-x_weight)\n",
    "    y = y_in + y_in[index]\n",
    "    return x, y\n",
    "\n",
    "@tf.function(input_signature=[\n",
    "    tf.TensorSpec(None, tf.float64), \n",
    "    tf.TensorSpec(None, tf.int32), \n",
    "])\n",
    "def mixup(x_in, y_in):\n",
    "    x, y = tf.numpy_function(_mixup, [x_in, y_in], [tf.float64, tf.int32])\n",
    "    return tf.data.Dataset.from_tensor_slices((\n",
    "        tf.reshape(x, [-1, 8, 8, 12]), \n",
    "        tf.reshape(y, [-1, 397])\n",
    "    ))\n",
    "\n",
    "def add_mixup(dataset, batch_size=1024):\n",
    "    return (\n",
    "        dataset\n",
    "        .shuffle(batch_size)\n",
    "        .window(batch_size)\n",
    "        .flat_map(lambda x, y: tf.data.Dataset.zip((x.batch(batch_size), y.batch(batch_size))))\n",
    "        .map(mixup, num_parallel_calls=tf.data.AUTOTUNE)\n",
    "        .flat_map(lambda x: x)\n",
    "        .batch(batch_size)\n",
    "        .prefetch(tf.data.AUTOTUNE)\n",
    "    )\n",
    "\n",
    "add_mixup(test_dataset)"
   ]
  },
  {
   "cell_type": "code",
   "execution_count": 6,
   "id": "b4ae2f63",
   "metadata": {},
   "outputs": [],
   "source": [
    "from tensorflow.keras import Sequential\n",
    "from tensorflow.keras.layers import Conv2D, MaxPooling2D, Softmax, Flatten, Dense\n",
    "from tensorflow_addons.metrics import F1Score\n",
    "\n",
    "tf.config.list_physical_devices('GPU')\n",
    "def get_compiled_model(input_shape=(8, 8, 12), output_shape=397):\n",
    "    model = Sequential()\n",
    "    model.add(Conv2D(32, (3, 3), activation='relu', kernel_initializer='he_uniform', padding='same', input_shape=input_shape))\n",
    "    model.add(Conv2D(32, (3, 3), activation='relu', kernel_initializer='he_uniform', padding='same'))\n",
    "    model.add(MaxPooling2D((2, 2)))\n",
    "    model.add(Conv2D(64, (3, 3), activation='relu', kernel_initializer='he_uniform', padding='same'))\n",
    "    model.add(Conv2D(64, (3, 3), activation='relu', kernel_initializer='he_uniform', padding='same'))\n",
    "    model.add(MaxPooling2D((2, 2)))\n",
    "    model.add(Conv2D(128, (3, 3), activation='relu', kernel_initializer='he_uniform', padding='same'))\n",
    "    model.add(Conv2D(128, (3, 3), activation='relu', kernel_initializer='he_uniform', padding='same'))\n",
    "    model.add(MaxPooling2D((2, 2)))\n",
    "\n",
    "    model.add(Flatten())\n",
    "    model.add(Dense(128, activation='relu', kernel_initializer='he_uniform'))\n",
    "    model.add(Dense(output_shape, activation='sigmoid'))\n",
    "    \n",
    "    model.compile(optimizer='adam',\n",
    "        loss=tf.keras.losses.BinaryCrossentropy(from_logits=True),\n",
    "        metrics=['accuracy', F1Score(num_classes=output_shape)])\n",
    "    return model"
   ]
  },
  {
   "cell_type": "code",
   "execution_count": 7,
   "id": "27045667",
   "metadata": {},
   "outputs": [
    {
     "name": "stdout",
     "output_type": "stream",
     "text": [
      "Model: \"sequential\"\n",
      "_________________________________________________________________\n",
      "Layer (type)                 Output Shape              Param #   \n",
      "=================================================================\n",
      "conv2d (Conv2D)              (None, 8, 8, 32)          3488      \n",
      "_________________________________________________________________\n",
      "conv2d_1 (Conv2D)            (None, 8, 8, 32)          9248      \n",
      "_________________________________________________________________\n",
      "max_pooling2d (MaxPooling2D) (None, 4, 4, 32)          0         \n",
      "_________________________________________________________________\n",
      "conv2d_2 (Conv2D)            (None, 4, 4, 64)          18496     \n",
      "_________________________________________________________________\n",
      "conv2d_3 (Conv2D)            (None, 4, 4, 64)          36928     \n",
      "_________________________________________________________________\n",
      "max_pooling2d_1 (MaxPooling2 (None, 2, 2, 64)          0         \n",
      "_________________________________________________________________\n",
      "conv2d_4 (Conv2D)            (None, 2, 2, 128)         73856     \n",
      "_________________________________________________________________\n",
      "conv2d_5 (Conv2D)            (None, 2, 2, 128)         147584    \n",
      "_________________________________________________________________\n",
      "max_pooling2d_2 (MaxPooling2 (None, 1, 1, 128)         0         \n",
      "_________________________________________________________________\n",
      "flatten (Flatten)            (None, 128)               0         \n",
      "_________________________________________________________________\n",
      "dense (Dense)                (None, 128)               16512     \n",
      "_________________________________________________________________\n",
      "dense_1 (Dense)              (None, 397)               51213     \n",
      "=================================================================\n",
      "Total params: 357,325\n",
      "Trainable params: 357,325\n",
      "Non-trainable params: 0\n",
      "_________________________________________________________________\n"
     ]
    }
   ],
   "source": [
    "model = get_compiled_model()\n",
    "model.summary()"
   ]
  },
  {
   "cell_type": "code",
   "execution_count": null,
   "id": "5e0afdbf",
   "metadata": {},
   "outputs": [
    {
     "name": "stdout",
     "output_type": "stream",
     "text": [
      "Epoch 1/100\n",
      "3450/3450 [==============================] - 64s 16ms/step - loss: 0.0404 - accuracy: 0.0165 - f1_score: 0.0014 - val_loss: 0.0174 - val_accuracy: 0.0214 - val_f1_score: 0.0013e\n",
      "Epoch 2/100\n",
      "3450/3450 [==============================] - 63s 18ms/step - loss: 0.0302 - accuracy: 0.0251 - f1_score: 0.0024 - val_loss: 0.0174 - val_accuracy: 0.0259 - val_f1_score: 0.0025\n",
      "Epoch 3/100\n",
      "3450/3450 [==============================] - 85s 25ms/step - loss: 0.0300 - accuracy: 0.0262 - f1_score: 0.0032 - val_loss: 0.0170 - val_accuracy: 0.0286 - val_f1_score: 0.0039\n",
      "Epoch 4/100\n",
      "3450/3450 [==============================] - 115s 33ms/step - loss: 0.0299 - accuracy: 0.0286 - f1_score: 0.0045 - val_loss: 0.0170 - val_accuracy: 0.0325 - val_f1_score: 0.0056\n",
      "Epoch 5/100\n",
      "3450/3450 [==============================] - 153s 44ms/step - loss: 0.0298 - accuracy: 0.0292 - f1_score: 0.0059 - val_loss: 0.0169 - val_accuracy: 0.0343 - val_f1_score: 0.0063\n",
      "Epoch 6/100\n",
      "3450/3450 [==============================] - 220s 64ms/step - loss: 0.0297 - accuracy: 0.0306 - f1_score: 0.0070 - val_loss: 0.0170 - val_accuracy: 0.0365 - val_f1_score: 0.0081\n",
      "Epoch 7/100\n",
      "3450/3450 [==============================] - 298s 86ms/step - loss: 0.0296 - accuracy: 0.0320 - f1_score: 0.0080 - val_loss: 0.0169 - val_accuracy: 0.0383 - val_f1_score: 0.0089\n",
      "Epoch 8/100\n",
      "3450/3450 [==============================] - 394s 114ms/step - loss: 0.0296 - accuracy: 0.0327 - f1_score: 0.0085 - val_loss: 0.0169 - val_accuracy: 0.0387 - val_f1_score: 0.0094\n",
      "Epoch 9/100\n",
      "3450/3450 [==============================] - 512s 148ms/step - loss: 0.0295 - accuracy: 0.0336 - f1_score: 0.0095 - val_loss: 0.0169 - val_accuracy: 0.0394 - val_f1_score: 0.0107\n",
      "Epoch 10/100\n",
      "3450/3450 [==============================] - 641s 186ms/step - loss: 0.0295 - accuracy: 0.0342 - f1_score: 0.0104 - val_loss: 0.0167 - val_accuracy: 0.0421 - val_f1_score: 0.0121\n",
      "Epoch 11/100\n",
      "3450/3450 [==============================] - 779s 226ms/step - loss: 0.0295 - accuracy: 0.0347 - f1_score: 0.0109 - val_loss: 0.0167 - val_accuracy: 0.0425 - val_f1_score: 0.0131\n",
      "Epoch 12/100\n",
      "3450/3450 [==============================] - 900s 261ms/step - loss: 0.0295 - accuracy: 0.0349 - f1_score: 0.0115 - val_loss: 0.0167 - val_accuracy: 0.0433 - val_f1_score: 0.0135\n",
      "Epoch 13/100\n",
      "3450/3450 [==============================] - 1013s 293ms/step - loss: 0.0294 - accuracy: 0.0363 - f1_score: 0.0122 - val_loss: 0.0167 - val_accuracy: 0.0439 - val_f1_score: 0.0144\n",
      "Epoch 14/100\n",
      "3450/3450 [==============================] - 1131s 327ms/step - loss: 0.0294 - accuracy: 0.0355 - f1_score: 0.0127 - val_loss: 0.0167 - val_accuracy: 0.0450 - val_f1_score: 0.0145\n",
      "Epoch 15/100\n",
      "3450/3450 [==============================] - 1244s 360ms/step - loss: 0.0294 - accuracy: 0.0362 - f1_score: 0.0130 - val_loss: 0.0166 - val_accuracy: 0.0446 - val_f1_score: 0.0149\n",
      "Epoch 16/100\n",
      "3450/3450 [==============================] - 1337s 387ms/step - loss: 0.0294 - accuracy: 0.0364 - f1_score: 0.0132 - val_loss: 0.0166 - val_accuracy: 0.0461 - val_f1_score: 0.0154\n",
      "Epoch 17/100\n",
      "3450/3450 [==============================] - 1411s 409ms/step - loss: 0.0294 - accuracy: 0.0368 - f1_score: 0.0135 - val_loss: 0.0167 - val_accuracy: 0.0459 - val_f1_score: 0.0156\n",
      "Epoch 18/100\n",
      "3450/3450 [==============================] - 1520s 440ms/step - loss: 0.0294 - accuracy: 0.0374 - f1_score: 0.0144 - val_loss: 0.0167 - val_accuracy: 0.0469 - val_f1_score: 0.0164\n",
      "Epoch 19/100\n",
      "3450/3450 [==============================] - 1619s 468ms/step - loss: 0.0293 - accuracy: 0.0379 - f1_score: 0.0146 - val_loss: 0.0167 - val_accuracy: 0.0467 - val_f1_score: 0.0170\n",
      "Epoch 20/100\n",
      "3450/3450 [==============================] - 1717s 497ms/step - loss: 0.0293 - accuracy: 0.0375 - f1_score: 0.0149 - val_loss: 0.0166 - val_accuracy: 0.0482 - val_f1_score: 0.0176\n",
      "Epoch 21/100\n",
      "3450/3450 [==============================] - 1812s 525ms/step - loss: 0.0293 - accuracy: 0.0379 - f1_score: 0.0154 - val_loss: 0.0166 - val_accuracy: 0.0473 - val_f1_score: 0.0180\n",
      "Epoch 22/100\n",
      "3450/3450 [==============================] - 1917s 555ms/step - loss: 0.0293 - accuracy: 0.0383 - f1_score: 0.0155 - val_loss: 0.0166 - val_accuracy: 0.0490 - val_f1_score: 0.0183\n",
      "Epoch 23/100\n",
      "3450/3450 [==============================] - 1996s 578ms/step - loss: 0.0293 - accuracy: 0.0375 - f1_score: 0.0155 - val_loss: 0.0167 - val_accuracy: 0.0485 - val_f1_score: 0.0183\n",
      "Epoch 24/100\n",
      "3450/3450 [==============================] - 2094s 606ms/step - loss: 0.0293 - accuracy: 0.0381 - f1_score: 0.0160 - val_loss: 0.0166 - val_accuracy: 0.0499 - val_f1_score: 0.0196\n",
      "Epoch 25/100\n",
      "3450/3450 [==============================] - 2191s 635ms/step - loss: 0.0293 - accuracy: 0.0389 - f1_score: 0.0162 - val_loss: 0.0166 - val_accuracy: 0.0482 - val_f1_score: 0.0187\n",
      "Epoch 26/100\n",
      "3450/3450 [==============================] - 2277s 660ms/step - loss: 0.0293 - accuracy: 0.0386 - f1_score: 0.0168 - val_loss: 0.0166 - val_accuracy: 0.0503 - val_f1_score: 0.0193\n",
      "Epoch 27/100\n",
      "3450/3450 [==============================] - 2386s 690ms/step - loss: 0.0293 - accuracy: 0.0393 - f1_score: 0.0171 - val_loss: 0.0166 - val_accuracy: 0.0494 - val_f1_score: 0.0193\n",
      "Epoch 28/100\n",
      "3450/3450 [==============================] - 2454s 710ms/step - loss: 0.0293 - accuracy: 0.0397 - f1_score: 0.0172 - val_loss: 0.0166 - val_accuracy: 0.0504 - val_f1_score: 0.0194\n",
      "Epoch 29/100\n",
      " 675/3450 [====>.........................] - ETA: 31:25 - loss: 0.0292 - accuracy: 0.0390 - f1_score: 0.0164"
     ]
    }
   ],
   "source": [
    "history = model.fit(add_mixup(train_dataset, 128), epochs=100, validation_data=test_dataset.batch(128))"
   ]
  },
  {
   "cell_type": "code",
   "execution_count": null,
   "id": "a12a51e6",
   "metadata": {},
   "outputs": [],
   "source": [
    "import matplotlib.pyplot as plt\n",
    "\n",
    "plt.plot(history.history['accuracy'], label='train')\n",
    "plt.plot(history.history['val_accuracy'], label='test')\n",
    "plt.xlabel('Epoch')\n",
    "plt.ylabel('Accuracy')\n",
    "plt.legend()\n",
    "plt.show()\n",
    "\n",
    "plt.plot([x.mean() for x in history.history['f1_score']], label='train')\n",
    "plt.plot([x.mean() for x in history.history['val_f1_score']], label='test')\n",
    "plt.xlabel('Epoch')\n",
    "plt.ylabel('F1 Score')\n",
    "plt.legend()\n",
    "plt.show()\n",
    "\n",
    "plt.plot(history.history[\"loss\"], label=\"train\")\n",
    "plt.plot(history.history[\"val_loss\"], label=\"test\")\n",
    "plt.xlabel(\"Epoch\")\n",
    "plt.ylabel(\"loss\")\n",
    "plt.legend()\n",
    "plt.show()\n",
    "\n",
    "model.evaluate(X_test, y_test, verbose=2)"
   ]
  },
  {
   "cell_type": "markdown",
   "id": "4dcd87a5",
   "metadata": {},
   "source": [
    "## appendix"
   ]
  },
  {
   "cell_type": "code",
   "execution_count": 8,
   "id": "dfc14526",
   "metadata": {},
   "outputs": [
    {
     "name": "stdout",
     "output_type": "stream",
     "text": [
      "Epoch 1/5\n",
      "1725/1725 [==============================] - 33s 16ms/step - loss: 0.0492 - accuracy: 0.0163 - f1_score: 7.8527e-04 - val_loss: 0.0175 - val_accuracy: 0.0129 - val_f1_score: 3.3404e-04\n",
      "Epoch 2/5\n",
      "1725/1725 [==============================] - 25s 15ms/step - loss: 0.0303 - accuracy: 0.0224 - f1_score: 0.0017 - val_loss: 0.0174 - val_accuracy: 0.0237 - val_f1_score: 0.0023\n",
      "Epoch 3/5\n",
      "1725/1725 [==============================] - 25s 14ms/step - loss: 0.0301 - accuracy: 0.0269 - f1_score: 0.0028 - val_loss: 0.0172 - val_accuracy: 0.0279 - val_f1_score: 0.0030\n",
      "Epoch 4/5\n",
      "1725/1725 [==============================] - 26s 15ms/step - loss: 0.0299 - accuracy: 0.0274 - f1_score: 0.0037 - val_loss: 0.0171 - val_accuracy: 0.0287 - val_f1_score: 0.0040\n",
      "Epoch 5/5\n",
      "1725/1725 [==============================] - 26s 15ms/step - loss: 0.0298 - accuracy: 0.0289 - f1_score: 0.0047 - val_loss: 0.0171 - val_accuracy: 0.0324 - val_f1_score: 0.0058\n"
     ]
    }
   ],
   "source": [
    "history = model.fit(add_mixup(train_dataset, 256), epochs=5, validation_data=test_dataset.batch(256))"
   ]
  },
  {
   "cell_type": "code",
   "execution_count": 10,
   "id": "a502cadb",
   "metadata": {},
   "outputs": [
    {
     "name": "stdout",
     "output_type": "stream",
     "text": [
      "Epoch 1/5\n",
      "3450/3450 [==============================] - 45s 13ms/step - loss: 0.0298 - accuracy: 0.0291 - f1_score: 0.0061 - val_loss: 0.0170 - val_accuracy: 0.0350 - val_f1_score: 0.0075\n",
      "Epoch 2/5\n",
      "3450/3450 [==============================] - 45s 13ms/step - loss: 0.0297 - accuracy: 0.0313 - f1_score: 0.0073 - val_loss: 0.0168 - val_accuracy: 0.0378 - val_f1_score: 0.0089\n",
      "Epoch 3/5\n",
      "3450/3450 [==============================] - 45s 13ms/step - loss: 0.0297 - accuracy: 0.0328 - f1_score: 0.0084 - val_loss: 0.0169 - val_accuracy: 0.0386 - val_f1_score: 0.0096\n",
      "Epoch 4/5\n",
      "3450/3450 [==============================] - 45s 13ms/step - loss: 0.0296 - accuracy: 0.0337 - f1_score: 0.0093 - val_loss: 0.0168 - val_accuracy: 0.0410 - val_f1_score: 0.0109\n",
      "Epoch 5/5\n",
      "3450/3450 [==============================] - 45s 13ms/step - loss: 0.0296 - accuracy: 0.0342 - f1_score: 0.0099 - val_loss: 0.0168 - val_accuracy: 0.0411 - val_f1_score: 0.0110\n"
     ]
    }
   ],
   "source": [
    "history = model.fit(add_mixup(train_dataset, 128), epochs=5, validation_data=test_dataset.batch(128))"
   ]
  },
  {
   "cell_type": "code",
   "execution_count": 11,
   "id": "831d3efd",
   "metadata": {},
   "outputs": [
    {
     "name": "stdout",
     "output_type": "stream",
     "text": [
      "Epoch 1/2\n",
      "6900/6900 [==============================] - 115s 17ms/step - loss: 0.0296 - accuracy: 0.0337 - f1_score: 0.0097 - val_loss: 0.0168 - val_accuracy: 0.0415 - val_f1_score: 0.0117\n",
      "Epoch 2/2\n",
      "6900/6900 [==============================] - 187s 27ms/step - loss: 0.0296 - accuracy: 0.0341 - f1_score: 0.0101 - val_loss: 0.0168 - val_accuracy: 0.0419 - val_f1_score: 0.0121\n"
     ]
    }
   ],
   "source": [
    "history = model.fit(add_mixup(train_dataset, 64), epochs=2, validation_data=test_dataset.batch(64))"
   ]
  }
 ],
 "metadata": {
  "kernelspec": {
   "display_name": "Python 3",
   "language": "python",
   "name": "python3"
  },
  "language_info": {
   "codemirror_mode": {
    "name": "ipython",
    "version": 3
   },
   "file_extension": ".py",
   "mimetype": "text/x-python",
   "name": "python",
   "nbconvert_exporter": "python",
   "pygments_lexer": "ipython3",
   "version": "3.8.9"
  }
 },
 "nbformat": 4,
 "nbformat_minor": 5
}
