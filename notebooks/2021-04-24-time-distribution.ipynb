{
 "cells": [
  {
   "cell_type": "code",
   "execution_count": 1,
   "id": "7bd8deb9",
   "metadata": {},
   "outputs": [
    {
     "data": {
      "text/html": [
       "<div>\n",
       "<style scoped>\n",
       "    .dataframe tbody tr th:only-of-type {\n",
       "        vertical-align: middle;\n",
       "    }\n",
       "\n",
       "    .dataframe tbody tr th {\n",
       "        vertical-align: top;\n",
       "    }\n",
       "\n",
       "    .dataframe thead th {\n",
       "        text-align: right;\n",
       "    }\n",
       "</style>\n",
       "<table border=\"1\" class=\"dataframe\">\n",
       "  <thead>\n",
       "    <tr style=\"text-align: right;\">\n",
       "      <th></th>\n",
       "      <th>primary_label</th>\n",
       "      <th>secondary_labels</th>\n",
       "      <th>type</th>\n",
       "      <th>latitude</th>\n",
       "      <th>longitude</th>\n",
       "      <th>scientific_name</th>\n",
       "      <th>common_name</th>\n",
       "      <th>author</th>\n",
       "      <th>date</th>\n",
       "      <th>filename</th>\n",
       "      <th>license</th>\n",
       "      <th>rating</th>\n",
       "      <th>time</th>\n",
       "      <th>url</th>\n",
       "    </tr>\n",
       "  </thead>\n",
       "  <tbody>\n",
       "    <tr>\n",
       "      <th>22661</th>\n",
       "      <td>foxspa</td>\n",
       "      <td>['tenwar', 'whtspa', 'swathr', 'leafly', 'reev...</td>\n",
       "      <td>['song']</td>\n",
       "      <td>59.0988</td>\n",
       "      <td>-123.4621</td>\n",
       "      <td>Passerella iliaca</td>\n",
       "      <td>Fox Sparrow</td>\n",
       "      <td>Richard E. Webster</td>\n",
       "      <td>2014-06-15</td>\n",
       "      <td>XC189063.ogg</td>\n",
       "      <td>Creative Commons Attribution-NonCommercial-Sha...</td>\n",
       "      <td>3.5</td>\n",
       "      <td>10:14</td>\n",
       "      <td>https://www.xeno-canto.org/189063</td>\n",
       "    </tr>\n",
       "    <tr>\n",
       "      <th>57855</th>\n",
       "      <td>whcspa</td>\n",
       "      <td>['sancra', 'amecro']</td>\n",
       "      <td>['call', 'song']</td>\n",
       "      <td>33.8062</td>\n",
       "      <td>-106.8787</td>\n",
       "      <td>Zonotrichia leucophrys</td>\n",
       "      <td>White-crowned Sparrow</td>\n",
       "      <td>Eric DeFonso</td>\n",
       "      <td>2013-12-31</td>\n",
       "      <td>XC173142.ogg</td>\n",
       "      <td>Creative Commons Attribution-NonCommercial-Sha...</td>\n",
       "      <td>3.5</td>\n",
       "      <td>08:50</td>\n",
       "      <td>https://www.xeno-canto.org/173142</td>\n",
       "    </tr>\n",
       "    <tr>\n",
       "      <th>56276</th>\n",
       "      <td>webwoo1</td>\n",
       "      <td>[]</td>\n",
       "      <td>['call']</td>\n",
       "      <td>-9.5981</td>\n",
       "      <td>-55.9320</td>\n",
       "      <td>Glyphorynchus spirurus</td>\n",
       "      <td>Wedge-billed Woodcreeper</td>\n",
       "      <td>Jarrod Swackhamer</td>\n",
       "      <td>2017-09-13</td>\n",
       "      <td>XC522314.ogg</td>\n",
       "      <td>Creative Commons Attribution-NonCommercial-Sha...</td>\n",
       "      <td>4.0</td>\n",
       "      <td>17:00</td>\n",
       "      <td>https://www.xeno-canto.org/522314</td>\n",
       "    </tr>\n",
       "    <tr>\n",
       "      <th>40796</th>\n",
       "      <td>plupig2</td>\n",
       "      <td>[]</td>\n",
       "      <td>['song']</td>\n",
       "      <td>5.3841</td>\n",
       "      <td>-75.8881</td>\n",
       "      <td>Patagioenas plumbea</td>\n",
       "      <td>Plumbeous Pigeon</td>\n",
       "      <td>Julian Andres Zuleta Marín</td>\n",
       "      <td>2012-11-22</td>\n",
       "      <td>XC146073.ogg</td>\n",
       "      <td>Creative Commons Attribution-NonCommercial-Sha...</td>\n",
       "      <td>4.0</td>\n",
       "      <td>13:00</td>\n",
       "      <td>https://www.xeno-canto.org/146073</td>\n",
       "    </tr>\n",
       "    <tr>\n",
       "      <th>13973</th>\n",
       "      <td>caster1</td>\n",
       "      <td>[]</td>\n",
       "      <td>['begging call', 'call']</td>\n",
       "      <td>43.4060</td>\n",
       "      <td>4.6291</td>\n",
       "      <td>Hydroprogne caspia</td>\n",
       "      <td>Caspian Tern</td>\n",
       "      <td>Cedric Mroczko</td>\n",
       "      <td>2015-09-26</td>\n",
       "      <td>XC283058.ogg</td>\n",
       "      <td>Creative Commons Attribution-NonCommercial-Sha...</td>\n",
       "      <td>2.5</td>\n",
       "      <td>19:00</td>\n",
       "      <td>https://www.xeno-canto.org/283058</td>\n",
       "    </tr>\n",
       "  </tbody>\n",
       "</table>\n",
       "</div>"
      ],
      "text/plain": [
       "      primary_label                                   secondary_labels  \\\n",
       "22661        foxspa  ['tenwar', 'whtspa', 'swathr', 'leafly', 'reev...   \n",
       "57855        whcspa                               ['sancra', 'amecro']   \n",
       "56276       webwoo1                                                 []   \n",
       "40796       plupig2                                                 []   \n",
       "13973       caster1                                                 []   \n",
       "\n",
       "                           type  latitude  longitude         scientific_name  \\\n",
       "22661                  ['song']   59.0988  -123.4621       Passerella iliaca   \n",
       "57855          ['call', 'song']   33.8062  -106.8787  Zonotrichia leucophrys   \n",
       "56276                  ['call']   -9.5981   -55.9320  Glyphorynchus spirurus   \n",
       "40796                  ['song']    5.3841   -75.8881     Patagioenas plumbea   \n",
       "13973  ['begging call', 'call']   43.4060     4.6291      Hydroprogne caspia   \n",
       "\n",
       "                    common_name                       author        date  \\\n",
       "22661               Fox Sparrow           Richard E. Webster  2014-06-15   \n",
       "57855     White-crowned Sparrow                 Eric DeFonso  2013-12-31   \n",
       "56276  Wedge-billed Woodcreeper            Jarrod Swackhamer  2017-09-13   \n",
       "40796          Plumbeous Pigeon  Julian Andres Zuleta Marín   2012-11-22   \n",
       "13973              Caspian Tern               Cedric Mroczko  2015-09-26   \n",
       "\n",
       "           filename                                            license  \\\n",
       "22661  XC189063.ogg  Creative Commons Attribution-NonCommercial-Sha...   \n",
       "57855  XC173142.ogg  Creative Commons Attribution-NonCommercial-Sha...   \n",
       "56276  XC522314.ogg  Creative Commons Attribution-NonCommercial-Sha...   \n",
       "40796  XC146073.ogg  Creative Commons Attribution-NonCommercial-Sha...   \n",
       "13973  XC283058.ogg  Creative Commons Attribution-NonCommercial-Sha...   \n",
       "\n",
       "       rating   time                                url  \n",
       "22661     3.5  10:14  https://www.xeno-canto.org/189063  \n",
       "57855     3.5  08:50  https://www.xeno-canto.org/173142  \n",
       "56276     4.0  17:00  https://www.xeno-canto.org/522314  \n",
       "40796     4.0  13:00  https://www.xeno-canto.org/146073  \n",
       "13973     2.5  19:00  https://www.xeno-canto.org/283058  "
      ]
     },
     "execution_count": 1,
     "metadata": {},
     "output_type": "execute_result"
    }
   ],
   "source": [
    "import pandas as pd\n",
    "\n",
    "df = pd.read_csv(\"../data/input/train_metadata.csv\")\n",
    "df.sample(5)"
   ]
  },
  {
   "cell_type": "code",
   "execution_count": 15,
   "id": "b1214dd1",
   "metadata": {},
   "outputs": [],
   "source": [
    "df[\"date\"] = pd.to_datetime(df.date, errors=\"coerce\")"
   ]
  },
  {
   "cell_type": "code",
   "execution_count": 19,
   "id": "bf1e4fee",
   "metadata": {},
   "outputs": [
    {
     "data": {
      "text/plain": [
       "<AxesSubplot:>"
      ]
     },
     "execution_count": 19,
     "metadata": {},
     "output_type": "execute_result"
    },
    {
     "data": {
      "image/png": "[encoded data removed]",
      "text/plain": [
       "<Figure size 432x288 with 1 Axes>"
      ]
     },
     "metadata": {
      "needs_background": "light"
     },
     "output_type": "display_data"
    }
   ],
   "source": [
    "df.date.dt.dayofyear.hist()"
   ]
  },
  {
   "cell_type": "code",
   "execution_count": 20,
   "id": "f5850f4e",
   "metadata": {},
   "outputs": [
    {
     "data": {
      "text/plain": [
       "<AxesSubplot:>"
      ]
     },
     "execution_count": 20,
     "metadata": {},
     "output_type": "execute_result"
    },
    {
     "data": {
      "image/png": "[encoded data removed]",
      "text/plain": [
       "<Figure size 432x288 with 1 Axes>"
      ]
     },
     "metadata": {
      "needs_background": "light"
     },
     "output_type": "display_data"
    }
   ],
   "source": [
    "df.date.dt.quarter.hist()"
   ]
  },
  {
   "cell_type": "code",
   "execution_count": 52,
   "id": "f00ab0fe",
   "metadata": {},
   "outputs": [
    {
     "data": {
      "text/plain": [
       "<AxesSubplot:>"
      ]
     },
     "execution_count": 52,
     "metadata": {},
     "output_type": "execute_result"
    },
    {
     "data": {
      "image/png": "[encoded data removed]",
      "text/plain": [
       "<Figure size 432x288 with 1 Axes>"
      ]
     },
     "metadata": {
      "needs_background": "light"
     },
     "output_type": "display_data"
    }
   ],
   "source": [
    "def get_hour(x):\n",
    "    return int(x.split(\":\")[0]) if \":\" in x  and \"?\" not in x and \"xx\" not in x else 0\n",
    "hours = df.time.apply(get_hour)\n",
    "hours.hist()"
   ]
  },
  {
   "cell_type": "code",
   "execution_count": 53,
   "id": "f4b50009",
   "metadata": {},
   "outputs": [
    {
     "data": {
      "text/plain": [
       "248     pinsis\n",
       "306     shicow\n",
       "99      clcrob\n",
       "215    mouela1\n",
       "299     saypho\n",
       "dtype: object"
      ]
     },
     "execution_count": 53,
     "metadata": {},
     "output_type": "execute_result"
    }
   ],
   "source": [
    "sampled = pd.Series(df.primary_label.unique()).sample(5)\n",
    "sampled"
   ]
  },
  {
   "cell_type": "code",
   "execution_count": 56,
   "id": "6be6d4ab",
   "metadata": {},
   "outputs": [
    {
     "name": "stdout",
     "output_type": "stream",
     "text": [
      "pinsis 150\n"
     ]
    },
    {
     "data": {
      "image/png": "[encoded data removed]",
      "text/plain": [
       "<Figure size 432x288 with 1 Axes>"
      ]
     },
     "metadata": {
      "needs_background": "light"
     },
     "output_type": "display_data"
    },
    {
     "data": {
      "image/png": "[encoded data removed]",
      "text/plain": [
       "<Figure size 432x288 with 1 Axes>"
      ]
     },
     "metadata": {
      "needs_background": "light"
     },
     "output_type": "display_data"
    },
    {
     "name": "stdout",
     "output_type": "stream",
     "text": [
      "shicow 96\n"
     ]
    },
    {
     "data": {
      "image/png": "[encoded data removed]",
      "text/plain": [
       "<Figure size 432x288 with 1 Axes>"
      ]
     },
     "metadata": {
      "needs_background": "light"
     },
     "output_type": "display_data"
    },
    {
     "data": {
      "image/png": "[encoded data removed]",
      "text/plain": [
       "<Figure size 432x288 with 1 Axes>"
      ]
     },
     "metadata": {
      "needs_background": "light"
     },
     "output_type": "display_data"
    },
    {
     "name": "stdout",
     "output_type": "stream",
     "text": [
      "clcrob 195\n"
     ]
    },
    {
     "data": {
      "image/png": "[encoded data removed]",
      "text/plain": [
       "<Figure size 432x288 with 1 Axes>"
      ]
     },
     "metadata": {
      "needs_background": "light"
     },
     "output_type": "display_data"
    },
    {
     "data": {
      "image/png": "[encoded data removed]",
      "text/plain": [
       "<Figure size 432x288 with 1 Axes>"
      ]
     },
     "metadata": {
      "needs_background": "light"
     },
     "output_type": "display_data"
    },
    {
     "name": "stdout",
     "output_type": "stream",
     "text": [
      "mouela1 102\n"
     ]
    },
    {
     "data": {
      "image/png": "[encoded data removed]",
      "text/plain": [
       "<Figure size 432x288 with 1 Axes>"
      ]
     },
     "metadata": {
      "needs_background": "light"
     },
     "output_type": "display_data"
    },
    {
     "data": {
      "image/png": "[encoded data removed]",
      "text/plain": [
       "<Figure size 432x288 with 1 Axes>"
      ]
     },
     "metadata": {
      "needs_background": "light"
     },
     "output_type": "display_data"
    },
    {
     "name": "stdout",
     "output_type": "stream",
     "text": [
      "saypho 81\n"
     ]
    },
    {
     "data": {
      "image/png": "[encoded data removed]",
      "text/plain": [
       "<Figure size 432x288 with 1 Axes>"
      ]
     },
     "metadata": {
      "needs_background": "light"
     },
     "output_type": "display_data"
    },
    {
     "data": {
      "image/png": "[encoded data removed]",
      "text/plain": [
       "<Figure size 432x288 with 1 Axes>"
      ]
     },
     "metadata": {
      "needs_background": "light"
     },
     "output_type": "display_data"
    }
   ],
   "source": [
    "import matplotlib.pyplot as plt\n",
    "\n",
    "for label in sampled:\n",
    "    subset = df[df.primary_label == label]\n",
    "    print(f\"{label} {subset.shape[0]}\")\n",
    "    subset.date.dt.quarter.hist()\n",
    "    plt.show()\n",
    "    hours = df.time.apply(get_hour)\n",
    "    hours.hist()\n",
    "    plt.show()"
   ]
  },
  {
   "cell_type": "code",
   "execution_count": 69,
   "id": "fa44c707",
   "metadata": {},
   "outputs": [
    {
     "data": {
      "text/plain": [
       "array([10, 91, 52, 99,  9, 15, 68, 53, 19, 33, 72,  5, 23, 42, 97,  7,  3,\n",
       "       17, 12, 36, 39, 82, 59, 65, 30,  6, 76, 75, 32, 61, 37, 67, 24, 71,\n",
       "       89, 58, 18, 20, 74,  2, 81,  8, 60, 46, 29, 51, 55, 62,  1, 85, 54,\n",
       "       66, 95, 56, 14, 69, 48,  4, 80, 25, 78, 84, 92, 77, 57, 38, 22, 16,\n",
       "       44,  0, 83, 88, 34, 47, 50, 49, 35, 40, 43, 45, 41, 28, 87, 13, 21,\n",
       "       63, 94, 27, 26, 98, 93, 70, 64, 11, 96, 79, 86, 73, 31, 90])"
      ]
     },
     "execution_count": 69,
     "metadata": {},
     "output_type": "execute_result"
    }
   ],
   "source": [
    "import numpy as np\n",
    "np.random.choice(np.arange(100), 100, replace=False)"
   ]
  }
 ],
 "metadata": {
  "kernelspec": {
   "display_name": "Python 3",
   "language": "python",
   "name": "python3"
  },
  "language_info": {
   "codemirror_mode": {
    "name": "ipython",
    "version": 3
   },
   "file_extension": ".py",
   "mimetype": "text/x-python",
   "name": "python",
   "nbconvert_exporter": "python",
   "pygments_lexer": "ipython3",
   "version": "3.8.9"
  }
 },
 "nbformat": 4,
 "nbformat_minor": 5
}
