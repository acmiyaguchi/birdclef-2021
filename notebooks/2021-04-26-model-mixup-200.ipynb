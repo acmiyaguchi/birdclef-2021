{
 "cells": [
  {
   "cell_type": "code",
   "execution_count": 1,
   "id": "e6321bf5",
   "metadata": {},
   "outputs": [
    {
     "data": {
      "text/html": [
       "<div>\n",
       "<style scoped>\n",
       "    .dataframe tbody tr th:only-of-type {\n",
       "        vertical-align: middle;\n",
       "    }\n",
       "\n",
       "    .dataframe tbody tr th {\n",
       "        vertical-align: top;\n",
       "    }\n",
       "\n",
       "    .dataframe thead th {\n",
       "        text-align: right;\n",
       "    }\n",
       "</style>\n",
       "<table border=\"1\" class=\"dataframe\">\n",
       "  <thead>\n",
       "    <tr style=\"text-align: right;\">\n",
       "      <th></th>\n",
       "      <th>name</th>\n",
       "      <th>parent</th>\n",
       "      <th>cens_slice</th>\n",
       "      <th>index</th>\n",
       "    </tr>\n",
       "  </thead>\n",
       "  <tbody>\n",
       "    <tr>\n",
       "      <th>0</th>\n",
       "      <td>XC109605</td>\n",
       "      <td>acafly</td>\n",
       "      <td>[[0.3086012466109237, 0.30568218743577036, 0.3...</td>\n",
       "      <td>(25, 75)</td>\n",
       "    </tr>\n",
       "    <tr>\n",
       "      <th>0</th>\n",
       "      <td>XC109605</td>\n",
       "      <td>acafly</td>\n",
       "      <td>[[0.37812375487169103, 0.3725999263434882, 0.3...</td>\n",
       "      <td>(157, 207)</td>\n",
       "    </tr>\n",
       "    <tr>\n",
       "      <th>0</th>\n",
       "      <td>XC109605</td>\n",
       "      <td>acafly</td>\n",
       "      <td>[[0.38193222855739883, 0.3810666924182529, 0.3...</td>\n",
       "      <td>(260, 310)</td>\n",
       "    </tr>\n",
       "    <tr>\n",
       "      <th>0</th>\n",
       "      <td>XC109605</td>\n",
       "      <td>acafly</td>\n",
       "      <td>[[0.3523993330368658, 0.3480284909351147, 0.34...</td>\n",
       "      <td>(324, 374)</td>\n",
       "    </tr>\n",
       "    <tr>\n",
       "      <th>0</th>\n",
       "      <td>XC109605</td>\n",
       "      <td>acafly</td>\n",
       "      <td>[[0.3179275282653602, 0.3194400852268083, 0.32...</td>\n",
       "      <td>(361, 411)</td>\n",
       "    </tr>\n",
       "  </tbody>\n",
       "</table>\n",
       "</div>"
      ],
      "text/plain": [
       "       name  parent                                         cens_slice  \\\n",
       "0  XC109605  acafly  [[0.3086012466109237, 0.30568218743577036, 0.3...   \n",
       "0  XC109605  acafly  [[0.37812375487169103, 0.3725999263434882, 0.3...   \n",
       "0  XC109605  acafly  [[0.38193222855739883, 0.3810666924182529, 0.3...   \n",
       "0  XC109605  acafly  [[0.3523993330368658, 0.3480284909351147, 0.34...   \n",
       "0  XC109605  acafly  [[0.3179275282653602, 0.3194400852268083, 0.32...   \n",
       "\n",
       "        index  \n",
       "0    (25, 75)  \n",
       "0  (157, 207)  \n",
       "0  (260, 310)  \n",
       "0  (324, 374)  \n",
       "0  (361, 411)  "
      ]
     },
     "execution_count": 1,
     "metadata": {},
     "output_type": "execute_result"
    }
   ],
   "source": [
    "import pandas as pd\n",
    "from sklearn.model_selection import train_test_split\n",
    "from sklearn.preprocessing import LabelBinarizer\n",
    "import numpy as np\n",
    "\n",
    "train_df = pd.read_pickle(\"../data/train_cens.pkl.gz\")\n",
    "train_df.head()"
   ]
  },
  {
   "cell_type": "code",
   "execution_count": 2,
   "id": "1b764957",
   "metadata": {},
   "outputs": [],
   "source": [
    "import tensorflow as tf\n",
    "\n",
    "def reshape_square(arr, k=25):\n",
    "    \"\"\"Domain specific. Transform 12x50 matrix into a square matrix that's 25x25.\"\"\"\n",
    "    x = np.zeros(k*k)\n",
    "    a = arr.reshape(-1)\n",
    "    x[:a.shape[0]] = a\n",
    "    return x.reshape(k, k, 1)\n",
    "    \n",
    "X = np.stack(train_df.cens_slice.apply(reshape_square))\n",
    "\n",
    "lb = LabelBinarizer()\n",
    "lb.fit(train_df.parent)\n",
    "y = lb.transform(train_df.parent)\n",
    "\n",
    "X_train, X_test, y_train, y_test = train_test_split(X, y, test_size=0.3, random_state=1)"
   ]
  },
  {
   "cell_type": "code",
   "execution_count": 3,
   "id": "ae8f5f53",
   "metadata": {},
   "outputs": [],
   "source": [
    "from tensorflow.keras import Sequential\n",
    "from tensorflow.keras.layers import Conv2D, MaxPooling2D, Softmax, Flatten, Dense\n",
    "from tensorflow_addons.metrics import F1Score\n",
    "\n",
    "tf.config.list_physical_devices('GPU')\n",
    "def get_compiled_model(input_shape=(25, 25, 1), output_shape=397):\n",
    "    model = Sequential()\n",
    "    model.add(Conv2D(32, (3, 3), activation='relu', kernel_initializer='he_uniform', padding='same', input_shape=input_shape))\n",
    "    model.add(Conv2D(32, (3, 3), activation='relu', kernel_initializer='he_uniform', padding='same'))\n",
    "    model.add(MaxPooling2D((2, 2)))\n",
    "    model.add(Conv2D(64, (3, 3), activation='relu', kernel_initializer='he_uniform', padding='same'))\n",
    "    model.add(Conv2D(64, (3, 3), activation='relu', kernel_initializer='he_uniform', padding='same'))\n",
    "    model.add(MaxPooling2D((2, 2)))\n",
    "    model.add(Conv2D(128, (3, 3), activation='relu', kernel_initializer='he_uniform', padding='same'))\n",
    "    model.add(Conv2D(128, (3, 3), activation='relu', kernel_initializer='he_uniform', padding='same'))\n",
    "    model.add(MaxPooling2D((2, 2)))\n",
    "\n",
    "    model.add(Flatten())\n",
    "    model.add(Dense(128, activation='relu', kernel_initializer='he_uniform'))\n",
    "    model.add(Dense(output_shape, activation='sigmoid'))\n",
    "    \n",
    "    model.compile(optimizer='adam',\n",
    "        loss=tf.keras.losses.BinaryCrossentropy(from_logits=True),\n",
    "        metrics=['accuracy', F1Score(num_classes=output_shape)])\n",
    "    return model"
   ]
  },
  {
   "cell_type": "code",
   "execution_count": 4,
   "id": "9cd01ea0",
   "metadata": {},
   "outputs": [],
   "source": [
    "train_dataset = tf.data.Dataset.from_tensor_slices((X_train, y_train))\n",
    "test_dataset = tf.data.Dataset.from_tensor_slices((X_test, y_test))"
   ]
  },
  {
   "cell_type": "code",
   "execution_count": 5,
   "id": "fe7fd6ba",
   "metadata": {},
   "outputs": [
    {
     "data": {
      "text/plain": [
       "<TensorSliceDataset shapes: ((25, 25, 1), (397,)), types: (tf.float64, tf.int32)>"
      ]
     },
     "execution_count": 5,
     "metadata": {},
     "output_type": "execute_result"
    }
   ],
   "source": [
    "test_dataset"
   ]
  },
  {
   "cell_type": "code",
   "execution_count": 6,
   "id": "bf51ec3e",
   "metadata": {},
   "outputs": [
    {
     "data": {
      "text/plain": [
       "array([0.14009247, 0.44758779, 0.11341252, 0.90484282, 0.80928323,\n",
       "       0.17205945, 0.32660688, 0.42423805, 0.07691648, 0.96372409,\n",
       "       0.25139674, 0.23020336, 0.10183207, 0.75271075, 0.66294736,\n",
       "       0.05224667, 0.34644137, 0.62732588, 0.93744851, 0.86245542,\n",
       "       0.13717593, 0.53907593, 0.63028656, 0.35624   , 0.28983044,\n",
       "       0.89422294, 0.41920528, 0.26505981, 0.08905806, 0.88042319,\n",
       "       0.06902954, 0.4961369 , 0.17869224, 0.20841709, 0.34677531,\n",
       "       0.64282685, 0.76764489, 0.19284024, 0.07125817, 0.16475455,\n",
       "       0.64153125, 0.24336085, 0.2068749 , 0.87175859, 0.60852436,\n",
       "       0.32433613, 0.45774759, 0.58470478, 0.34626952, 0.98003575,\n",
       "       0.80201956, 0.12912947, 0.72333938, 0.20627572, 0.75945977,\n",
       "       0.34552769, 0.25195099, 0.93693392, 0.88717159, 0.13204305,\n",
       "       0.06631441, 0.62729898, 0.1175419 , 0.07743469, 0.23390558,\n",
       "       0.78497499, 0.07503026, 0.13080363, 0.98720941, 0.04394664,\n",
       "       0.83823952, 0.32812802, 0.41361109, 0.96250122, 0.01676195,\n",
       "       0.53165681, 0.06965404, 0.71838769, 0.1643304 , 0.33060439,\n",
       "       0.15347727, 0.12572709, 0.02743116, 0.69196144, 0.04764716,\n",
       "       0.72310012, 0.56087737, 0.00497143, 0.10679902, 0.0091258 ,\n",
       "       0.7592246 , 0.80223571, 0.64704122, 0.80977559, 0.54897379,\n",
       "       0.56252845, 0.26470923, 0.16261287, 0.60619944, 0.21539266])"
      ]
     },
     "execution_count": 6,
     "metadata": {},
     "output_type": "execute_result"
    }
   ],
   "source": [
    "np.random.uniform(size=100)"
   ]
  },
  {
   "cell_type": "code",
   "execution_count": 8,
   "id": "09dc1181",
   "metadata": {},
   "outputs": [
    {
     "data": {
      "text/plain": [
       "<BatchDataset shapes: ((None, 25, 25, 1), (None, 397)), types: (tf.float64, tf.int32)>"
      ]
     },
     "execution_count": 8,
     "metadata": {},
     "output_type": "execute_result"
    }
   ],
   "source": [
    "# https://github.com/tensorpack/tensorpack/blob/5845ead80e3d77c89e2f1e9d5e0691324a8354cc/examples/ResNet/cifar10-preact18-mixup.py#L101-L118\n",
    "\n",
    "def _mixup(x_in, y_in):\n",
    "    n = x_in.shape[0]\n",
    "    # draw from uniform instead of beta(alpha, alpha, BATCH_SIZE)\n",
    "    w = np.random.uniform(0.3, 0.7, size=n)\n",
    "    x_weight = w.reshape(n, 1, 1, 1)\n",
    "    index = np.random.permutation(n)\n",
    "\n",
    "    x = x_in * x_weight + x_in[index] * (1-x_weight)\n",
    "    y = y_in + y_in[index]\n",
    "    return x, y\n",
    "\n",
    "@tf.function(input_signature=[\n",
    "    tf.TensorSpec(None, tf.float64), \n",
    "    tf.TensorSpec(None, tf.int32), \n",
    "])\n",
    "def mixup(x_in, y_in):\n",
    "    x, y = tf.numpy_function(_mixup, [x_in, y_in], [tf.float64, tf.int32])\n",
    "    return tf.data.Dataset.from_tensor_slices((\n",
    "        tf.reshape(x, [-1, 25,25,1]), \n",
    "        tf.reshape(y, [-1, 397])\n",
    "    ))\n",
    "\n",
    "def add_mixup(dataset, batch_size=1024):\n",
    "    return (\n",
    "        dataset\n",
    "        .window(batch_size)\n",
    "        .flat_map(lambda x, y: tf.data.Dataset.zip((x.batch(batch_size), y.batch(batch_size))))\n",
    "        .map(mixup)\n",
    "        .flat_map(lambda x: x)\n",
    "        .batch(batch_size)\n",
    "    )\n",
    "\n",
    "add_mixup(test_dataset)"
   ]
  },
  {
   "cell_type": "code",
   "execution_count": 9,
   "id": "b838ce83",
   "metadata": {},
   "outputs": [
    {
     "name": "stdout",
     "output_type": "stream",
     "text": [
      "Model: \"sequential\"\n",
      "_________________________________________________________________\n",
      "Layer (type)                 Output Shape              Param #   \n",
      "=================================================================\n",
      "conv2d (Conv2D)              (None, 25, 25, 32)        320       \n",
      "_________________________________________________________________\n",
      "conv2d_1 (Conv2D)            (None, 25, 25, 32)        9248      \n",
      "_________________________________________________________________\n",
      "max_pooling2d (MaxPooling2D) (None, 12, 12, 32)        0         \n",
      "_________________________________________________________________\n",
      "conv2d_2 (Conv2D)            (None, 12, 12, 64)        18496     \n",
      "_________________________________________________________________\n",
      "conv2d_3 (Conv2D)            (None, 12, 12, 64)        36928     \n",
      "_________________________________________________________________\n",
      "max_pooling2d_1 (MaxPooling2 (None, 6, 6, 64)          0         \n",
      "_________________________________________________________________\n",
      "conv2d_4 (Conv2D)            (None, 6, 6, 128)         73856     \n",
      "_________________________________________________________________\n",
      "conv2d_5 (Conv2D)            (None, 6, 6, 128)         147584    \n",
      "_________________________________________________________________\n",
      "max_pooling2d_2 (MaxPooling2 (None, 3, 3, 128)         0         \n",
      "_________________________________________________________________\n",
      "flatten (Flatten)            (None, 1152)              0         \n",
      "_________________________________________________________________\n",
      "dense (Dense)                (None, 128)               147584    \n",
      "_________________________________________________________________\n",
      "dense_1 (Dense)              (None, 397)               51213     \n",
      "=================================================================\n",
      "Total params: 485,229\n",
      "Trainable params: 485,229\n",
      "Non-trainable params: 0\n",
      "_________________________________________________________________\n"
     ]
    }
   ],
   "source": [
    "model = get_compiled_model()\n",
    "model.summary()"
   ]
  },
  {
   "cell_type": "code",
   "execution_count": 120,
   "id": "ae65584d",
   "metadata": {},
   "outputs": [
    {
     "name": "stdout",
     "output_type": "stream",
     "text": [
      "Epoch 1/50\n",
      "432/432 [==============================] - 33s 75ms/step - loss: 0.0918 - accuracy: 0.0136 - f1_score: 6.1367e-04 - val_loss: 0.0174 - val_accuracy: 0.0175 - val_f1_score: 7.6621e-04\n",
      "Epoch 2/50\n",
      "432/432 [==============================] - 33s 76ms/step - loss: 0.0303 - accuracy: 0.0192 - f1_score: 0.0010 - val_loss: 0.0173 - val_accuracy: 0.0210 - val_f1_score: 9.3144e-04\n",
      "Epoch 3/50\n",
      "432/432 [==============================] - 33s 77ms/step - loss: 0.0302 - accuracy: 0.0231 - f1_score: 0.0015 - val_loss: 0.0174 - val_accuracy: 0.0230 - val_f1_score: 0.0019\n",
      "Epoch 4/50\n",
      "432/432 [==============================] - 31s 72ms/step - loss: 0.0301 - accuracy: 0.0272 - f1_score: 0.0027 - val_loss: 0.0170 - val_accuracy: 0.0251 - val_f1_score: 0.0024\n",
      "Epoch 5/50\n",
      "432/432 [==============================] - 31s 72ms/step - loss: 0.0300 - accuracy: 0.0287 - f1_score: 0.0033 - val_loss: 0.0170 - val_accuracy: 0.0285 - val_f1_score: 0.0039\n",
      "Epoch 6/50\n",
      "432/432 [==============================] - 31s 71ms/step - loss: 0.0299 - accuracy: 0.0300 - f1_score: 0.0043 - val_loss: 0.0169 - val_accuracy: 0.0307 - val_f1_score: 0.0056\n",
      "Epoch 7/50\n",
      "432/432 [==============================] - 30s 70ms/step - loss: 0.0298 - accuracy: 0.0315 - f1_score: 0.0056 - val_loss: 0.0169 - val_accuracy: 0.0337 - val_f1_score: 0.0069\n",
      "Epoch 8/50\n",
      "432/432 [==============================] - 32s 73ms/step - loss: 0.0298 - accuracy: 0.0331 - f1_score: 0.0068 - val_loss: 0.0168 - val_accuracy: 0.0355 - val_f1_score: 0.0079\n",
      "Epoch 9/50\n",
      "432/432 [==============================] - 30s 70ms/step - loss: 0.0297 - accuracy: 0.0344 - f1_score: 0.0080 - val_loss: 0.0169 - val_accuracy: 0.0386 - val_f1_score: 0.0095\n",
      "Epoch 10/50\n",
      "432/432 [==============================] - 30s 70ms/step - loss: 0.0296 - accuracy: 0.0353 - f1_score: 0.0092 - val_loss: 0.0166 - val_accuracy: 0.0383 - val_f1_score: 0.0102\n",
      "Epoch 11/50\n",
      "432/432 [==============================] - 31s 71ms/step - loss: 0.0296 - accuracy: 0.0355 - f1_score: 0.0104 - val_loss: 0.0166 - val_accuracy: 0.0415 - val_f1_score: 0.0117\n",
      "Epoch 12/50\n",
      "432/432 [==============================] - 30s 70ms/step - loss: 0.0295 - accuracy: 0.0367 - f1_score: 0.0116 - val_loss: 0.0167 - val_accuracy: 0.0417 - val_f1_score: 0.0123\n",
      "Epoch 13/50\n",
      "432/432 [==============================] - 31s 72ms/step - loss: 0.0295 - accuracy: 0.0380 - f1_score: 0.0127 - val_loss: 0.0168 - val_accuracy: 0.0419 - val_f1_score: 0.0132\n",
      "Epoch 14/50\n",
      "432/432 [==============================] - 32s 73ms/step - loss: 0.0294 - accuracy: 0.0395 - f1_score: 0.0137 - val_loss: 0.0166 - val_accuracy: 0.0471 - val_f1_score: 0.0156\n",
      "Epoch 15/50\n",
      "432/432 [==============================] - 30s 70ms/step - loss: 0.0294 - accuracy: 0.0395 - f1_score: 0.0145 - val_loss: 0.0166 - val_accuracy: 0.0464 - val_f1_score: 0.0169\n",
      "Epoch 16/50\n",
      "432/432 [==============================] - 31s 71ms/step - loss: 0.0293 - accuracy: 0.0401 - f1_score: 0.0156 - val_loss: 0.0165 - val_accuracy: 0.0472 - val_f1_score: 0.0174\n",
      "Epoch 17/50\n",
      "432/432 [==============================] - 31s 71ms/step - loss: 0.0293 - accuracy: 0.0404 - f1_score: 0.0168 - val_loss: 0.0164 - val_accuracy: 0.0498 - val_f1_score: 0.0192\n",
      "Epoch 18/50\n",
      "432/432 [==============================] - 32s 74ms/step - loss: 0.0293 - accuracy: 0.0415 - f1_score: 0.0178 - val_loss: 0.0166 - val_accuracy: 0.0510 - val_f1_score: 0.0204\n",
      "Epoch 19/50\n",
      "432/432 [==============================] - 31s 71ms/step - loss: 0.0292 - accuracy: 0.0419 - f1_score: 0.0185 - val_loss: 0.0165 - val_accuracy: 0.0505 - val_f1_score: 0.0213\n",
      "Epoch 20/50\n",
      "432/432 [==============================] - 31s 71ms/step - loss: 0.0292 - accuracy: 0.0430 - f1_score: 0.0197 - val_loss: 0.0164 - val_accuracy: 0.0523 - val_f1_score: 0.0219\n",
      "Epoch 21/50\n",
      "432/432 [==============================] - 31s 72ms/step - loss: 0.0292 - accuracy: 0.0435 - f1_score: 0.0208 - val_loss: 0.0165 - val_accuracy: 0.0532 - val_f1_score: 0.0221\n",
      "Epoch 22/50\n",
      "432/432 [==============================] - 31s 72ms/step - loss: 0.0291 - accuracy: 0.0436 - f1_score: 0.0210 - val_loss: 0.0164 - val_accuracy: 0.0552 - val_f1_score: 0.0238\n",
      "Epoch 23/50\n",
      "432/432 [==============================] - 30s 70ms/step - loss: 0.0291 - accuracy: 0.0436 - f1_score: 0.0219 - val_loss: 0.0165 - val_accuracy: 0.0537 - val_f1_score: 0.0236\n",
      "Epoch 24/50\n",
      "432/432 [==============================] - 30s 69ms/step - loss: 0.0291 - accuracy: 0.0455 - f1_score: 0.0228 - val_loss: 0.0165 - val_accuracy: 0.0549 - val_f1_score: 0.0253\n",
      "Epoch 25/50\n",
      "432/432 [==============================] - 30s 69ms/step - loss: 0.0291 - accuracy: 0.0458 - f1_score: 0.0236 - val_loss: 0.0165 - val_accuracy: 0.0568 - val_f1_score: 0.0270\n",
      "Epoch 26/50\n",
      "432/432 [==============================] - 30s 69ms/step - loss: 0.0291 - accuracy: 0.0455 - f1_score: 0.0241 - val_loss: 0.0165 - val_accuracy: 0.0578 - val_f1_score: 0.0276\n",
      "Epoch 27/50\n",
      "432/432 [==============================] - 30s 70ms/step - loss: 0.0290 - accuracy: 0.0467 - f1_score: 0.0250 - val_loss: 0.0164 - val_accuracy: 0.0586 - val_f1_score: 0.0278\n",
      "Epoch 28/50\n",
      "432/432 [==============================] - 31s 72ms/step - loss: 0.0290 - accuracy: 0.0467 - f1_score: 0.0256 - val_loss: 0.0162 - val_accuracy: 0.0617 - val_f1_score: 0.0300\n",
      "Epoch 29/50\n",
      "432/432 [==============================] - 30s 70ms/step - loss: 0.0290 - accuracy: 0.0475 - f1_score: 0.0265 - val_loss: 0.0162 - val_accuracy: 0.0595 - val_f1_score: 0.0293\n",
      "Epoch 30/50\n",
      "432/432 [==============================] - 30s 70ms/step - loss: 0.0290 - accuracy: 0.0485 - f1_score: 0.0273 - val_loss: 0.0163 - val_accuracy: 0.0597 - val_f1_score: 0.0301\n",
      "Epoch 31/50\n",
      "432/432 [==============================] - 30s 69ms/step - loss: 0.0289 - accuracy: 0.0488 - f1_score: 0.0277 - val_loss: 0.0163 - val_accuracy: 0.0600 - val_f1_score: 0.0296\n",
      "Epoch 32/50\n",
      "432/432 [==============================] - 30s 70ms/step - loss: 0.0289 - accuracy: 0.0487 - f1_score: 0.0282 - val_loss: 0.0161 - val_accuracy: 0.0607 - val_f1_score: 0.0304\n",
      "Epoch 33/50\n",
      "432/432 [==============================] - 30s 69ms/step - loss: 0.0289 - accuracy: 0.0492 - f1_score: 0.0288 - val_loss: 0.0162 - val_accuracy: 0.0633 - val_f1_score: 0.0325\n",
      "Epoch 34/50\n",
      "432/432 [==============================] - 30s 69ms/step - loss: 0.0289 - accuracy: 0.0507 - f1_score: 0.0300 - val_loss: 0.0163 - val_accuracy: 0.0623 - val_f1_score: 0.0318\n",
      "Epoch 35/50\n",
      "432/432 [==============================] - 30s 69ms/step - loss: 0.0289 - accuracy: 0.0504 - f1_score: 0.0306 - val_loss: 0.0162 - val_accuracy: 0.0655 - val_f1_score: 0.0346\n",
      "Epoch 36/50\n",
      "432/432 [==============================] - 30s 69ms/step - loss: 0.0288 - accuracy: 0.0506 - f1_score: 0.0313 - val_loss: 0.0163 - val_accuracy: 0.0632 - val_f1_score: 0.0324\n",
      "Epoch 37/50\n",
      "432/432 [==============================] - 32s 74ms/step - loss: 0.0288 - accuracy: 0.0512 - f1_score: 0.0321 - val_loss: 0.0162 - val_accuracy: 0.0643 - val_f1_score: 0.0331\n",
      "Epoch 38/50\n",
      "432/432 [==============================] - 31s 71ms/step - loss: 0.0288 - accuracy: 0.0512 - f1_score: 0.0322 - val_loss: 0.0162 - val_accuracy: 0.0633 - val_f1_score: 0.0332\n",
      "Epoch 39/50\n",
      "432/432 [==============================] - 30s 69ms/step - loss: 0.0288 - accuracy: 0.0533 - f1_score: 0.0336 - val_loss: 0.0161 - val_accuracy: 0.0671 - val_f1_score: 0.0366\n",
      "Epoch 40/50\n",
      "432/432 [==============================] - 30s 69ms/step - loss: 0.0288 - accuracy: 0.0524 - f1_score: 0.0333 - val_loss: 0.0161 - val_accuracy: 0.0665 - val_f1_score: 0.0360\n",
      "Epoch 41/50\n",
      "432/432 [==============================] - 30s 69ms/step - loss: 0.0288 - accuracy: 0.0536 - f1_score: 0.0343 - val_loss: 0.0162 - val_accuracy: 0.0666 - val_f1_score: 0.0356\n",
      "Epoch 42/50\n",
      "432/432 [==============================] - 30s 69ms/step - loss: 0.0288 - accuracy: 0.0536 - f1_score: 0.0345 - val_loss: 0.0161 - val_accuracy: 0.0686 - val_f1_score: 0.0369\n",
      "Epoch 43/50\n",
      "432/432 [==============================] - 31s 72ms/step - loss: 0.0287 - accuracy: 0.0540 - f1_score: 0.0355 - val_loss: 0.0161 - val_accuracy: 0.0681 - val_f1_score: 0.0366\n",
      "Epoch 44/50\n",
      "432/432 [==============================] - 31s 72ms/step - loss: 0.0287 - accuracy: 0.0550 - f1_score: 0.0360 - val_loss: 0.0161 - val_accuracy: 0.0689 - val_f1_score: 0.0375\n",
      "Epoch 45/50\n",
      "432/432 [==============================] - 33s 75ms/step - loss: 0.0287 - accuracy: 0.0545 - f1_score: 0.0364 - val_loss: 0.0160 - val_accuracy: 0.0691 - val_f1_score: 0.0379\n",
      "Epoch 46/50\n",
      "432/432 [==============================] - 32s 73ms/step - loss: 0.0287 - accuracy: 0.0546 - f1_score: 0.0366 - val_loss: 0.0161 - val_accuracy: 0.0697 - val_f1_score: 0.0385\n",
      "Epoch 47/50\n",
      "432/432 [==============================] - 31s 72ms/step - loss: 0.0287 - accuracy: 0.0555 - f1_score: 0.0375 - val_loss: 0.0161 - val_accuracy: 0.0701 - val_f1_score: 0.0386\n",
      "Epoch 48/50\n",
      "432/432 [==============================] - 30s 70ms/step - loss: 0.0287 - accuracy: 0.0555 - f1_score: 0.0380 - val_loss: 0.0160 - val_accuracy: 0.0724 - val_f1_score: 0.0403\n",
      "Epoch 49/50\n",
      "432/432 [==============================] - 30s 69ms/step - loss: 0.0287 - accuracy: 0.0553 - f1_score: 0.0379 - val_loss: 0.0160 - val_accuracy: 0.0706 - val_f1_score: 0.0392\n",
      "Epoch 50/50\n",
      "432/432 [==============================] - 30s 70ms/step - loss: 0.0287 - accuracy: 0.0559 - f1_score: 0.0385 - val_loss: 0.0161 - val_accuracy: 0.0690 - val_f1_score: 0.0389\n"
     ]
    }
   ],
   "source": [
    "history = model.fit(add_mixup(train_dataset), epochs=50, validation_data=test_dataset.batch(1024))"
   ]
  },
  {
   "cell_type": "code",
   "execution_count": 121,
   "id": "53be656e",
   "metadata": {},
   "outputs": [
    {
     "data": {
      "image/png": "[encoded data removed]",
      "text/plain": [
       "<Figure size 432x288 with 1 Axes>"
      ]
     },
     "metadata": {
      "needs_background": "light"
     },
     "output_type": "display_data"
    },
    {
     "data": {
      "image/png": "[encoded data removed]",
      "text/plain": [
       "<Figure size 432x288 with 1 Axes>"
      ]
     },
     "metadata": {
      "needs_background": "light"
     },
     "output_type": "display_data"
    },
    {
     "data": {
      "image/png": "[encoded data removed]",
      "text/plain": [
       "<Figure size 432x288 with 1 Axes>"
      ]
     },
     "metadata": {
      "needs_background": "light"
     },
     "output_type": "display_data"
    },
    {
     "name": "stdout",
     "output_type": "stream",
     "text": [
      "5914/5914 - 26s - loss: 0.0161 - accuracy: 0.0690 - f1_score: 0.0389\n"
     ]
    },
    {
     "data": {
      "text/plain": [
       "[0.01613907516002655,\n",
       " 0.06904423236846924,\n",
       " array([0.        , 0.00914634, 0.12081985, 0.        , 0.01282051,\n",
       "        0.        , 0.        , 0.        , 0.00469484, 0.10990368,\n",
       "        0.        , 0.        , 0.01992337, 0.        , 0.04623514,\n",
       "        0.        , 0.        , 0.        , 0.        , 0.01156069,\n",
       "        0.03292181, 0.        , 0.09079755, 0.12918994, 0.        ,\n",
       "        0.01058201, 0.0041841 , 0.0700637 , 0.        , 0.04456094,\n",
       "        0.        , 0.00324149, 0.0557047 , 0.06451613, 0.        ,\n",
       "        0.02830189, 0.04577465, 0.02514286, 0.17944534, 0.        ,\n",
       "        0.06185567, 0.04928806, 0.03100775, 0.02272727, 0.        ,\n",
       "        0.05291006, 0.07741936, 0.05513016, 0.03483607, 0.12176106,\n",
       "        0.02302632, 0.        , 0.01666667, 0.        , 0.20549928,\n",
       "        0.09024134, 0.        , 0.08053692, 0.03611111, 0.05084746,\n",
       "        0.02392681, 0.17339902, 0.03      , 0.        , 0.01355932,\n",
       "        0.0472441 , 0.0802213 , 0.        , 0.00815217, 0.        ,\n",
       "        0.00346021, 0.06275957, 0.05923836, 0.        , 0.        ,\n",
       "        0.        , 0.26666668, 0.1535649 , 0.        , 0.        ,\n",
       "        0.00963856, 0.        , 0.        , 0.02774566, 0.0421456 ,\n",
       "        0.07798743, 0.        , 0.        , 0.01910828, 0.01814882,\n",
       "        0.00813008, 0.1306436 , 0.0104712 , 0.0625    , 0.16734144,\n",
       "        0.06126483, 0.06678382, 0.06214689, 0.        , 0.01468429,\n",
       "        0.        , 0.00652529, 0.06564551, 0.10663508, 0.        ,\n",
       "        0.07988166, 0.        , 0.00473934, 0.0367347 , 0.        ,\n",
       "        0.0688422 , 0.08065721, 0.05829596, 0.00164609, 0.08311688,\n",
       "        0.01818182, 0.        , 0.04347826, 0.        , 0.12154697,\n",
       "        0.06322355, 0.08906882, 0.02070393, 0.1049896 , 0.        ,\n",
       "        0.03271028, 0.00787402, 0.00520156, 0.00657895, 0.0155642 ,\n",
       "        0.02169197, 0.11654136, 0.11758639, 0.05346062, 0.15426809,\n",
       "        0.05345912, 0.        , 0.00824176, 0.05177994, 0.        ,\n",
       "        0.09950249, 0.        , 0.04      , 0.        , 0.        ,\n",
       "        0.03030303, 0.05166052, 0.        , 0.11131726, 0.04408818,\n",
       "        0.04229607, 0.        , 0.        , 0.00734394, 0.        ,\n",
       "        0.0861244 , 0.0113852 , 0.        , 0.02173913, 0.24328434,\n",
       "        0.01926164, 0.0913242 , 0.00873362, 0.        , 0.14025305,\n",
       "        0.        , 0.05473684, 0.00593472, 0.00525394, 0.        ,\n",
       "        0.13832854, 0.        , 0.        , 0.00632911, 0.06802237,\n",
       "        0.11827957, 0.17741936, 0.        , 0.00225225, 0.10031949,\n",
       "        0.04103165, 0.        , 0.03327172, 0.02994012, 0.14925373,\n",
       "        0.05464481, 0.01680672, 0.        , 0.30056036, 0.        ,\n",
       "        0.01066667, 0.00796813, 0.        , 0.01221374, 0.        ,\n",
       "        0.03021148, 0.        , 0.004329  , 0.11752889, 0.        ,\n",
       "        0.17955555, 0.04097311, 0.        , 0.02298851, 0.09078404,\n",
       "        0.16225749, 0.05630865, 0.09766277, 0.00332502, 0.04040404,\n",
       "        0.01820546, 0.        , 0.        , 0.16475494, 0.125969  ,\n",
       "        0.00854701, 0.        , 0.        , 0.        , 0.        ,\n",
       "        0.05803003, 0.03418803, 0.07990616, 0.06289309, 0.        ,\n",
       "        0.01769912, 0.05797102, 0.        , 0.02366864, 0.03863636,\n",
       "        0.04030227, 0.00636943, 0.        , 0.        , 0.05325444,\n",
       "        0.01754386, 0.        , 0.        , 0.00867679, 0.1032666 ,\n",
       "        0.01744186, 0.        , 0.        , 0.        , 0.1056338 ,\n",
       "        0.        , 0.        , 0.06802721, 0.        , 0.0041841 ,\n",
       "        0.        , 0.        , 0.00654664, 0.13270776, 0.05984252,\n",
       "        0.        , 0.        , 0.01574803, 0.02285714, 0.        ,\n",
       "        0.        , 0.08620689, 0.04166667, 0.        , 0.02545069,\n",
       "        0.05268293, 0.        , 0.1446384 , 0.0495356 , 0.        ,\n",
       "        0.03361345, 0.        , 0.        , 0.03387743, 0.        ,\n",
       "        0.00573066, 0.02305475, 0.        , 0.04      , 0.        ,\n",
       "        0.02321725, 0.03865546, 0.124197  , 0.        , 0.0835073 ,\n",
       "        0.0333575 , 0.0412844 , 0.01766784, 0.09605489, 0.00638978,\n",
       "        0.0137931 , 0.01709402, 0.08767124, 0.        , 0.        ,\n",
       "        0.        , 0.03532609, 0.        , 0.09090909, 0.1369863 ,\n",
       "        0.        , 0.08835341, 0.09020437, 0.02318841, 0.        ,\n",
       "        0.        , 0.        , 0.00796813, 0.        , 0.        ,\n",
       "        0.00632911, 0.2892562 , 0.05925925, 0.01092896, 0.        ,\n",
       "        0.05134872, 0.08544304, 0.        , 0.07103825, 0.        ,\n",
       "        0.        , 0.09297375, 0.01449275, 0.01081081, 0.        ,\n",
       "        0.15990007, 0.        , 0.        , 0.        , 0.01606426,\n",
       "        0.0735786 , 0.04700855, 0.06421088, 0.03043479, 0.06557377,\n",
       "        0.07591241, 0.        , 0.        , 0.        , 0.        ,\n",
       "        0.09864757, 0.        , 0.03203661, 0.02739726, 0.1321267 ,\n",
       "        0.05084746, 0.01008403, 0.        , 0.0989011 , 0.1091627 ,\n",
       "        0.01436782, 0.        , 0.        , 0.00497512, 0.06113537,\n",
       "        0.01162791, 0.05787349, 0.09315866, 0.14167652, 0.05959032,\n",
       "        0.08020304, 0.        , 0.03412969, 0.03344482, 0.10747872,\n",
       "        0.03868472, 0.05314961, 0.        , 0.15182649, 0.08986083,\n",
       "        0.03424657, 0.21995926, 0.00746269, 0.        , 0.05944056,\n",
       "        0.        , 0.        , 0.        , 0.0563204 , 0.05992509,\n",
       "        0.        , 0.06153846, 0.08284023, 0.        , 0.05294118,\n",
       "        0.        , 0.00865801, 0.0137931 , 0.06857143, 0.00992556,\n",
       "        0.08362369, 0.04518072, 0.04048583, 0.        , 0.        ,\n",
       "        0.        , 0.00696864], dtype=float32)]"
      ]
     },
     "execution_count": 121,
     "metadata": {},
     "output_type": "execute_result"
    }
   ],
   "source": [
    "import matplotlib.pyplot as plt\n",
    "\n",
    "plt.plot(history.history['accuracy'], label='train')\n",
    "plt.plot(history.history['val_accuracy'], label='test')\n",
    "plt.xlabel('Epoch')\n",
    "plt.ylabel('Accuracy')\n",
    "plt.legend()\n",
    "plt.show()\n",
    "\n",
    "plt.plot([x.mean() for x in history.history['f1_score']], label='train')\n",
    "plt.plot([x.mean() for x in history.history['val_f1_score']], label='test')\n",
    "plt.xlabel('Epoch')\n",
    "plt.ylabel('F1 Score')\n",
    "plt.legend()\n",
    "plt.show()\n",
    "\n",
    "plt.plot(history.history[\"loss\"], label=\"train\")\n",
    "plt.plot(history.history[\"val_loss\"], label=\"test\")\n",
    "plt.xlabel(\"Epoch\")\n",
    "plt.ylabel(\"loss\")\n",
    "plt.legend()\n",
    "plt.show()\n",
    "\n",
    "model.evaluate(X_test, y_test, verbose=2)"
   ]
  }
 ],
 "metadata": {
  "kernelspec": {
   "display_name": "Python 3",
   "language": "python",
   "name": "python3"
  },
  "language_info": {
   "codemirror_mode": {
    "name": "ipython",
    "version": 3
   },
   "file_extension": ".py",
   "mimetype": "text/x-python",
   "name": "python",
   "nbconvert_exporter": "python",
   "pygments_lexer": "ipython3",
   "version": "3.8.9"
  }
 },
 "nbformat": 4,
 "nbformat_minor": 5
}
