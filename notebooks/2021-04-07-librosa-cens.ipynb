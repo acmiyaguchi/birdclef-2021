{
 "cells": [
  {
   "cell_type": "code",
   "execution_count": 3,
   "id": "d6d38158",
   "metadata": {},
   "outputs": [],
   "source": [
    "import librosa\n",
    "\n",
    "path = \"../data/input/train_short_audio/acafly/XC109605.ogg\"\n",
    "data, sample_rate = librosa.load(path)"
   ]
  },
  {
   "cell_type": "code",
   "execution_count": 4,
   "id": "6cf03095",
   "metadata": {},
   "outputs": [
    {
     "data": {
      "text/plain": [
       "(array([-3.4471168e-07,  3.6376243e-06, -1.5128242e-06,  6.1439500e-06,\n",
       "        -2.2385304e-05, -1.7057277e-05, -1.0762281e-05,  1.1271412e-05,\n",
       "         5.1328945e-05, -3.3794720e-05], dtype=float32),\n",
       " 22050)"
      ]
     },
     "execution_count": 4,
     "metadata": {},
     "output_type": "execute_result"
    }
   ],
   "source": [
    "data[:10], sample_rate"
   ]
  },
  {
   "cell_type": "code",
   "execution_count": 5,
   "id": "b79c1a1b",
   "metadata": {},
   "outputs": [
    {
     "data": {
      "text/plain": [
       "(12, 2743)"
      ]
     },
     "execution_count": 5,
     "metadata": {},
     "output_type": "execute_result"
    }
   ],
   "source": [
    "# create data at 2 CENS/second\n",
    "\n",
    "cens = librosa.feature.chroma_cens(data, sample_rate)\n",
    "cens.shape"
   ]
  },
  {
   "cell_type": "code",
   "execution_count": 6,
   "id": "b845b7d1",
   "metadata": {},
   "outputs": [
    {
     "data": {
      "text/plain": [
       "63.67460317460318"
      ]
     },
     "execution_count": 6,
     "metadata": {},
     "output_type": "execute_result"
    }
   ],
   "source": [
    "data.shape[0]/sample_rate"
   ]
  },
  {
   "cell_type": "code",
   "execution_count": 7,
   "id": "2fa578ef",
   "metadata": {},
   "outputs": [
    {
     "data": {
      "text/plain": [
       "array([344, 172, 114,  86,  68,  57,  49,  43,  38,  34,  31,  28,  26,\n",
       "        24,  22,  21,  20,  19,  18,  17,  16,  15,  14,  14,  13,  13,\n",
       "        12,  12,  11,  11,  11,  10,  10,  10,   9,   9,   9,   9,   8,\n",
       "         8,   8,   8,   8,   7,   7,   7,   7,   7,   7], dtype=int32)"
      ]
     },
     "execution_count": 7,
     "metadata": {},
     "output_type": "execute_result"
    }
   ],
   "source": [
    "import numpy as np\n",
    "sample_rate // ((np.arange(1,50) * (2 ** 6)))"
   ]
  },
  {
   "cell_type": "markdown",
   "id": "b979c0b6",
   "metadata": {},
   "source": [
    "The hop length of CENS needs to be a factor of `2**6` (as per https://github.com/librosa/librosa/issues/658), so lets figure out how to handle this such that the number of CENS is betwen 2-10."
   ]
  },
  {
   "cell_type": "code",
   "execution_count": 8,
   "id": "c379e072",
   "metadata": {},
   "outputs": [
    {
     "data": {
      "text/plain": [
       "172"
      ]
     },
     "execution_count": 8,
     "metadata": {},
     "output_type": "execute_result"
    }
   ],
   "source": [
    "sample_rate//(2*(2**6))"
   ]
  },
  {
   "cell_type": "code",
   "execution_count": 9,
   "id": "be63b927",
   "metadata": {},
   "outputs": [],
   "source": [
    "def cens_per_sec(sample_rate, target):\n",
    "    \"\"\"Ensure this value is a multiple of 2**6\"\"\"\n",
    "    return (sample_rate // (target * (2 ** 6))) * (2 ** 6)"
   ]
  },
  {
   "cell_type": "code",
   "execution_count": 10,
   "id": "f1bc4281",
   "metadata": {},
   "outputs": [
    {
     "data": {
      "text/plain": [
       "(12, 646)"
      ]
     },
     "execution_count": 10,
     "metadata": {},
     "output_type": "execute_result"
    }
   ],
   "source": [
    "cens = librosa.feature.chroma_cens(data, sample_rate, hop_length=cens_per_sec(sample_rate, 10))\n",
    "cens.shape"
   ]
  },
  {
   "cell_type": "code",
   "execution_count": 11,
   "id": "e16775c2",
   "metadata": {},
   "outputs": [
    {
     "data": {
      "text/plain": [
       "array([[0.31563735, 0.31980844, 0.32348983, ..., 0.439828  , 0.44406454,\n",
       "        0.44769552],\n",
       "       [0.27548214, 0.27980544, 0.28418478, ..., 0.24253469, 0.24275353,\n",
       "        0.2430237 ],\n",
       "       [0.37096724, 0.36626072, 0.36172988, ..., 0.25960682, 0.26029104,\n",
       "        0.26095763],\n",
       "       ...,\n",
       "       [0.35168645, 0.35078216, 0.34977211, ..., 0.24939341, 0.24826283,\n",
       "        0.24730621],\n",
       "       [0.35871711, 0.35795742, 0.35734785, ..., 0.32238248, 0.32164403,\n",
       "        0.32120328],\n",
       "       [0.26860333, 0.27073335, 0.27259668, ..., 0.36116633, 0.35543203,\n",
       "        0.34967384]])"
      ]
     },
     "execution_count": 11,
     "metadata": {},
     "output_type": "execute_result"
    }
   ],
   "source": [
    "cens"
   ]
  },
  {
   "cell_type": "code",
   "execution_count": 13,
   "id": "21e63a52",
   "metadata": {},
   "outputs": [],
   "source": [
    "from pathlib import Path\n",
    "\n",
    "cens_dir = Path(\"../data/cens\")\n",
    "output = cens_dir / Path(path).relative_to(\"../data/input\").as_posix().replace(\".ogg\", \".npy\")\n",
    "output.parent.mkdir(exist_ok=True, parents=True)\n",
    "np.save(output.as_posix(), cens)"
   ]
  }
 ],
 "metadata": {
  "kernelspec": {
   "display_name": "Python 3",
   "language": "python",
   "name": "python3"
  },
  "language_info": {
   "codemirror_mode": {
    "name": "ipython",
    "version": 3
   },
   "file_extension": ".py",
   "mimetype": "text/x-python",
   "name": "python",
   "nbconvert_exporter": "python",
   "pygments_lexer": "ipython3",
   "version": "3.8.8"
  }
 },
 "nbformat": 4,
 "nbformat_minor": 5
}
